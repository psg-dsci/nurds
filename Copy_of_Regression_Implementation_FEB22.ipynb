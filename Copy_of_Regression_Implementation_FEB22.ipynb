{
  "cells": [
    {
      "cell_type": "markdown",
      "metadata": {
        "id": "view-in-github",
        "colab_type": "text"
      },
      "source": [
        "<a href=\"https://colab.research.google.com/github/psg-dsci/nurds/blob/main/Copy_of_Regression_Implementation_FEB22.ipynb\" target=\"_parent\"><img src=\"https://colab.research.google.com/assets/colab-badge.svg\" alt=\"Open In Colab\"/></a>"
      ]
    },
    {
      "cell_type": "code",
      "execution_count": null,
      "id": "33ac2f0c-b672-4184-8feb-056dd841d828",
      "metadata": {
        "colab": {
          "base_uri": "https://localhost:8080/"
        },
        "id": "33ac2f0c-b672-4184-8feb-056dd841d828",
        "outputId": "f286ea53-85b5-421c-9290-c7c795adc829"
      },
      "outputs": [
        {
          "output_type": "stream",
          "name": "stdout",
          "text": [
            "Requirement already satisfied: requests in /usr/local/lib/python3.10/dist-packages (2.31.0)\n",
            "Requirement already satisfied: charset-normalizer<4,>=2 in /usr/local/lib/python3.10/dist-packages (from requests) (3.3.2)\n",
            "Requirement already satisfied: idna<4,>=2.5 in /usr/local/lib/python3.10/dist-packages (from requests) (3.6)\n",
            "Requirement already satisfied: urllib3<3,>=1.21.1 in /usr/local/lib/python3.10/dist-packages (from requests) (2.0.7)\n",
            "Requirement already satisfied: certifi>=2017.4.17 in /usr/local/lib/python3.10/dist-packages (from requests) (2024.2.2)\n"
          ]
        }
      ],
      "source": [
        "#requests and beautifulsoup\n",
        "!pip install requests"
      ]
    },
    {
      "cell_type": "code",
      "execution_count": null,
      "id": "c0f51381-62eb-4e69-8413-0f58304dd913",
      "metadata": {
        "colab": {
          "base_uri": "https://localhost:8080/"
        },
        "id": "c0f51381-62eb-4e69-8413-0f58304dd913",
        "outputId": "8419b02f-e537-4b81-ef2f-5a4927742cd3"
      },
      "outputs": [
        {
          "output_type": "stream",
          "name": "stdout",
          "text": [
            "Collecting bs4\n",
            "  Downloading bs4-0.0.2-py2.py3-none-any.whl (1.2 kB)\n",
            "Requirement already satisfied: beautifulsoup4 in /usr/local/lib/python3.10/dist-packages (from bs4) (4.12.3)\n",
            "Requirement already satisfied: soupsieve>1.2 in /usr/local/lib/python3.10/dist-packages (from beautifulsoup4->bs4) (2.5)\n",
            "Installing collected packages: bs4\n",
            "Successfully installed bs4-0.0.2\n"
          ]
        }
      ],
      "source": [
        "!pip install bs4"
      ]
    },
    {
      "cell_type": "code",
      "execution_count": null,
      "id": "d7d6aff7-c182-4be0-934f-123b20d0bf7a",
      "metadata": {
        "id": "d7d6aff7-c182-4be0-934f-123b20d0bf7a"
      },
      "outputs": [],
      "source": [
        "#import the libraries\n",
        "import requests"
      ]
    },
    {
      "cell_type": "code",
      "execution_count": null,
      "id": "3d67defa-aa2a-4b51-80ce-3fc3d900a2c7",
      "metadata": {
        "id": "3d67defa-aa2a-4b51-80ce-3fc3d900a2c7"
      },
      "outputs": [],
      "source": [
        "import bs4"
      ]
    },
    {
      "cell_type": "markdown",
      "source": [],
      "metadata": {
        "id": "gLJ417iecxao"
      },
      "id": "gLJ417iecxao"
    },
    {
      "cell_type": "code",
      "execution_count": null,
      "id": "be607d66-17cb-4175-a59c-3374096453a3",
      "metadata": {
        "id": "be607d66-17cb-4175-a59c-3374096453a3"
      },
      "outputs": [],
      "source": [
        "#help(requests)\n",
        "#help(bs4)"
      ]
    },
    {
      "cell_type": "markdown",
      "id": "2b87283f-bc15-462b-bb5a-3bdbc91b38f1",
      "metadata": {
        "id": "2b87283f-bc15-462b-bb5a-3bdbc91b38f1"
      },
      "source": [
        "## Location,Rooms,P_type,Status,Area,Price,Bathrooms,Facing\n",
        "## we have extracted from first page in same process we will go for multiple pages"
      ]
    },
    {
      "cell_type": "code",
      "execution_count": null,
      "id": "b9133093-600b-42ba-9fb1-635f834c3276",
      "metadata": {
        "colab": {
          "base_uri": "https://localhost:8080/"
        },
        "id": "b9133093-600b-42ba-9fb1-635f834c3276",
        "outputId": "1e0432db-aa88-4bf1-c65d-9104a43e5343"
      },
      "outputs": [
        {
          "output_type": "stream",
          "name": "stdout",
          "text": [
            "https://www.makaan.com/vijayawada-residential-property/buy-property-in-vijayawada-city?page=1\n",
            "https://www.makaan.com/vijayawada-residential-property/buy-property-in-vijayawada-city?page=2\n",
            "https://www.makaan.com/vijayawada-residential-property/buy-property-in-vijayawada-city?page=3\n",
            "https://www.makaan.com/vijayawada-residential-property/buy-property-in-vijayawada-city?page=4\n",
            "https://www.makaan.com/vijayawada-residential-property/buy-property-in-vijayawada-city?page=5\n",
            "https://www.makaan.com/vijayawada-residential-property/buy-property-in-vijayawada-city?page=6\n",
            "https://www.makaan.com/vijayawada-residential-property/buy-property-in-vijayawada-city?page=7\n",
            "https://www.makaan.com/vijayawada-residential-property/buy-property-in-vijayawada-city?page=8\n",
            "https://www.makaan.com/vijayawada-residential-property/buy-property-in-vijayawada-city?page=9\n",
            "https://www.makaan.com/vijayawada-residential-property/buy-property-in-vijayawada-city?page=10\n",
            "https://www.makaan.com/vijayawada-residential-property/buy-property-in-vijayawada-city?page=11\n",
            "https://www.makaan.com/vijayawada-residential-property/buy-property-in-vijayawada-city?page=12\n",
            "https://www.makaan.com/vijayawada-residential-property/buy-property-in-vijayawada-city?page=13\n",
            "https://www.makaan.com/vijayawada-residential-property/buy-property-in-vijayawada-city?page=14\n",
            "https://www.makaan.com/vijayawada-residential-property/buy-property-in-vijayawada-city?page=15\n",
            "https://www.makaan.com/vijayawada-residential-property/buy-property-in-vijayawada-city?page=16\n",
            "https://www.makaan.com/vijayawada-residential-property/buy-property-in-vijayawada-city?page=17\n",
            "https://www.makaan.com/vijayawada-residential-property/buy-property-in-vijayawada-city?page=18\n",
            "https://www.makaan.com/vijayawada-residential-property/buy-property-in-vijayawada-city?page=19\n",
            "https://www.makaan.com/vijayawada-residential-property/buy-property-in-vijayawada-city?page=20\n"
          ]
        }
      ],
      "source": [
        "base_url = \"https://www.makaan.com/vijayawada-residential-property/buy-property-in-vijayawada-city?page=\"\n",
        "for i in range(1,21):\n",
        "    url = base_url+str(i)\n",
        "    print(url)"
      ]
    },
    {
      "cell_type": "markdown",
      "id": "64b644f7-1568-4f93-9209-808fa9ee6ad1",
      "metadata": {
        "id": "64b644f7-1568-4f93-9209-808fa9ee6ad1"
      },
      "source": [
        "## Multiple pages Data Extraction"
      ]
    },
    {
      "cell_type": "code",
      "execution_count": null,
      "id": "0ed26f7c-6cc3-42e5-a14b-648170c9626b",
      "metadata": {
        "colab": {
          "base_uri": "https://localhost:8080/"
        },
        "id": "0ed26f7c-6cc3-42e5-a14b-648170c9626b",
        "outputId": "055e961b-addd-4c11-a357-7b457505e76f"
      },
      "outputs": [
        {
          "output_type": "stream",
          "name": "stdout",
          "text": [
            "Scraping Info from Page --> 53\n"
          ]
        }
      ],
      "source": [
        "#we need to extract content from every page and store the data in the list\n",
        "#but if content from one page is extracted (output to be cleared) -->ipython\n",
        "from IPython.display import clear_output\n",
        "import time\n",
        "#create lists to store the data\n",
        "Locations = [];Area =[];Status=[];Price=[]\n",
        "Rooms=[];Bathrooms=[];Facing=[];Type=[]\n",
        "#so now we will follow same pattern which we have done above but for\n",
        "#multiple listings\n",
        "import requests,re\n",
        "from bs4 import BeautifulSoup\n",
        "#we will use base_url and start extracting listings\n",
        "Property_Types = [\"Apartment\",\"Villa\",\"Builder Floor\",\"Residential Plot\",\n",
        "                  \"Independent House\",\"Independent Floor\",\"Studio Apartment\"]\n",
        "#base_url = \"https://www.makaan.com/vijayawada-residential-property/buy-property-in-vijayawada-city?page=\"\n",
        "for i in range(1,54):\n",
        "    url = f'https://www.makaan.com/vijayawada-residential-property/buy-property-in-vijayawada-city?propertyType=apartment,builder-floor,villa,residential-plot,independent-house,studio-apartment&page={i}'\n",
        "    print(f'Scraping Info from Page --> {i}')\n",
        "    clear_output(wait=True) #this will remove the output\n",
        "    time.sleep(3)\n",
        "    #Now we will make connection with each page and extract the contents\n",
        "    d = requests.get(url)\n",
        "    soup = BeautifulSoup(d.text, 'html')\n",
        "    #Now we will go for each listings\n",
        "    #getting location data\n",
        "    a = soup.find_all('span',attrs={'itemprop':'addressLocality'})\n",
        "    for i in a:\n",
        "        Locations.append(i.text)\n",
        "    #Number of Rooms\n",
        "    b = soup.find_all('div',attrs={'class':'title-line'})\n",
        "    for i in b:\n",
        "        i = i.span.text\n",
        "        i = i.replace(\"Residential Plot\",\"0\").replace(\" \",'')\n",
        "        Rooms.append(i)\n",
        "    #Price data\n",
        "    c = soup.find_all('div',attrs={'data-type':'price-link'})\n",
        "    for i in c:\n",
        "        i = i.text.strip()\n",
        "        if \"Cr\" in i:\n",
        "            i = i.replace(\" Cr\",'') #we are replacing \"Cr\" with empty string\n",
        "            i = float(i)*100 #Converting into Lakhs\n",
        "        else:\n",
        "            i = i.replace(\" L\",'')\n",
        "            i = float(i)\n",
        "        Price.append(i)\n",
        "    #Extracting Area\n",
        "    d = soup.find_all('td',attrs={'class':'size'})\n",
        "    for i in d:\n",
        "        Area.append(i.text.strip())\n",
        "    #Bathrooms and Facing listings\n",
        "    e = soup.find_all('ul',attrs={'class':'listing-details'})\n",
        "    for i in e:\n",
        "        i = i.text\n",
        "        bathroom_count = re.findall(r'(\\d+) Bathrooms', i)\n",
        "        if bathroom_count:\n",
        "          Bathrooms.append(int(bathroom_count[0]))\n",
        "        else:\n",
        "          Bathrooms.append('0')\n",
        "        facing_direction = re.findall(r'(North|South|East|West|NorthEast|NorthWest|SouthEast|SouthWest) facing', i)\n",
        "        if facing_direction:\n",
        "          Facing.append(facing_direction[0])\n",
        "        else:\n",
        "          Facing.append('None')\n",
        "    #Status listings\n",
        "    f = soup.find_all('td',attrs={'class':'val'})\n",
        "    for i in f:\n",
        "        Status.append(i.text)\n",
        "    #Property_Types\n",
        "    g = soup.find_all('div',attrs={'class':'title-line'})\n",
        "    for i in g:\n",
        "        i = i.text\n",
        "        #print(i)\n",
        "        for j in Property_Types:\n",
        "            if j in i: #checking for the property_type in the given list\n",
        "            #print(j)\n",
        "                Type.append(j)"
      ]
    },
    {
      "cell_type": "code",
      "execution_count": null,
      "id": "8c345cec-0cd2-402e-b933-dacac4265280",
      "metadata": {
        "colab": {
          "base_uri": "https://localhost:8080/"
        },
        "id": "8c345cec-0cd2-402e-b933-dacac4265280",
        "outputId": "14980884-4c1c-431a-82e1-887be614044f"
      },
      "outputs": [
        {
          "output_type": "stream",
          "name": "stdout",
          "text": [
            "1053\n",
            "1053\n",
            "1053\n",
            "1053\n",
            "1053\n",
            "1053\n",
            "1066\n",
            "1053\n"
          ]
        }
      ],
      "source": [
        "print(len(Locations))\n",
        "print(len(Area))\n",
        "print(len(Bathrooms))\n",
        "print(len(Facing))\n",
        "print(len(Rooms))\n",
        "print(len(Price))\n",
        "print(len(Type))\n",
        "print(len(Status))"
      ]
    },
    {
      "cell_type": "code",
      "execution_count": null,
      "id": "c90dc232-32ea-4017-8d7c-5c9e8382a63b",
      "metadata": {
        "id": "c90dc232-32ea-4017-8d7c-5c9e8382a63b"
      },
      "outputs": [],
      "source": [
        "import pandas as pd\n",
        "#d = pd.DataFrame({'Place':Locations,'Property':Type})\n",
        "#d #as values are more in Type column we need to avoid it"
      ]
    },
    {
      "cell_type": "code",
      "execution_count": null,
      "id": "01117755-b28d-45b7-ae48-63d2baf5bdf9",
      "metadata": {
        "id": "01117755-b28d-45b7-ae48-63d2baf5bdf9"
      },
      "outputs": [],
      "source": [
        "#As in above cells we observe Type column has extra entries so we need to make sure\n",
        "#create a table such that we add Nan values into other cells\n",
        "#according to values in Type column keep it as max_length value\n",
        "max_l = 1070 #this value is accordingly value you have received\n",
        "data = {'Place':Locations,'Area':Area,'Status':Status,\n",
        "        'Rooms':Rooms,'Bathrooms':Bathrooms,'Facing':Facing,\n",
        "        'P_Type':Type,'Price':Price}\n",
        "#from above dictionary we will map according to the max_length of dataframe\n",
        "for key in data.keys():\n",
        "    #print(key)\n",
        "    data[key] += [None] * (max_l- len(data[key]))\n",
        "df = pd.DataFrame(data)\n",
        "#df"
      ]
    },
    {
      "cell_type": "code",
      "execution_count": null,
      "id": "b7b7eff6-dafc-4b26-b647-f708a7dcb350",
      "metadata": {
        "colab": {
          "base_uri": "https://localhost:8080/"
        },
        "id": "b7b7eff6-dafc-4b26-b647-f708a7dcb350",
        "outputId": "1205743b-ff8b-4a7d-b4bf-5e253fcebf75"
      },
      "outputs": [
        {
          "output_type": "execute_result",
          "data": {
            "text/plain": [
              "Place        17\n",
              "Area         17\n",
              "Status       17\n",
              "Rooms        17\n",
              "Bathrooms    17\n",
              "Facing       17\n",
              "P_Type        4\n",
              "Price        17\n",
              "dtype: int64"
            ]
          },
          "metadata": {},
          "execution_count": 11
        }
      ],
      "source": [
        "df.isnull().sum()"
      ]
    },
    {
      "cell_type": "code",
      "execution_count": null,
      "id": "62524dfb-35e1-41cd-b360-aea241d0821e",
      "metadata": {
        "id": "62524dfb-35e1-41cd-b360-aea241d0821e"
      },
      "outputs": [],
      "source": [
        "#As we have added missing values in above dataframe -->we can use dropna()\n",
        "df.dropna(inplace=True)"
      ]
    },
    {
      "cell_type": "code",
      "execution_count": null,
      "id": "5b2ac639-4939-4d97-a68d-4585a971e4bf",
      "metadata": {
        "colab": {
          "base_uri": "https://localhost:8080/"
        },
        "id": "5b2ac639-4939-4d97-a68d-4585a971e4bf",
        "outputId": "378cc930-735a-4d65-fbd8-169ebf1af029"
      },
      "outputs": [
        {
          "output_type": "execute_result",
          "data": {
            "text/plain": [
              "Place        0\n",
              "Area         0\n",
              "Status       0\n",
              "Rooms        0\n",
              "Bathrooms    0\n",
              "Facing       0\n",
              "P_Type       0\n",
              "Price        0\n",
              "dtype: int64"
            ]
          },
          "metadata": {},
          "execution_count": 13
        }
      ],
      "source": [
        "df.isnull().sum()"
      ]
    },
    {
      "cell_type": "code",
      "execution_count": null,
      "id": "3a2ec015-6825-4a1f-86e4-1242b62f1fb6",
      "metadata": {
        "id": "3a2ec015-6825-4a1f-86e4-1242b62f1fb6"
      },
      "outputs": [],
      "source": [
        "#Now we can start building a House Price Prediction Model"
      ]
    },
    {
      "cell_type": "code",
      "execution_count": null,
      "id": "953b62a6-93b8-48a1-929d-b0935972e254",
      "metadata": {
        "colab": {
          "base_uri": "https://localhost:8080/"
        },
        "id": "953b62a6-93b8-48a1-929d-b0935972e254",
        "outputId": "655c493d-0600-4da4-a3f7-702ff052b3bc"
      },
      "outputs": [
        {
          "output_type": "execute_result",
          "data": {
            "text/plain": [
              "array(['Poranki', 'Kankipadu', 'Gannavaram', 'Gunadala', 'Gollapudi',\n",
              "       'Enikepadu', 'Benz Circle', 'Vidhyadharpuram', 'Penamaluru',\n",
              "       'Payakapuram', 'Guru Nanak Colony', 'Kanuru', 'Nunna',\n",
              "       'Currency Nagar', 'Edupugallu', 'Ramavarapadu', 'Kesarapalli',\n",
              "       'Bharathi Nagar', 'Sri Ramachandra Nagar', 'Vijayawada Road',\n",
              "       'Ramavarapadu Ring', 'Mangalagiri', 'Gudavalli', 'Gosala',\n",
              "       'Tadigadapa Donka Road', 'Madhuranagar', 'currency nagar',\n",
              "       'Tadigadapa', 'Gollapudi1', 'Ibrahimpatnam', 'SURAMPALLI',\n",
              "       'Subba Rao Colony 2nd Cross Road', 'Nidamanuru', 'Kesarapalle',\n",
              "       'Moghalrajpuram', 'Labbipet', 'Vijayawada Nuzvidu Road',\n",
              "       'Ajit Singh Nagar', 'AGIRIPALLI', 'Nuzvid To Vijayawada Road',\n",
              "       'Nuzvid Road', 'Bandar Road', 'Nuzividu', 'Kanchikacherla',\n",
              "       'Mylavaram', 'G Konduru', 'Punadipadu', 'Jaggayyapet',\n",
              "       'MylavaramKuntamukkalaVellaturuVijayawada Road',\n",
              "       'Chennai Vijayawada Highway', 'Guntupalli', 'Tarapet',\n",
              "       'Tulasi Nagar', 'Governor Peta', 'Rajiv Bhargav Colony', 'Vuyyuru',\n",
              "       'Tadigadapa Main Road', 'PNT Colony', 'ramavarappadu',\n",
              "       'Auto Nagar', 'Milk Factory Road', 'Telaprolu',\n",
              "       'Kanigiri Gurunadham Street', 'Pamarru',\n",
              "       'Satyanarayanapuram Main Road', 'Pedapulipaka Tadigadapa Road',\n",
              "       'Vijayawada Airport Road', 'Kandrika', 'Ayyappa Nagar', 'Patamata',\n",
              "       'Ashok Nagar', 'Satyaranayana Puram', 'Vaddeswaram',\n",
              "       'Tadepalligudem', 'Vijayawada Guntur Highway',\n",
              "       'Ramalingeswara Nagar', 'Rama Krishna Puram', 'Gandhi Nagar',\n",
              "       'Nandigama', 'Srinivasa Nagar Bank Colony', 'chinnakakani',\n",
              "       'Bhavanipuram', 'kunchanapalli', 'krishnalanka', 'LIC Colony',\n",
              "       'Andhra Prabha Colony Road', 'Devi Nagar', 'Pedaogirala',\n",
              "       'Rajarajeswari Peta', 'Vijayawada Machilipatnam Road'],\n",
              "      dtype=object)"
            ]
          },
          "metadata": {},
          "execution_count": 15
        }
      ],
      "source": [
        "df['Place'].unique()"
      ]
    },
    {
      "cell_type": "code",
      "execution_count": null,
      "id": "1ac61419-f270-4bc9-a56e-5243012c25cc",
      "metadata": {
        "colab": {
          "base_uri": "https://localhost:8080/"
        },
        "id": "1ac61419-f270-4bc9-a56e-5243012c25cc",
        "outputId": "370bb1aa-3869-4461-ba13-5baf24b3e077"
      },
      "outputs": [
        {
          "output_type": "execute_result",
          "data": {
            "text/plain": [
              "array(['West', 'None', 'NorthEast', 'East', 'North', 'South', 'NorthWest',\n",
              "       'SouthEast', 'SouthWest'], dtype=object)"
            ]
          },
          "metadata": {},
          "execution_count": 16
        }
      ],
      "source": [
        "df['Facing'].unique()"
      ]
    },
    {
      "cell_type": "code",
      "execution_count": null,
      "id": "b6a5e86a-5539-42b2-b9b9-8e3c9c69fa61",
      "metadata": {
        "colab": {
          "base_uri": "https://localhost:8080/"
        },
        "id": "b6a5e86a-5539-42b2-b9b9-8e3c9c69fa61",
        "outputId": "7b7792df-372c-47d6-ae91-6ca30707cf40"
      },
      "outputs": [
        {
          "output_type": "execute_result",
          "data": {
            "text/plain": [
              "array(['Apartment', 'Independent House', 'Independent Floor',\n",
              "       'Residential Plot', 'Villa', 'Studio Apartment'], dtype=object)"
            ]
          },
          "metadata": {},
          "execution_count": 17
        }
      ],
      "source": [
        "df['P_Type'].unique()"
      ]
    },
    {
      "cell_type": "code",
      "execution_count": null,
      "id": "73b12453-5518-4f31-b9d6-6b94ee40ce30",
      "metadata": {
        "colab": {
          "base_uri": "https://localhost:8080/"
        },
        "id": "73b12453-5518-4f31-b9d6-6b94ee40ce30",
        "outputId": "e94541f2-67e0-4c7e-be66-9d6d425dcbcc"
      },
      "outputs": [
        {
          "output_type": "execute_result",
          "data": {
            "text/plain": [
              "array(['Ready to move', 'Under Construction', 'Resale', 'New'],\n",
              "      dtype=object)"
            ]
          },
          "metadata": {},
          "execution_count": 18
        }
      ],
      "source": [
        "df['Status'].unique()"
      ]
    },
    {
      "cell_type": "code",
      "execution_count": null,
      "id": "66946213-956f-4823-bb6a-be26fee06ac9",
      "metadata": {
        "id": "66946213-956f-4823-bb6a-be26fee06ac9"
      },
      "outputs": [],
      "source": [
        "#handling categorical features ->Label Encoding"
      ]
    },
    {
      "cell_type": "code",
      "execution_count": null,
      "id": "02a38d1e-072d-4e1c-85c0-97bce11818d7",
      "metadata": {
        "colab": {
          "base_uri": "https://localhost:8080/"
        },
        "id": "02a38d1e-072d-4e1c-85c0-97bce11818d7",
        "outputId": "5b92d02c-0b1e-47b3-aa98-9be37fd00b7d"
      },
      "outputs": [
        {
          "output_type": "execute_result",
          "data": {
            "text/plain": [
              "{'Saketh': 29, 'Sai': 28, 'Codegnan': 5, 'Kits': 25}"
            ]
          },
          "metadata": {},
          "execution_count": 20
        }
      ],
      "source": [
        "#Before performing LabelEncoding for above features let's take a simple example\n",
        "a = ['Prashant','Sai','Codegnan',ML']\n",
        "b = [23,28,5,25]\n",
        "#combine two lists to create a new collection (dict) -->zip\n",
        "c = dict(zip(a,b))\n",
        "c"
      ]
    },
    {
      "cell_type": "code",
      "execution_count": null,
      "id": "23fcf813-5525-49eb-8d57-079653784fe0",
      "metadata": {
        "id": "23fcf813-5525-49eb-8d57-079653784fe0"
      },
      "outputs": [],
      "source": [
        "#Now we will apply Label Encoding for our features\n",
        "from sklearn.preprocessing import LabelEncoder"
      ]
    },
    {
      "cell_type": "code",
      "execution_count": null,
      "id": "31e1e101-3f0e-4152-9a9c-84c135e6d3c4",
      "metadata": {
        "id": "31e1e101-3f0e-4152-9a9c-84c135e6d3c4"
      },
      "outputs": [],
      "source": [
        "label = LabelEncoder()"
      ]
    },
    {
      "cell_type": "code",
      "execution_count": null,
      "id": "38f3832e-441d-470d-9680-4489fe2dccd2",
      "metadata": {
        "colab": {
          "base_uri": "https://localhost:8080/"
        },
        "id": "38f3832e-441d-470d-9680-4489fe2dccd2",
        "outputId": "9825554b-ae11-4a7c-d7da-3ad87c2c75ea"
      },
      "outputs": [
        {
          "output_type": "stream",
          "name": "stderr",
          "text": [
            "/usr/local/lib/python3.10/dist-packages/sklearn/preprocessing/_label.py:116: DataConversionWarning: A column-vector y was passed when a 1d array was expected. Please change the shape of y to (n_samples, ), for example using ravel().\n",
            "  y = column_or_1d(y, warn=True)\n"
          ]
        },
        {
          "output_type": "execute_result",
          "data": {
            "text/plain": [
              "{0: 'AGIRIPALLI',\n",
              " 1: 'Ajit Singh Nagar',\n",
              " 2: 'Andhra Prabha Colony Road',\n",
              " 3: 'Ashok Nagar',\n",
              " 4: 'Auto Nagar',\n",
              " 5: 'Ayyappa Nagar',\n",
              " 6: 'Bandar Road',\n",
              " 7: 'Benz Circle',\n",
              " 8: 'Bharathi Nagar',\n",
              " 9: 'Bhavanipuram',\n",
              " 10: 'Chennai Vijayawada Highway',\n",
              " 11: 'Currency Nagar',\n",
              " 12: 'Devi Nagar',\n",
              " 13: 'Edupugallu',\n",
              " 14: 'Enikepadu',\n",
              " 15: 'G Konduru',\n",
              " 16: 'Gandhi Nagar',\n",
              " 17: 'Gannavaram',\n",
              " 18: 'Gollapudi',\n",
              " 19: 'Gollapudi1',\n",
              " 20: 'Gosala',\n",
              " 21: 'Governor Peta',\n",
              " 22: 'Gudavalli',\n",
              " 23: 'Gunadala',\n",
              " 24: 'Guntupalli',\n",
              " 25: 'Guru Nanak Colony',\n",
              " 26: 'Ibrahimpatnam',\n",
              " 27: 'Jaggayyapet',\n",
              " 28: 'Kanchikacherla',\n",
              " 29: 'Kandrika',\n",
              " 30: 'Kanigiri Gurunadham Street',\n",
              " 31: 'Kankipadu',\n",
              " 32: 'Kanuru',\n",
              " 33: 'Kesarapalle',\n",
              " 34: 'Kesarapalli',\n",
              " 35: 'LIC Colony',\n",
              " 36: 'Labbipet',\n",
              " 37: 'Madhuranagar',\n",
              " 38: 'Mangalagiri',\n",
              " 39: 'Milk Factory Road',\n",
              " 40: 'Moghalrajpuram',\n",
              " 41: 'Mylavaram',\n",
              " 42: 'MylavaramKuntamukkalaVellaturuVijayawada Road',\n",
              " 43: 'Nandigama',\n",
              " 44: 'Nidamanuru',\n",
              " 45: 'Nunna',\n",
              " 46: 'Nuzividu',\n",
              " 47: 'Nuzvid Road',\n",
              " 48: 'Nuzvid To Vijayawada Road',\n",
              " 49: 'PNT Colony',\n",
              " 50: 'Pamarru',\n",
              " 51: 'Patamata',\n",
              " 52: 'Payakapuram',\n",
              " 53: 'Pedaogirala',\n",
              " 54: 'Pedapulipaka Tadigadapa Road',\n",
              " 55: 'Penamaluru',\n",
              " 56: 'Poranki',\n",
              " 57: 'Punadipadu',\n",
              " 58: 'Rajarajeswari Peta',\n",
              " 59: 'Rajiv Bhargav Colony',\n",
              " 60: 'Rama Krishna Puram',\n",
              " 61: 'Ramalingeswara Nagar',\n",
              " 62: 'Ramavarapadu',\n",
              " 63: 'Ramavarapadu Ring',\n",
              " 64: 'SURAMPALLI',\n",
              " 65: 'Satyanarayanapuram Main Road',\n",
              " 66: 'Satyaranayana Puram',\n",
              " 67: 'Sri Ramachandra Nagar',\n",
              " 68: 'Srinivasa Nagar Bank Colony',\n",
              " 69: 'Subba Rao Colony 2nd Cross Road',\n",
              " 70: 'Tadepalligudem',\n",
              " 71: 'Tadigadapa',\n",
              " 72: 'Tadigadapa Donka Road',\n",
              " 73: 'Tadigadapa Main Road',\n",
              " 74: 'Tarapet',\n",
              " 75: 'Telaprolu',\n",
              " 76: 'Tulasi Nagar',\n",
              " 77: 'Vaddeswaram',\n",
              " 78: 'Vidhyadharpuram',\n",
              " 79: 'Vijayawada Airport Road',\n",
              " 80: 'Vijayawada Guntur Highway',\n",
              " 81: 'Vijayawada Machilipatnam Road',\n",
              " 82: 'Vijayawada Nuzvidu Road',\n",
              " 83: 'Vijayawada Road',\n",
              " 84: 'Vuyyuru',\n",
              " 85: 'chinnakakani',\n",
              " 86: 'currency nagar',\n",
              " 87: 'krishnalanka',\n",
              " 88: 'kunchanapalli',\n",
              " 89: 'ramavarappadu'}"
            ]
          },
          "metadata": {},
          "execution_count": 23
        }
      ],
      "source": [
        "#First we will check for Place column\n",
        "df['Place'] = label.fit_transform(df[['Place']])\n",
        "#we will showcase how the values are transformed stepbystep\n",
        "encoded_to_original = dict(zip(label.transform(label.classes_),label.classes_))\n",
        "encoded_to_original"
      ]
    },
    {
      "cell_type": "code",
      "execution_count": null,
      "id": "92176d95-abcf-49ef-8239-69b16883d3e0",
      "metadata": {
        "colab": {
          "base_uri": "https://localhost:8080/"
        },
        "id": "92176d95-abcf-49ef-8239-69b16883d3e0",
        "outputId": "34a133b4-8f1e-4c3f-df36-4a3cdbd0845f"
      },
      "outputs": [
        {
          "output_type": "stream",
          "name": "stdout",
          "text": [
            "0 - New\n",
            "1 - Ready to move\n",
            "2 - Resale\n",
            "3 - Under Construction\n"
          ]
        },
        {
          "output_type": "stream",
          "name": "stderr",
          "text": [
            "/usr/local/lib/python3.10/dist-packages/sklearn/preprocessing/_label.py:116: DataConversionWarning: A column-vector y was passed when a 1d array was expected. Please change the shape of y to (n_samples, ), for example using ravel().\n",
            "  y = column_or_1d(y, warn=True)\n"
          ]
        }
      ],
      "source": [
        "df['Status'] = label.fit_transform(df[['Status']])\n",
        "#we will showcase how the values are transformed stepbystep\n",
        "encoded_to_original = dict(zip(label.transform(label.classes_),label.classes_))\n",
        "for encoded,original in encoded_to_original.items():\n",
        "    print(f'{encoded} - {original}')"
      ]
    },
    {
      "cell_type": "code",
      "execution_count": null,
      "id": "830fe258-6c26-4772-a9cc-0da5aa560094",
      "metadata": {
        "colab": {
          "base_uri": "https://localhost:8080/"
        },
        "id": "830fe258-6c26-4772-a9cc-0da5aa560094",
        "outputId": "82f038cd-d5fb-47c7-82e8-6e9ec7099857"
      },
      "outputs": [
        {
          "output_type": "stream",
          "name": "stdout",
          "text": [
            "0 - East\n",
            "1 - None\n",
            "2 - North\n",
            "3 - NorthEast\n",
            "4 - NorthWest\n",
            "5 - South\n",
            "6 - SouthEast\n",
            "7 - SouthWest\n",
            "8 - West\n"
          ]
        },
        {
          "output_type": "stream",
          "name": "stderr",
          "text": [
            "/usr/local/lib/python3.10/dist-packages/sklearn/preprocessing/_label.py:116: DataConversionWarning: A column-vector y was passed when a 1d array was expected. Please change the shape of y to (n_samples, ), for example using ravel().\n",
            "  y = column_or_1d(y, warn=True)\n"
          ]
        }
      ],
      "source": [
        "df['Facing'] = label.fit_transform(df[['Facing']])\n",
        "#we will showcase how the values are transformed stepbystep\n",
        "encoded_to_original = dict(zip(label.transform(label.classes_),label.classes_))\n",
        "for encoded,original in encoded_to_original.items():\n",
        "    print(f'{encoded} - {original}')"
      ]
    },
    {
      "cell_type": "code",
      "execution_count": null,
      "id": "c6dace0d-43f4-4dd1-9337-c9399454474a",
      "metadata": {
        "colab": {
          "base_uri": "https://localhost:8080/"
        },
        "id": "c6dace0d-43f4-4dd1-9337-c9399454474a",
        "outputId": "79d94ee6-465f-4090-994e-92889d913609"
      },
      "outputs": [
        {
          "output_type": "stream",
          "name": "stdout",
          "text": [
            "0 - Apartment\n",
            "1 - Independent Floor\n",
            "2 - Independent House\n",
            "3 - Residential Plot\n",
            "4 - Studio Apartment\n",
            "5 - Villa\n"
          ]
        },
        {
          "output_type": "stream",
          "name": "stderr",
          "text": [
            "/usr/local/lib/python3.10/dist-packages/sklearn/preprocessing/_label.py:116: DataConversionWarning: A column-vector y was passed when a 1d array was expected. Please change the shape of y to (n_samples, ), for example using ravel().\n",
            "  y = column_or_1d(y, warn=True)\n"
          ]
        }
      ],
      "source": [
        "df['P_Type'] = label.fit_transform(df[['P_Type']])\n",
        "#we will showcase how the values are transformed stepbystep\n",
        "encoded_to_original = dict(zip(label.transform(label.classes_),label.classes_))\n",
        "for encoded,original in encoded_to_original.items():\n",
        "    print(f'{encoded} - {original}')"
      ]
    },
    {
      "cell_type": "code",
      "execution_count": null,
      "id": "35e15751-2f1b-4356-bc9c-7c2b8e0a5dc1",
      "metadata": {
        "colab": {
          "base_uri": "https://localhost:8080/"
        },
        "id": "35e15751-2f1b-4356-bc9c-7c2b8e0a5dc1",
        "outputId": "be3da6f8-acbd-4a53-afda-ebeda1e78d26"
      },
      "outputs": [
        {
          "output_type": "stream",
          "name": "stdout",
          "text": [
            "<class 'pandas.core.frame.DataFrame'>\n",
            "Int64Index: 1053 entries, 0 to 1052\n",
            "Data columns (total 8 columns):\n",
            " #   Column     Non-Null Count  Dtype  \n",
            "---  ------     --------------  -----  \n",
            " 0   Place      1053 non-null   int64  \n",
            " 1   Area       1053 non-null   object \n",
            " 2   Status     1053 non-null   int64  \n",
            " 3   Rooms      1053 non-null   object \n",
            " 4   Bathrooms  1053 non-null   object \n",
            " 5   Facing     1053 non-null   int64  \n",
            " 6   P_Type     1053 non-null   int64  \n",
            " 7   Price      1053 non-null   float64\n",
            "dtypes: float64(1), int64(4), object(3)\n",
            "memory usage: 74.0+ KB\n"
          ]
        }
      ],
      "source": [
        "df.info()"
      ]
    },
    {
      "cell_type": "code",
      "execution_count": null,
      "id": "ab36cd4b-3e05-4595-b61f-e2067e82c55f",
      "metadata": {
        "colab": {
          "base_uri": "https://localhost:8080/"
        },
        "id": "ab36cd4b-3e05-4595-b61f-e2067e82c55f",
        "outputId": "4f60108f-835d-4a98-b920-e420d031895d"
      },
      "outputs": [
        {
          "output_type": "execute_result",
          "data": {
            "text/plain": [
              "array([8, 1, 3, 0, 2, 5, 4, 6, 7])"
            ]
          },
          "metadata": {},
          "execution_count": 28
        }
      ],
      "source": [
        "df['Facing'].unique()"
      ]
    },
    {
      "cell_type": "code",
      "execution_count": null,
      "id": "02ef0776-9192-4ce2-9c3e-32b93177493a",
      "metadata": {
        "id": "02ef0776-9192-4ce2-9c3e-32b93177493a"
      },
      "outputs": [],
      "source": [
        "#df['Area']\n",
        "#let us transform Area,Rooms,Bathrooms column values into integer dtype\n",
        "df['Area'] = df['Area'].astype('int64')"
      ]
    },
    {
      "cell_type": "code",
      "execution_count": null,
      "id": "3bf4f8d7-7f1c-4e0b-98b0-9e58aa3b8c22",
      "metadata": {
        "id": "3bf4f8d7-7f1c-4e0b-98b0-9e58aa3b8c22"
      },
      "outputs": [],
      "source": [
        "df['Rooms'] = df['Rooms'].astype('int64')\n",
        "df['Bathrooms'] = df['Bathrooms'].astype('int64')"
      ]
    },
    {
      "cell_type": "code",
      "execution_count": null,
      "id": "b67fca14-07cf-4298-a5b6-d740a93a0dce",
      "metadata": {
        "colab": {
          "base_uri": "https://localhost:8080/"
        },
        "id": "b67fca14-07cf-4298-a5b6-d740a93a0dce",
        "outputId": "698acc87-1fba-4ac3-e8f9-e94b2612b5af"
      },
      "outputs": [
        {
          "output_type": "stream",
          "name": "stdout",
          "text": [
            "<class 'pandas.core.frame.DataFrame'>\n",
            "Int64Index: 1053 entries, 0 to 1052\n",
            "Data columns (total 8 columns):\n",
            " #   Column     Non-Null Count  Dtype  \n",
            "---  ------     --------------  -----  \n",
            " 0   Place      1053 non-null   int64  \n",
            " 1   Area       1053 non-null   int64  \n",
            " 2   Status     1053 non-null   int64  \n",
            " 3   Rooms      1053 non-null   int64  \n",
            " 4   Bathrooms  1053 non-null   int64  \n",
            " 5   Facing     1053 non-null   int64  \n",
            " 6   P_Type     1053 non-null   int64  \n",
            " 7   Price      1053 non-null   float64\n",
            "dtypes: float64(1), int64(7)\n",
            "memory usage: 74.0 KB\n"
          ]
        }
      ],
      "source": [
        "df.info()"
      ]
    },
    {
      "cell_type": "code",
      "execution_count": null,
      "id": "d97aaf62-e24d-441d-b761-ce9a2d3565ec",
      "metadata": {
        "id": "d97aaf62-e24d-441d-b761-ce9a2d3565ec"
      },
      "outputs": [],
      "source": [
        "#Now let's check for the Outliers -->Visual representation (Boxplot)\n",
        "import plotly.express as px"
      ]
    },
    {
      "cell_type": "code",
      "execution_count": null,
      "id": "e49d065f-a53d-4b40-96f2-9276c8164cec",
      "metadata": {
        "colab": {
          "base_uri": "https://localhost:8080/",
          "height": 542
        },
        "id": "e49d065f-a53d-4b40-96f2-9276c8164cec",
        "outputId": "d4d15b32-3baa-4d2f-ac99-4f014ed02a9b"
      },
      "outputs": [
        {
          "output_type": "display_data",
          "data": {
            "text/html": [
              "<html>\n",
              "<head><meta charset=\"utf-8\" /></head>\n",
              "<body>\n",
              "    <div>            <script src=\"https://cdnjs.cloudflare.com/ajax/libs/mathjax/2.7.5/MathJax.js?config=TeX-AMS-MML_SVG\"></script><script type=\"text/javascript\">if (window.MathJax && window.MathJax.Hub && window.MathJax.Hub.Config) {window.MathJax.Hub.Config({SVG: {font: \"STIX-Web\"}});}</script>                <script type=\"text/javascript\">window.PlotlyConfig = {MathJaxConfig: 'local'};</script>\n",
              "        <script charset=\"utf-8\" src=\"https://cdn.plot.ly/plotly-2.24.1.min.js\"></script>                <div id=\"3b69819e-2eed-45d2-bedf-7b78ae29759c\" class=\"plotly-graph-div\" style=\"height:525px; width:100%;\"></div>            <script type=\"text/javascript\">                                    window.PLOTLYENV=window.PLOTLYENV || {};                                    if (document.getElementById(\"3b69819e-2eed-45d2-bedf-7b78ae29759c\")) {                    Plotly.newPlot(                        \"3b69819e-2eed-45d2-bedf-7b78ae29759c\",                        [{\"alignmentgroup\":\"True\",\"hovertemplate\":\"variable=%{x}\\u003cbr\\u003evalue=%{y}\\u003cextra\\u003e\\u003c\\u002fextra\\u003e\",\"legendgroup\":\"\",\"marker\":{\"color\":\"#636efa\"},\"name\":\"\",\"notched\":false,\"offsetgroup\":\"\",\"orientation\":\"v\",\"showlegend\":false,\"x\":[\"Place\",\"Place\",\"Place\",\"Place\",\"Place\",\"Place\",\"Place\",\"Place\",\"Place\",\"Place\",\"Place\",\"Place\",\"Place\",\"Place\",\"Place\",\"Place\",\"Place\",\"Place\",\"Place\",\"Place\",\"Place\",\"Place\",\"Place\",\"Place\",\"Place\",\"Place\",\"Place\",\"Place\",\"Place\",\"Place\",\"Place\",\"Place\",\"Place\",\"Place\",\"Place\",\"Place\",\"Place\",\"Place\",\"Place\",\"Place\",\"Place\",\"Place\",\"Place\",\"Place\",\"Place\",\"Place\",\"Place\",\"Place\",\"Place\",\"Place\",\"Place\",\"Place\",\"Place\",\"Place\",\"Place\",\"Place\",\"Place\",\"Place\",\"Place\",\"Place\",\"Place\",\"Place\",\"Place\",\"Place\",\"Place\",\"Place\",\"Place\",\"Place\",\"Place\",\"Place\",\"Place\",\"Place\",\"Place\",\"Place\",\"Place\",\"Place\",\"Place\",\"Place\",\"Place\",\"Place\",\"Place\",\"Place\",\"Place\",\"Place\",\"Place\",\"Place\",\"Place\",\"Place\",\"Place\",\"Place\",\"Place\",\"Place\",\"Place\",\"Place\",\"Place\",\"Place\",\"Place\",\"Place\",\"Place\",\"Place\",\"Place\",\"Place\",\"Place\",\"Place\",\"Place\",\"Place\",\"Place\",\"Place\",\"Place\",\"Place\",\"Place\",\"Place\",\"Place\",\"Place\",\"Place\",\"Place\",\"Place\",\"Place\",\"Place\",\"Place\",\"Place\",\"Place\",\"Place\",\"Place\",\"Place\",\"Place\",\"Place\",\"Place\",\"Place\",\"Place\",\"Place\",\"Place\",\"Place\",\"Place\",\"Place\",\"Place\",\"Place\",\"Place\",\"Place\",\"Place\",\"Place\",\"Place\",\"Place\",\"Place\",\"Place\",\"Place\",\"Place\",\"Place\",\"Place\",\"Place\",\"Place\",\"Place\",\"Place\",\"Place\",\"Place\",\"Place\",\"Place\",\"Place\",\"Place\",\"Place\",\"Place\",\"Place\",\"Place\",\"Place\",\"Place\",\"Place\",\"Place\",\"Place\",\"Place\",\"Place\",\"Place\",\"Place\",\"Place\",\"Place\",\"Place\",\"Place\",\"Place\",\"Place\",\"Place\",\"Place\",\"Place\",\"Place\",\"Place\",\"Place\",\"Place\",\"Place\",\"Place\",\"Place\",\"Place\",\"Place\",\"Place\",\"Place\",\"Place\",\"Place\",\"Place\",\"Place\",\"Place\",\"Place\",\"Place\",\"Place\",\"Place\",\"Place\",\"Place\",\"Place\",\"Place\",\"Place\",\"Place\",\"Place\",\"Place\",\"Place\",\"Place\",\"Place\",\"Place\",\"Place\",\"Place\",\"Place\",\"Place\",\"Place\",\"Place\",\"Place\",\"Place\",\"Place\",\"Place\",\"Place\",\"Place\",\"Place\",\"Place\",\"Place\",\"Place\",\"Place\",\"Place\",\"Place\",\"Place\",\"Place\",\"Place\",\"Place\",\"Place\",\"Place\",\"Place\",\"Place\",\"Place\",\"Place\",\"Place\",\"Place\",\"Place\",\"Place\",\"Place\",\"Place\",\"Place\",\"Place\",\"Place\",\"Place\",\"Place\",\"Place\",\"Place\",\"Place\",\"Place\",\"Place\",\"Place\",\"Place\",\"Place\",\"Place\",\"Place\",\"Place\",\"Place\",\"Place\",\"Place\",\"Place\",\"Place\",\"Place\",\"Place\",\"Place\",\"Place\",\"Place\",\"Place\",\"Place\",\"Place\",\"Place\",\"Place\",\"Place\",\"Place\",\"Place\",\"Place\",\"Place\",\"Place\",\"Place\",\"Place\",\"Place\",\"Place\",\"Place\",\"Place\",\"Place\",\"Place\",\"Place\",\"Place\",\"Place\",\"Place\",\"Place\",\"Place\",\"Place\",\"Place\",\"Place\",\"Place\",\"Place\",\"Place\",\"Place\",\"Place\",\"Place\",\"Place\",\"Place\",\"Place\",\"Place\",\"Place\",\"Place\",\"Place\",\"Place\",\"Place\",\"Place\",\"Place\",\"Place\",\"Place\",\"Place\",\"Place\",\"Place\",\"Place\",\"Place\",\"Place\",\"Place\",\"Place\",\"Place\",\"Place\",\"Place\",\"Place\",\"Place\",\"Place\",\"Place\",\"Place\",\"Place\",\"Place\",\"Place\",\"Place\",\"Place\",\"Place\",\"Place\",\"Place\",\"Place\",\"Place\",\"Place\",\"Place\",\"Place\",\"Place\",\"Place\",\"Place\",\"Place\",\"Place\",\"Place\",\"Place\",\"Place\",\"Place\",\"Place\",\"Place\",\"Place\",\"Place\",\"Place\",\"Place\",\"Place\",\"Place\",\"Place\",\"Place\",\"Place\",\"Place\",\"Place\",\"Place\",\"Place\",\"Place\",\"Place\",\"Place\",\"Place\",\"Place\",\"Place\",\"Place\",\"Place\",\"Place\",\"Place\",\"Place\",\"Place\",\"Place\",\"Place\",\"Place\",\"Place\",\"Place\",\"Place\",\"Place\",\"Place\",\"Place\",\"Place\",\"Place\",\"Place\",\"Place\",\"Place\",\"Place\",\"Place\",\"Place\",\"Place\",\"Place\",\"Place\",\"Place\",\"Place\",\"Place\",\"Place\",\"Place\",\"Place\",\"Place\",\"Place\",\"Place\",\"Place\",\"Place\",\"Place\",\"Place\",\"Place\",\"Place\",\"Place\",\"Place\",\"Place\",\"Place\",\"Place\",\"Place\",\"Place\",\"Place\",\"Place\",\"Place\",\"Place\",\"Place\",\"Place\",\"Place\",\"Place\",\"Place\",\"Place\",\"Place\",\"Place\",\"Place\",\"Place\",\"Place\",\"Place\",\"Place\",\"Place\",\"Place\",\"Place\",\"Place\",\"Place\",\"Place\",\"Place\",\"Place\",\"Place\",\"Place\",\"Place\",\"Place\",\"Place\",\"Place\",\"Place\",\"Place\",\"Place\",\"Place\",\"Place\",\"Place\",\"Place\",\"Place\",\"Place\",\"Place\",\"Place\",\"Place\",\"Place\",\"Place\",\"Place\",\"Place\",\"Place\",\"Place\",\"Place\",\"Place\",\"Place\",\"Place\",\"Place\",\"Place\",\"Place\",\"Place\",\"Place\",\"Place\",\"Place\",\"Place\",\"Place\",\"Place\",\"Place\",\"Place\",\"Place\",\"Place\",\"Place\",\"Place\",\"Place\",\"Place\",\"Place\",\"Place\",\"Place\",\"Place\",\"Place\",\"Place\",\"Place\",\"Place\",\"Place\",\"Place\",\"Place\",\"Place\",\"Place\",\"Place\",\"Place\",\"Place\",\"Place\",\"Place\",\"Place\",\"Place\",\"Place\",\"Place\",\"Place\",\"Place\",\"Place\",\"Place\",\"Place\",\"Place\",\"Place\",\"Place\",\"Place\",\"Place\",\"Place\",\"Place\",\"Place\",\"Place\",\"Place\",\"Place\",\"Place\",\"Place\",\"Place\",\"Place\",\"Place\",\"Place\",\"Place\",\"Place\",\"Place\",\"Place\",\"Place\",\"Place\",\"Place\",\"Place\",\"Place\",\"Place\",\"Place\",\"Place\",\"Place\",\"Place\",\"Place\",\"Place\",\"Place\",\"Place\",\"Place\",\"Place\",\"Place\",\"Place\",\"Place\",\"Place\",\"Place\",\"Place\",\"Place\",\"Place\",\"Place\",\"Place\",\"Place\",\"Place\",\"Place\",\"Place\",\"Place\",\"Place\",\"Place\",\"Place\",\"Place\",\"Place\",\"Place\",\"Place\",\"Place\",\"Place\",\"Place\",\"Place\",\"Place\",\"Place\",\"Place\",\"Place\",\"Place\",\"Place\",\"Place\",\"Place\",\"Place\",\"Place\",\"Place\",\"Place\",\"Place\",\"Place\",\"Place\",\"Place\",\"Place\",\"Place\",\"Place\",\"Place\",\"Place\",\"Place\",\"Place\",\"Place\",\"Place\",\"Place\",\"Place\",\"Place\",\"Place\",\"Place\",\"Place\",\"Place\",\"Place\",\"Place\",\"Place\",\"Place\",\"Place\",\"Place\",\"Place\",\"Place\",\"Place\",\"Place\",\"Place\",\"Place\",\"Place\",\"Place\",\"Place\",\"Place\",\"Place\",\"Place\",\"Place\",\"Place\",\"Place\",\"Place\",\"Place\",\"Place\",\"Place\",\"Place\",\"Place\",\"Place\",\"Place\",\"Place\",\"Place\",\"Place\",\"Place\",\"Place\",\"Place\",\"Place\",\"Place\",\"Place\",\"Place\",\"Place\",\"Place\",\"Place\",\"Place\",\"Place\",\"Place\",\"Place\",\"Place\",\"Place\",\"Place\",\"Place\",\"Place\",\"Place\",\"Place\",\"Place\",\"Place\",\"Place\",\"Place\",\"Place\",\"Place\",\"Place\",\"Place\",\"Place\",\"Place\",\"Place\",\"Place\",\"Place\",\"Place\",\"Place\",\"Place\",\"Place\",\"Place\",\"Place\",\"Place\",\"Place\",\"Place\",\"Place\",\"Place\",\"Place\",\"Place\",\"Place\",\"Place\",\"Place\",\"Place\",\"Place\",\"Place\",\"Place\",\"Place\",\"Place\",\"Place\",\"Place\",\"Place\",\"Place\",\"Place\",\"Place\",\"Place\",\"Place\",\"Place\",\"Place\",\"Place\",\"Place\",\"Place\",\"Place\",\"Place\",\"Place\",\"Place\",\"Place\",\"Place\",\"Place\",\"Place\",\"Place\",\"Place\",\"Place\",\"Place\",\"Place\",\"Place\",\"Place\",\"Place\",\"Place\",\"Place\",\"Place\",\"Place\",\"Place\",\"Place\",\"Place\",\"Place\",\"Place\",\"Place\",\"Place\",\"Place\",\"Place\",\"Place\",\"Place\",\"Place\",\"Place\",\"Place\",\"Place\",\"Place\",\"Place\",\"Place\",\"Place\",\"Place\",\"Place\",\"Place\",\"Place\",\"Place\",\"Place\",\"Place\",\"Place\",\"Place\",\"Place\",\"Place\",\"Place\",\"Place\",\"Place\",\"Place\",\"Place\",\"Place\",\"Place\",\"Place\",\"Place\",\"Place\",\"Place\",\"Place\",\"Place\",\"Place\",\"Place\",\"Place\",\"Place\",\"Place\",\"Place\",\"Place\",\"Place\",\"Place\",\"Place\",\"Place\",\"Place\",\"Place\",\"Place\",\"Place\",\"Place\",\"Place\",\"Place\",\"Place\",\"Place\",\"Place\",\"Place\",\"Place\",\"Place\",\"Place\",\"Place\",\"Place\",\"Place\",\"Place\",\"Place\",\"Place\",\"Place\",\"Place\",\"Place\",\"Place\",\"Place\",\"Place\",\"Place\",\"Place\",\"Place\",\"Place\",\"Place\",\"Place\",\"Place\",\"Place\",\"Place\",\"Place\",\"Place\",\"Place\",\"Place\",\"Place\",\"Place\",\"Place\",\"Place\",\"Place\",\"Place\",\"Place\",\"Place\",\"Place\",\"Place\",\"Place\",\"Place\",\"Place\",\"Place\",\"Place\",\"Place\",\"Place\",\"Place\",\"Place\",\"Place\",\"Place\",\"Place\",\"Place\",\"Place\",\"Place\",\"Place\",\"Place\",\"Place\",\"Place\",\"Place\",\"Place\",\"Place\",\"Place\",\"Place\",\"Place\",\"Place\",\"Place\",\"Place\",\"Place\",\"Place\",\"Place\",\"Place\",\"Place\",\"Place\",\"Place\",\"Place\",\"Place\",\"Place\",\"Place\",\"Place\",\"Place\",\"Place\",\"Place\",\"Place\",\"Place\",\"Place\",\"Place\",\"Place\",\"Place\",\"Place\",\"Place\",\"Place\",\"Place\",\"Place\",\"Place\",\"Place\",\"Place\",\"Place\",\"Place\",\"Place\",\"Place\",\"Place\",\"Place\",\"Place\",\"Place\",\"Place\",\"Place\",\"Place\",\"Place\",\"Place\",\"Place\",\"Place\",\"Place\",\"Place\",\"Place\",\"Place\",\"Place\",\"Place\",\"Place\",\"Place\",\"Place\",\"Place\",\"Place\",\"Place\",\"Place\",\"Place\",\"Place\",\"Place\",\"Place\",\"Place\",\"Place\",\"Place\",\"Place\",\"Place\",\"Place\",\"Place\",\"Place\",\"Place\",\"Place\",\"Place\",\"Place\",\"Place\",\"Place\",\"Place\",\"Place\",\"Place\",\"Place\",\"Place\",\"Place\",\"Place\",\"Place\",\"Place\",\"Place\",\"Place\",\"Place\",\"Place\",\"Place\",\"Place\",\"Place\",\"Place\",\"Place\",\"Place\",\"Place\",\"Place\",\"Place\",\"Place\",\"Place\",\"Place\",\"Place\",\"Place\",\"Place\",\"Place\",\"Place\",\"Place\",\"Place\",\"Place\",\"Place\",\"Place\",\"Place\",\"Place\",\"Place\",\"Place\",\"Place\",\"Place\",\"Place\",\"Place\",\"Place\",\"Place\",\"Place\",\"Place\",\"Place\",\"Place\",\"Place\",\"Place\",\"Place\",\"Place\",\"Place\",\"Place\",\"Place\",\"Place\",\"Place\",\"Place\",\"Place\",\"Place\",\"Place\",\"Place\",\"Place\",\"Place\",\"Place\",\"Place\",\"Place\",\"Place\",\"Place\",\"Place\",\"Place\",\"Place\",\"Place\",\"Place\",\"Place\",\"Place\",\"Place\",\"Place\",\"Place\",\"Place\",\"Place\",\"Place\",\"Place\",\"Place\",\"Place\",\"Place\",\"Place\",\"Place\",\"Place\",\"Place\",\"Place\",\"Place\",\"Place\",\"Place\",\"Place\",\"Place\",\"Place\",\"Place\",\"Place\",\"Place\",\"Place\",\"Place\",\"Place\",\"Place\",\"Area\",\"Area\",\"Area\",\"Area\",\"Area\",\"Area\",\"Area\",\"Area\",\"Area\",\"Area\",\"Area\",\"Area\",\"Area\",\"Area\",\"Area\",\"Area\",\"Area\",\"Area\",\"Area\",\"Area\",\"Area\",\"Area\",\"Area\",\"Area\",\"Area\",\"Area\",\"Area\",\"Area\",\"Area\",\"Area\",\"Area\",\"Area\",\"Area\",\"Area\",\"Area\",\"Area\",\"Area\",\"Area\",\"Area\",\"Area\",\"Area\",\"Area\",\"Area\",\"Area\",\"Area\",\"Area\",\"Area\",\"Area\",\"Area\",\"Area\",\"Area\",\"Area\",\"Area\",\"Area\",\"Area\",\"Area\",\"Area\",\"Area\",\"Area\",\"Area\",\"Area\",\"Area\",\"Area\",\"Area\",\"Area\",\"Area\",\"Area\",\"Area\",\"Area\",\"Area\",\"Area\",\"Area\",\"Area\",\"Area\",\"Area\",\"Area\",\"Area\",\"Area\",\"Area\",\"Area\",\"Area\",\"Area\",\"Area\",\"Area\",\"Area\",\"Area\",\"Area\",\"Area\",\"Area\",\"Area\",\"Area\",\"Area\",\"Area\",\"Area\",\"Area\",\"Area\",\"Area\",\"Area\",\"Area\",\"Area\",\"Area\",\"Area\",\"Area\",\"Area\",\"Area\",\"Area\",\"Area\",\"Area\",\"Area\",\"Area\",\"Area\",\"Area\",\"Area\",\"Area\",\"Area\",\"Area\",\"Area\",\"Area\",\"Area\",\"Area\",\"Area\",\"Area\",\"Area\",\"Area\",\"Area\",\"Area\",\"Area\",\"Area\",\"Area\",\"Area\",\"Area\",\"Area\",\"Area\",\"Area\",\"Area\",\"Area\",\"Area\",\"Area\",\"Area\",\"Area\",\"Area\",\"Area\",\"Area\",\"Area\",\"Area\",\"Area\",\"Area\",\"Area\",\"Area\",\"Area\",\"Area\",\"Area\",\"Area\",\"Area\",\"Area\",\"Area\",\"Area\",\"Area\",\"Area\",\"Area\",\"Area\",\"Area\",\"Area\",\"Area\",\"Area\",\"Area\",\"Area\",\"Area\",\"Area\",\"Area\",\"Area\",\"Area\",\"Area\",\"Area\",\"Area\",\"Area\",\"Area\",\"Area\",\"Area\",\"Area\",\"Area\",\"Area\",\"Area\",\"Area\",\"Area\",\"Area\",\"Area\",\"Area\",\"Area\",\"Area\",\"Area\",\"Area\",\"Area\",\"Area\",\"Area\",\"Area\",\"Area\",\"Area\",\"Area\",\"Area\",\"Area\",\"Area\",\"Area\",\"Area\",\"Area\",\"Area\",\"Area\",\"Area\",\"Area\",\"Area\",\"Area\",\"Area\",\"Area\",\"Area\",\"Area\",\"Area\",\"Area\",\"Area\",\"Area\",\"Area\",\"Area\",\"Area\",\"Area\",\"Area\",\"Area\",\"Area\",\"Area\",\"Area\",\"Area\",\"Area\",\"Area\",\"Area\",\"Area\",\"Area\",\"Area\",\"Area\",\"Area\",\"Area\",\"Area\",\"Area\",\"Area\",\"Area\",\"Area\",\"Area\",\"Area\",\"Area\",\"Area\",\"Area\",\"Area\",\"Area\",\"Area\",\"Area\",\"Area\",\"Area\",\"Area\",\"Area\",\"Area\",\"Area\",\"Area\",\"Area\",\"Area\",\"Area\",\"Area\",\"Area\",\"Area\",\"Area\",\"Area\",\"Area\",\"Area\",\"Area\",\"Area\",\"Area\",\"Area\",\"Area\",\"Area\",\"Area\",\"Area\",\"Area\",\"Area\",\"Area\",\"Area\",\"Area\",\"Area\",\"Area\",\"Area\",\"Area\",\"Area\",\"Area\",\"Area\",\"Area\",\"Area\",\"Area\",\"Area\",\"Area\",\"Area\",\"Area\",\"Area\",\"Area\",\"Area\",\"Area\",\"Area\",\"Area\",\"Area\",\"Area\",\"Area\",\"Area\",\"Area\",\"Area\",\"Area\",\"Area\",\"Area\",\"Area\",\"Area\",\"Area\",\"Area\",\"Area\",\"Area\",\"Area\",\"Area\",\"Area\",\"Area\",\"Area\",\"Area\",\"Area\",\"Area\",\"Area\",\"Area\",\"Area\",\"Area\",\"Area\",\"Area\",\"Area\",\"Area\",\"Area\",\"Area\",\"Area\",\"Area\",\"Area\",\"Area\",\"Area\",\"Area\",\"Area\",\"Area\",\"Area\",\"Area\",\"Area\",\"Area\",\"Area\",\"Area\",\"Area\",\"Area\",\"Area\",\"Area\",\"Area\",\"Area\",\"Area\",\"Area\",\"Area\",\"Area\",\"Area\",\"Area\",\"Area\",\"Area\",\"Area\",\"Area\",\"Area\",\"Area\",\"Area\",\"Area\",\"Area\",\"Area\",\"Area\",\"Area\",\"Area\",\"Area\",\"Area\",\"Area\",\"Area\",\"Area\",\"Area\",\"Area\",\"Area\",\"Area\",\"Area\",\"Area\",\"Area\",\"Area\",\"Area\",\"Area\",\"Area\",\"Area\",\"Area\",\"Area\",\"Area\",\"Area\",\"Area\",\"Area\",\"Area\",\"Area\",\"Area\",\"Area\",\"Area\",\"Area\",\"Area\",\"Area\",\"Area\",\"Area\",\"Area\",\"Area\",\"Area\",\"Area\",\"Area\",\"Area\",\"Area\",\"Area\",\"Area\",\"Area\",\"Area\",\"Area\",\"Area\",\"Area\",\"Area\",\"Area\",\"Area\",\"Area\",\"Area\",\"Area\",\"Area\",\"Area\",\"Area\",\"Area\",\"Area\",\"Area\",\"Area\",\"Area\",\"Area\",\"Area\",\"Area\",\"Area\",\"Area\",\"Area\",\"Area\",\"Area\",\"Area\",\"Area\",\"Area\",\"Area\",\"Area\",\"Area\",\"Area\",\"Area\",\"Area\",\"Area\",\"Area\",\"Area\",\"Area\",\"Area\",\"Area\",\"Area\",\"Area\",\"Area\",\"Area\",\"Area\",\"Area\",\"Area\",\"Area\",\"Area\",\"Area\",\"Area\",\"Area\",\"Area\",\"Area\",\"Area\",\"Area\",\"Area\",\"Area\",\"Area\",\"Area\",\"Area\",\"Area\",\"Area\",\"Area\",\"Area\",\"Area\",\"Area\",\"Area\",\"Area\",\"Area\",\"Area\",\"Area\",\"Area\",\"Area\",\"Area\",\"Area\",\"Area\",\"Area\",\"Area\",\"Area\",\"Area\",\"Area\",\"Area\",\"Area\",\"Area\",\"Area\",\"Area\",\"Area\",\"Area\",\"Area\",\"Area\",\"Area\",\"Area\",\"Area\",\"Area\",\"Area\",\"Area\",\"Area\",\"Area\",\"Area\",\"Area\",\"Area\",\"Area\",\"Area\",\"Area\",\"Area\",\"Area\",\"Area\",\"Area\",\"Area\",\"Area\",\"Area\",\"Area\",\"Area\",\"Area\",\"Area\",\"Area\",\"Area\",\"Area\",\"Area\",\"Area\",\"Area\",\"Area\",\"Area\",\"Area\",\"Area\",\"Area\",\"Area\",\"Area\",\"Area\",\"Area\",\"Area\",\"Area\",\"Area\",\"Area\",\"Area\",\"Area\",\"Area\",\"Area\",\"Area\",\"Area\",\"Area\",\"Area\",\"Area\",\"Area\",\"Area\",\"Area\",\"Area\",\"Area\",\"Area\",\"Area\",\"Area\",\"Area\",\"Area\",\"Area\",\"Area\",\"Area\",\"Area\",\"Area\",\"Area\",\"Area\",\"Area\",\"Area\",\"Area\",\"Area\",\"Area\",\"Area\",\"Area\",\"Area\",\"Area\",\"Area\",\"Area\",\"Area\",\"Area\",\"Area\",\"Area\",\"Area\",\"Area\",\"Area\",\"Area\",\"Area\",\"Area\",\"Area\",\"Area\",\"Area\",\"Area\",\"Area\",\"Area\",\"Area\",\"Area\",\"Area\",\"Area\",\"Area\",\"Area\",\"Area\",\"Area\",\"Area\",\"Area\",\"Area\",\"Area\",\"Area\",\"Area\",\"Area\",\"Area\",\"Area\",\"Area\",\"Area\",\"Area\",\"Area\",\"Area\",\"Area\",\"Area\",\"Area\",\"Area\",\"Area\",\"Area\",\"Area\",\"Area\",\"Area\",\"Area\",\"Area\",\"Area\",\"Area\",\"Area\",\"Area\",\"Area\",\"Area\",\"Area\",\"Area\",\"Area\",\"Area\",\"Area\",\"Area\",\"Area\",\"Area\",\"Area\",\"Area\",\"Area\",\"Area\",\"Area\",\"Area\",\"Area\",\"Area\",\"Area\",\"Area\",\"Area\",\"Area\",\"Area\",\"Area\",\"Area\",\"Area\",\"Area\",\"Area\",\"Area\",\"Area\",\"Area\",\"Area\",\"Area\",\"Area\",\"Area\",\"Area\",\"Area\",\"Area\",\"Area\",\"Area\",\"Area\",\"Area\",\"Area\",\"Area\",\"Area\",\"Area\",\"Area\",\"Area\",\"Area\",\"Area\",\"Area\",\"Area\",\"Area\",\"Area\",\"Area\",\"Area\",\"Area\",\"Area\",\"Area\",\"Area\",\"Area\",\"Area\",\"Area\",\"Area\",\"Area\",\"Area\",\"Area\",\"Area\",\"Area\",\"Area\",\"Area\",\"Area\",\"Area\",\"Area\",\"Area\",\"Area\",\"Area\",\"Area\",\"Area\",\"Area\",\"Area\",\"Area\",\"Area\",\"Area\",\"Area\",\"Area\",\"Area\",\"Area\",\"Area\",\"Area\",\"Area\",\"Area\",\"Area\",\"Area\",\"Area\",\"Area\",\"Area\",\"Area\",\"Area\",\"Area\",\"Area\",\"Area\",\"Area\",\"Area\",\"Area\",\"Area\",\"Area\",\"Area\",\"Area\",\"Area\",\"Area\",\"Area\",\"Area\",\"Area\",\"Area\",\"Area\",\"Area\",\"Area\",\"Area\",\"Area\",\"Area\",\"Area\",\"Area\",\"Area\",\"Area\",\"Area\",\"Area\",\"Area\",\"Area\",\"Area\",\"Area\",\"Area\",\"Area\",\"Area\",\"Area\",\"Area\",\"Area\",\"Area\",\"Area\",\"Area\",\"Area\",\"Area\",\"Area\",\"Area\",\"Area\",\"Area\",\"Area\",\"Area\",\"Area\",\"Area\",\"Area\",\"Area\",\"Area\",\"Area\",\"Area\",\"Area\",\"Area\",\"Area\",\"Area\",\"Area\",\"Area\",\"Area\",\"Area\",\"Area\",\"Area\",\"Area\",\"Area\",\"Area\",\"Area\",\"Area\",\"Area\",\"Area\",\"Area\",\"Area\",\"Area\",\"Area\",\"Area\",\"Area\",\"Area\",\"Area\",\"Area\",\"Area\",\"Area\",\"Area\",\"Area\",\"Area\",\"Area\",\"Area\",\"Area\",\"Area\",\"Area\",\"Area\",\"Area\",\"Area\",\"Area\",\"Area\",\"Area\",\"Area\",\"Area\",\"Area\",\"Area\",\"Area\",\"Area\",\"Area\",\"Area\",\"Area\",\"Area\",\"Area\",\"Area\",\"Area\",\"Area\",\"Area\",\"Area\",\"Area\",\"Area\",\"Area\",\"Area\",\"Area\",\"Area\",\"Area\",\"Area\",\"Area\",\"Area\",\"Area\",\"Area\",\"Area\",\"Area\",\"Area\",\"Area\",\"Area\",\"Area\",\"Area\",\"Area\",\"Area\",\"Area\",\"Area\",\"Area\",\"Area\",\"Area\",\"Area\",\"Area\",\"Area\",\"Area\",\"Area\",\"Area\",\"Area\",\"Area\",\"Area\",\"Area\",\"Area\",\"Area\",\"Area\",\"Area\",\"Area\",\"Area\",\"Area\",\"Area\",\"Area\",\"Area\",\"Area\",\"Area\",\"Area\",\"Area\",\"Area\",\"Area\",\"Area\",\"Area\",\"Area\",\"Area\",\"Area\",\"Area\",\"Area\",\"Area\",\"Area\",\"Area\",\"Area\",\"Area\",\"Area\",\"Area\",\"Area\",\"Area\",\"Area\",\"Area\",\"Area\",\"Area\",\"Area\",\"Area\",\"Area\",\"Area\",\"Area\",\"Area\",\"Area\",\"Area\",\"Area\",\"Area\",\"Area\",\"Area\",\"Area\",\"Area\",\"Area\",\"Area\",\"Area\",\"Area\",\"Area\",\"Area\",\"Area\",\"Area\",\"Area\",\"Area\",\"Area\",\"Area\",\"Area\",\"Area\",\"Area\",\"Area\",\"Area\",\"Area\",\"Area\",\"Area\",\"Area\",\"Area\",\"Area\",\"Area\",\"Area\",\"Area\",\"Area\",\"Area\",\"Area\",\"Area\",\"Area\",\"Area\",\"Area\",\"Area\",\"Area\",\"Area\",\"Area\",\"Area\",\"Area\",\"Area\",\"Area\",\"Area\",\"Area\",\"Area\",\"Area\",\"Area\",\"Area\",\"Area\",\"Area\",\"Area\",\"Area\",\"Area\",\"Area\",\"Area\",\"Area\",\"Area\",\"Area\",\"Area\",\"Area\",\"Area\",\"Area\",\"Area\",\"Area\",\"Area\",\"Area\",\"Area\",\"Area\",\"Area\",\"Area\",\"Area\",\"Area\",\"Area\",\"Area\",\"Area\",\"Area\",\"Area\",\"Area\",\"Area\",\"Area\",\"Area\",\"Area\",\"Area\",\"Area\",\"Area\",\"Area\",\"Area\",\"Area\",\"Area\",\"Area\",\"Area\",\"Area\",\"Area\",\"Area\",\"Area\",\"Area\",\"Area\",\"Area\",\"Area\",\"Area\",\"Area\",\"Area\",\"Area\",\"Area\",\"Area\",\"Area\",\"Area\",\"Area\",\"Area\",\"Area\",\"Area\",\"Area\",\"Status\",\"Status\",\"Status\",\"Status\",\"Status\",\"Status\",\"Status\",\"Status\",\"Status\",\"Status\",\"Status\",\"Status\",\"Status\",\"Status\",\"Status\",\"Status\",\"Status\",\"Status\",\"Status\",\"Status\",\"Status\",\"Status\",\"Status\",\"Status\",\"Status\",\"Status\",\"Status\",\"Status\",\"Status\",\"Status\",\"Status\",\"Status\",\"Status\",\"Status\",\"Status\",\"Status\",\"Status\",\"Status\",\"Status\",\"Status\",\"Status\",\"Status\",\"Status\",\"Status\",\"Status\",\"Status\",\"Status\",\"Status\",\"Status\",\"Status\",\"Status\",\"Status\",\"Status\",\"Status\",\"Status\",\"Status\",\"Status\",\"Status\",\"Status\",\"Status\",\"Status\",\"Status\",\"Status\",\"Status\",\"Status\",\"Status\",\"Status\",\"Status\",\"Status\",\"Status\",\"Status\",\"Status\",\"Status\",\"Status\",\"Status\",\"Status\",\"Status\",\"Status\",\"Status\",\"Status\",\"Status\",\"Status\",\"Status\",\"Status\",\"Status\",\"Status\",\"Status\",\"Status\",\"Status\",\"Status\",\"Status\",\"Status\",\"Status\",\"Status\",\"Status\",\"Status\",\"Status\",\"Status\",\"Status\",\"Status\",\"Status\",\"Status\",\"Status\",\"Status\",\"Status\",\"Status\",\"Status\",\"Status\",\"Status\",\"Status\",\"Status\",\"Status\",\"Status\",\"Status\",\"Status\",\"Status\",\"Status\",\"Status\",\"Status\",\"Status\",\"Status\",\"Status\",\"Status\",\"Status\",\"Status\",\"Status\",\"Status\",\"Status\",\"Status\",\"Status\",\"Status\",\"Status\",\"Status\",\"Status\",\"Status\",\"Status\",\"Status\",\"Status\",\"Status\",\"Status\",\"Status\",\"Status\",\"Status\",\"Status\",\"Status\",\"Status\",\"Status\",\"Status\",\"Status\",\"Status\",\"Status\",\"Status\",\"Status\",\"Status\",\"Status\",\"Status\",\"Status\",\"Status\",\"Status\",\"Status\",\"Status\",\"Status\",\"Status\",\"Status\",\"Status\",\"Status\",\"Status\",\"Status\",\"Status\",\"Status\",\"Status\",\"Status\",\"Status\",\"Status\",\"Status\",\"Status\",\"Status\",\"Status\",\"Status\",\"Status\",\"Status\",\"Status\",\"Status\",\"Status\",\"Status\",\"Status\",\"Status\",\"Status\",\"Status\",\"Status\",\"Status\",\"Status\",\"Status\",\"Status\",\"Status\",\"Status\",\"Status\",\"Status\",\"Status\",\"Status\",\"Status\",\"Status\",\"Status\",\"Status\",\"Status\",\"Status\",\"Status\",\"Status\",\"Status\",\"Status\",\"Status\",\"Status\",\"Status\",\"Status\",\"Status\",\"Status\",\"Status\",\"Status\",\"Status\",\"Status\",\"Status\",\"Status\",\"Status\",\"Status\",\"Status\",\"Status\",\"Status\",\"Status\",\"Status\",\"Status\",\"Status\",\"Status\",\"Status\",\"Status\",\"Status\",\"Status\",\"Status\",\"Status\",\"Status\",\"Status\",\"Status\",\"Status\",\"Status\",\"Status\",\"Status\",\"Status\",\"Status\",\"Status\",\"Status\",\"Status\",\"Status\",\"Status\",\"Status\",\"Status\",\"Status\",\"Status\",\"Status\",\"Status\",\"Status\",\"Status\",\"Status\",\"Status\",\"Status\",\"Status\",\"Status\",\"Status\",\"Status\",\"Status\",\"Status\",\"Status\",\"Status\",\"Status\",\"Status\",\"Status\",\"Status\",\"Status\",\"Status\",\"Status\",\"Status\",\"Status\",\"Status\",\"Status\",\"Status\",\"Status\",\"Status\",\"Status\",\"Status\",\"Status\",\"Status\",\"Status\",\"Status\",\"Status\",\"Status\",\"Status\",\"Status\",\"Status\",\"Status\",\"Status\",\"Status\",\"Status\",\"Status\",\"Status\",\"Status\",\"Status\",\"Status\",\"Status\",\"Status\",\"Status\",\"Status\",\"Status\",\"Status\",\"Status\",\"Status\",\"Status\",\"Status\",\"Status\",\"Status\",\"Status\",\"Status\",\"Status\",\"Status\",\"Status\",\"Status\",\"Status\",\"Status\",\"Status\",\"Status\",\"Status\",\"Status\",\"Status\",\"Status\",\"Status\",\"Status\",\"Status\",\"Status\",\"Status\",\"Status\",\"Status\",\"Status\",\"Status\",\"Status\",\"Status\",\"Status\",\"Status\",\"Status\",\"Status\",\"Status\",\"Status\",\"Status\",\"Status\",\"Status\",\"Status\",\"Status\",\"Status\",\"Status\",\"Status\",\"Status\",\"Status\",\"Status\",\"Status\",\"Status\",\"Status\",\"Status\",\"Status\",\"Status\",\"Status\",\"Status\",\"Status\",\"Status\",\"Status\",\"Status\",\"Status\",\"Status\",\"Status\",\"Status\",\"Status\",\"Status\",\"Status\",\"Status\",\"Status\",\"Status\",\"Status\",\"Status\",\"Status\",\"Status\",\"Status\",\"Status\",\"Status\",\"Status\",\"Status\",\"Status\",\"Status\",\"Status\",\"Status\",\"Status\",\"Status\",\"Status\",\"Status\",\"Status\",\"Status\",\"Status\",\"Status\",\"Status\",\"Status\",\"Status\",\"Status\",\"Status\",\"Status\",\"Status\",\"Status\",\"Status\",\"Status\",\"Status\",\"Status\",\"Status\",\"Status\",\"Status\",\"Status\",\"Status\",\"Status\",\"Status\",\"Status\",\"Status\",\"Status\",\"Status\",\"Status\",\"Status\",\"Status\",\"Status\",\"Status\",\"Status\",\"Status\",\"Status\",\"Status\",\"Status\",\"Status\",\"Status\",\"Status\",\"Status\",\"Status\",\"Status\",\"Status\",\"Status\",\"Status\",\"Status\",\"Status\",\"Status\",\"Status\",\"Status\",\"Status\",\"Status\",\"Status\",\"Status\",\"Status\",\"Status\",\"Status\",\"Status\",\"Status\",\"Status\",\"Status\",\"Status\",\"Status\",\"Status\",\"Status\",\"Status\",\"Status\",\"Status\",\"Status\",\"Status\",\"Status\",\"Status\",\"Status\",\"Status\",\"Status\",\"Status\",\"Status\",\"Status\",\"Status\",\"Status\",\"Status\",\"Status\",\"Status\",\"Status\",\"Status\",\"Status\",\"Status\",\"Status\",\"Status\",\"Status\",\"Status\",\"Status\",\"Status\",\"Status\",\"Status\",\"Status\",\"Status\",\"Status\",\"Status\",\"Status\",\"Status\",\"Status\",\"Status\",\"Status\",\"Status\",\"Status\",\"Status\",\"Status\",\"Status\",\"Status\",\"Status\",\"Status\",\"Status\",\"Status\",\"Status\",\"Status\",\"Status\",\"Status\",\"Status\",\"Status\",\"Status\",\"Status\",\"Status\",\"Status\",\"Status\",\"Status\",\"Status\",\"Status\",\"Status\",\"Status\",\"Status\",\"Status\",\"Status\",\"Status\",\"Status\",\"Status\",\"Status\",\"Status\",\"Status\",\"Status\",\"Status\",\"Status\",\"Status\",\"Status\",\"Status\",\"Status\",\"Status\",\"Status\",\"Status\",\"Status\",\"Status\",\"Status\",\"Status\",\"Status\",\"Status\",\"Status\",\"Status\",\"Status\",\"Status\",\"Status\",\"Status\",\"Status\",\"Status\",\"Status\",\"Status\",\"Status\",\"Status\",\"Status\",\"Status\",\"Status\",\"Status\",\"Status\",\"Status\",\"Status\",\"Status\",\"Status\",\"Status\",\"Status\",\"Status\",\"Status\",\"Status\",\"Status\",\"Status\",\"Status\",\"Status\",\"Status\",\"Status\",\"Status\",\"Status\",\"Status\",\"Status\",\"Status\",\"Status\",\"Status\",\"Status\",\"Status\",\"Status\",\"Status\",\"Status\",\"Status\",\"Status\",\"Status\",\"Status\",\"Status\",\"Status\",\"Status\",\"Status\",\"Status\",\"Status\",\"Status\",\"Status\",\"Status\",\"Status\",\"Status\",\"Status\",\"Status\",\"Status\",\"Status\",\"Status\",\"Status\",\"Status\",\"Status\",\"Status\",\"Status\",\"Status\",\"Status\",\"Status\",\"Status\",\"Status\",\"Status\",\"Status\",\"Status\",\"Status\",\"Status\",\"Status\",\"Status\",\"Status\",\"Status\",\"Status\",\"Status\",\"Status\",\"Status\",\"Status\",\"Status\",\"Status\",\"Status\",\"Status\",\"Status\",\"Status\",\"Status\",\"Status\",\"Status\",\"Status\",\"Status\",\"Status\",\"Status\",\"Status\",\"Status\",\"Status\",\"Status\",\"Status\",\"Status\",\"Status\",\"Status\",\"Status\",\"Status\",\"Status\",\"Status\",\"Status\",\"Status\",\"Status\",\"Status\",\"Status\",\"Status\",\"Status\",\"Status\",\"Status\",\"Status\",\"Status\",\"Status\",\"Status\",\"Status\",\"Status\",\"Status\",\"Status\",\"Status\",\"Status\",\"Status\",\"Status\",\"Status\",\"Status\",\"Status\",\"Status\",\"Status\",\"Status\",\"Status\",\"Status\",\"Status\",\"Status\",\"Status\",\"Status\",\"Status\",\"Status\",\"Status\",\"Status\",\"Status\",\"Status\",\"Status\",\"Status\",\"Status\",\"Status\",\"Status\",\"Status\",\"Status\",\"Status\",\"Status\",\"Status\",\"Status\",\"Status\",\"Status\",\"Status\",\"Status\",\"Status\",\"Status\",\"Status\",\"Status\",\"Status\",\"Status\",\"Status\",\"Status\",\"Status\",\"Status\",\"Status\",\"Status\",\"Status\",\"Status\",\"Status\",\"Status\",\"Status\",\"Status\",\"Status\",\"Status\",\"Status\",\"Status\",\"Status\",\"Status\",\"Status\",\"Status\",\"Status\",\"Status\",\"Status\",\"Status\",\"Status\",\"Status\",\"Status\",\"Status\",\"Status\",\"Status\",\"Status\",\"Status\",\"Status\",\"Status\",\"Status\",\"Status\",\"Status\",\"Status\",\"Status\",\"Status\",\"Status\",\"Status\",\"Status\",\"Status\",\"Status\",\"Status\",\"Status\",\"Status\",\"Status\",\"Status\",\"Status\",\"Status\",\"Status\",\"Status\",\"Status\",\"Status\",\"Status\",\"Status\",\"Status\",\"Status\",\"Status\",\"Status\",\"Status\",\"Status\",\"Status\",\"Status\",\"Status\",\"Status\",\"Status\",\"Status\",\"Status\",\"Status\",\"Status\",\"Status\",\"Status\",\"Status\",\"Status\",\"Status\",\"Status\",\"Status\",\"Status\",\"Status\",\"Status\",\"Status\",\"Status\",\"Status\",\"Status\",\"Status\",\"Status\",\"Status\",\"Status\",\"Status\",\"Status\",\"Status\",\"Status\",\"Status\",\"Status\",\"Status\",\"Status\",\"Status\",\"Status\",\"Status\",\"Status\",\"Status\",\"Status\",\"Status\",\"Status\",\"Status\",\"Status\",\"Status\",\"Status\",\"Status\",\"Status\",\"Status\",\"Status\",\"Status\",\"Status\",\"Status\",\"Status\",\"Status\",\"Status\",\"Status\",\"Status\",\"Status\",\"Status\",\"Status\",\"Status\",\"Status\",\"Status\",\"Status\",\"Status\",\"Status\",\"Status\",\"Status\",\"Status\",\"Status\",\"Status\",\"Status\",\"Status\",\"Status\",\"Status\",\"Status\",\"Status\",\"Status\",\"Status\",\"Status\",\"Status\",\"Status\",\"Status\",\"Status\",\"Status\",\"Status\",\"Status\",\"Status\",\"Status\",\"Status\",\"Status\",\"Status\",\"Status\",\"Status\",\"Status\",\"Status\",\"Status\",\"Status\",\"Status\",\"Status\",\"Status\",\"Status\",\"Status\",\"Status\",\"Status\",\"Status\",\"Status\",\"Status\",\"Status\",\"Status\",\"Status\",\"Status\",\"Status\",\"Status\",\"Status\",\"Status\",\"Status\",\"Status\",\"Status\",\"Status\",\"Status\",\"Status\",\"Status\",\"Status\",\"Status\",\"Status\",\"Status\",\"Status\",\"Status\",\"Status\",\"Status\",\"Status\",\"Status\",\"Status\",\"Status\",\"Status\",\"Status\",\"Status\",\"Status\",\"Status\",\"Status\",\"Status\",\"Status\",\"Status\",\"Status\",\"Status\",\"Status\",\"Status\",\"Status\",\"Status\",\"Status\",\"Status\",\"Status\",\"Status\",\"Status\",\"Status\",\"Status\",\"Status\",\"Status\",\"Status\",\"Status\",\"Status\",\"Status\",\"Status\",\"Status\",\"Status\",\"Status\",\"Status\",\"Status\",\"Status\",\"Status\",\"Status\",\"Status\",\"Status\",\"Status\",\"Status\",\"Status\",\"Status\",\"Status\",\"Status\",\"Status\",\"Status\",\"Status\",\"Status\",\"Status\",\"Status\",\"Status\",\"Status\",\"Status\",\"Status\",\"Status\",\"Status\",\"Status\",\"Status\",\"Status\",\"Status\",\"Status\",\"Status\",\"Status\",\"Status\",\"Status\",\"Status\",\"Status\",\"Status\",\"Status\",\"Status\",\"Status\",\"Status\",\"Status\",\"Status\",\"Status\",\"Status\",\"Status\",\"Status\",\"Status\",\"Status\",\"Status\",\"Status\",\"Status\",\"Status\",\"Status\",\"Status\",\"Status\",\"Status\",\"Status\",\"Status\",\"Status\",\"Status\",\"Status\",\"Status\",\"Status\",\"Status\",\"Status\",\"Status\",\"Status\",\"Status\",\"Status\",\"Status\",\"Status\",\"Status\",\"Status\",\"Status\",\"Status\",\"Status\",\"Status\",\"Status\",\"Status\",\"Status\",\"Status\",\"Status\",\"Status\",\"Status\",\"Status\",\"Status\",\"Status\",\"Status\",\"Status\",\"Status\",\"Status\",\"Status\",\"Rooms\",\"Rooms\",\"Rooms\",\"Rooms\",\"Rooms\",\"Rooms\",\"Rooms\",\"Rooms\",\"Rooms\",\"Rooms\",\"Rooms\",\"Rooms\",\"Rooms\",\"Rooms\",\"Rooms\",\"Rooms\",\"Rooms\",\"Rooms\",\"Rooms\",\"Rooms\",\"Rooms\",\"Rooms\",\"Rooms\",\"Rooms\",\"Rooms\",\"Rooms\",\"Rooms\",\"Rooms\",\"Rooms\",\"Rooms\",\"Rooms\",\"Rooms\",\"Rooms\",\"Rooms\",\"Rooms\",\"Rooms\",\"Rooms\",\"Rooms\",\"Rooms\",\"Rooms\",\"Rooms\",\"Rooms\",\"Rooms\",\"Rooms\",\"Rooms\",\"Rooms\",\"Rooms\",\"Rooms\",\"Rooms\",\"Rooms\",\"Rooms\",\"Rooms\",\"Rooms\",\"Rooms\",\"Rooms\",\"Rooms\",\"Rooms\",\"Rooms\",\"Rooms\",\"Rooms\",\"Rooms\",\"Rooms\",\"Rooms\",\"Rooms\",\"Rooms\",\"Rooms\",\"Rooms\",\"Rooms\",\"Rooms\",\"Rooms\",\"Rooms\",\"Rooms\",\"Rooms\",\"Rooms\",\"Rooms\",\"Rooms\",\"Rooms\",\"Rooms\",\"Rooms\",\"Rooms\",\"Rooms\",\"Rooms\",\"Rooms\",\"Rooms\",\"Rooms\",\"Rooms\",\"Rooms\",\"Rooms\",\"Rooms\",\"Rooms\",\"Rooms\",\"Rooms\",\"Rooms\",\"Rooms\",\"Rooms\",\"Rooms\",\"Rooms\",\"Rooms\",\"Rooms\",\"Rooms\",\"Rooms\",\"Rooms\",\"Rooms\",\"Rooms\",\"Rooms\",\"Rooms\",\"Rooms\",\"Rooms\",\"Rooms\",\"Rooms\",\"Rooms\",\"Rooms\",\"Rooms\",\"Rooms\",\"Rooms\",\"Rooms\",\"Rooms\",\"Rooms\",\"Rooms\",\"Rooms\",\"Rooms\",\"Rooms\",\"Rooms\",\"Rooms\",\"Rooms\",\"Rooms\",\"Rooms\",\"Rooms\",\"Rooms\",\"Rooms\",\"Rooms\",\"Rooms\",\"Rooms\",\"Rooms\",\"Rooms\",\"Rooms\",\"Rooms\",\"Rooms\",\"Rooms\",\"Rooms\",\"Rooms\",\"Rooms\",\"Rooms\",\"Rooms\",\"Rooms\",\"Rooms\",\"Rooms\",\"Rooms\",\"Rooms\",\"Rooms\",\"Rooms\",\"Rooms\",\"Rooms\",\"Rooms\",\"Rooms\",\"Rooms\",\"Rooms\",\"Rooms\",\"Rooms\",\"Rooms\",\"Rooms\",\"Rooms\",\"Rooms\",\"Rooms\",\"Rooms\",\"Rooms\",\"Rooms\",\"Rooms\",\"Rooms\",\"Rooms\",\"Rooms\",\"Rooms\",\"Rooms\",\"Rooms\",\"Rooms\",\"Rooms\",\"Rooms\",\"Rooms\",\"Rooms\",\"Rooms\",\"Rooms\",\"Rooms\",\"Rooms\",\"Rooms\",\"Rooms\",\"Rooms\",\"Rooms\",\"Rooms\",\"Rooms\",\"Rooms\",\"Rooms\",\"Rooms\",\"Rooms\",\"Rooms\",\"Rooms\",\"Rooms\",\"Rooms\",\"Rooms\",\"Rooms\",\"Rooms\",\"Rooms\",\"Rooms\",\"Rooms\",\"Rooms\",\"Rooms\",\"Rooms\",\"Rooms\",\"Rooms\",\"Rooms\",\"Rooms\",\"Rooms\",\"Rooms\",\"Rooms\",\"Rooms\",\"Rooms\",\"Rooms\",\"Rooms\",\"Rooms\",\"Rooms\",\"Rooms\",\"Rooms\",\"Rooms\",\"Rooms\",\"Rooms\",\"Rooms\",\"Rooms\",\"Rooms\",\"Rooms\",\"Rooms\",\"Rooms\",\"Rooms\",\"Rooms\",\"Rooms\",\"Rooms\",\"Rooms\",\"Rooms\",\"Rooms\",\"Rooms\",\"Rooms\",\"Rooms\",\"Rooms\",\"Rooms\",\"Rooms\",\"Rooms\",\"Rooms\",\"Rooms\",\"Rooms\",\"Rooms\",\"Rooms\",\"Rooms\",\"Rooms\",\"Rooms\",\"Rooms\",\"Rooms\",\"Rooms\",\"Rooms\",\"Rooms\",\"Rooms\",\"Rooms\",\"Rooms\",\"Rooms\",\"Rooms\",\"Rooms\",\"Rooms\",\"Rooms\",\"Rooms\",\"Rooms\",\"Rooms\",\"Rooms\",\"Rooms\",\"Rooms\",\"Rooms\",\"Rooms\",\"Rooms\",\"Rooms\",\"Rooms\",\"Rooms\",\"Rooms\",\"Rooms\",\"Rooms\",\"Rooms\",\"Rooms\",\"Rooms\",\"Rooms\",\"Rooms\",\"Rooms\",\"Rooms\",\"Rooms\",\"Rooms\",\"Rooms\",\"Rooms\",\"Rooms\",\"Rooms\",\"Rooms\",\"Rooms\",\"Rooms\",\"Rooms\",\"Rooms\",\"Rooms\",\"Rooms\",\"Rooms\",\"Rooms\",\"Rooms\",\"Rooms\",\"Rooms\",\"Rooms\",\"Rooms\",\"Rooms\",\"Rooms\",\"Rooms\",\"Rooms\",\"Rooms\",\"Rooms\",\"Rooms\",\"Rooms\",\"Rooms\",\"Rooms\",\"Rooms\",\"Rooms\",\"Rooms\",\"Rooms\",\"Rooms\",\"Rooms\",\"Rooms\",\"Rooms\",\"Rooms\",\"Rooms\",\"Rooms\",\"Rooms\",\"Rooms\",\"Rooms\",\"Rooms\",\"Rooms\",\"Rooms\",\"Rooms\",\"Rooms\",\"Rooms\",\"Rooms\",\"Rooms\",\"Rooms\",\"Rooms\",\"Rooms\",\"Rooms\",\"Rooms\",\"Rooms\",\"Rooms\",\"Rooms\",\"Rooms\",\"Rooms\",\"Rooms\",\"Rooms\",\"Rooms\",\"Rooms\",\"Rooms\",\"Rooms\",\"Rooms\",\"Rooms\",\"Rooms\",\"Rooms\",\"Rooms\",\"Rooms\",\"Rooms\",\"Rooms\",\"Rooms\",\"Rooms\",\"Rooms\",\"Rooms\",\"Rooms\",\"Rooms\",\"Rooms\",\"Rooms\",\"Rooms\",\"Rooms\",\"Rooms\",\"Rooms\",\"Rooms\",\"Rooms\",\"Rooms\",\"Rooms\",\"Rooms\",\"Rooms\",\"Rooms\",\"Rooms\",\"Rooms\",\"Rooms\",\"Rooms\",\"Rooms\",\"Rooms\",\"Rooms\",\"Rooms\",\"Rooms\",\"Rooms\",\"Rooms\",\"Rooms\",\"Rooms\",\"Rooms\",\"Rooms\",\"Rooms\",\"Rooms\",\"Rooms\",\"Rooms\",\"Rooms\",\"Rooms\",\"Rooms\",\"Rooms\",\"Rooms\",\"Rooms\",\"Rooms\",\"Rooms\",\"Rooms\",\"Rooms\",\"Rooms\",\"Rooms\",\"Rooms\",\"Rooms\",\"Rooms\",\"Rooms\",\"Rooms\",\"Rooms\",\"Rooms\",\"Rooms\",\"Rooms\",\"Rooms\",\"Rooms\",\"Rooms\",\"Rooms\",\"Rooms\",\"Rooms\",\"Rooms\",\"Rooms\",\"Rooms\",\"Rooms\",\"Rooms\",\"Rooms\",\"Rooms\",\"Rooms\",\"Rooms\",\"Rooms\",\"Rooms\",\"Rooms\",\"Rooms\",\"Rooms\",\"Rooms\",\"Rooms\",\"Rooms\",\"Rooms\",\"Rooms\",\"Rooms\",\"Rooms\",\"Rooms\",\"Rooms\",\"Rooms\",\"Rooms\",\"Rooms\",\"Rooms\",\"Rooms\",\"Rooms\",\"Rooms\",\"Rooms\",\"Rooms\",\"Rooms\",\"Rooms\",\"Rooms\",\"Rooms\",\"Rooms\",\"Rooms\",\"Rooms\",\"Rooms\",\"Rooms\",\"Rooms\",\"Rooms\",\"Rooms\",\"Rooms\",\"Rooms\",\"Rooms\",\"Rooms\",\"Rooms\",\"Rooms\",\"Rooms\",\"Rooms\",\"Rooms\",\"Rooms\",\"Rooms\",\"Rooms\",\"Rooms\",\"Rooms\",\"Rooms\",\"Rooms\",\"Rooms\",\"Rooms\",\"Rooms\",\"Rooms\",\"Rooms\",\"Rooms\",\"Rooms\",\"Rooms\",\"Rooms\",\"Rooms\",\"Rooms\",\"Rooms\",\"Rooms\",\"Rooms\",\"Rooms\",\"Rooms\",\"Rooms\",\"Rooms\",\"Rooms\",\"Rooms\",\"Rooms\",\"Rooms\",\"Rooms\",\"Rooms\",\"Rooms\",\"Rooms\",\"Rooms\",\"Rooms\",\"Rooms\",\"Rooms\",\"Rooms\",\"Rooms\",\"Rooms\",\"Rooms\",\"Rooms\",\"Rooms\",\"Rooms\",\"Rooms\",\"Rooms\",\"Rooms\",\"Rooms\",\"Rooms\",\"Rooms\",\"Rooms\",\"Rooms\",\"Rooms\",\"Rooms\",\"Rooms\",\"Rooms\",\"Rooms\",\"Rooms\",\"Rooms\",\"Rooms\",\"Rooms\",\"Rooms\",\"Rooms\",\"Rooms\",\"Rooms\",\"Rooms\",\"Rooms\",\"Rooms\",\"Rooms\",\"Rooms\",\"Rooms\",\"Rooms\",\"Rooms\",\"Rooms\",\"Rooms\",\"Rooms\",\"Rooms\",\"Rooms\",\"Rooms\",\"Rooms\",\"Rooms\",\"Rooms\",\"Rooms\",\"Rooms\",\"Rooms\",\"Rooms\",\"Rooms\",\"Rooms\",\"Rooms\",\"Rooms\",\"Rooms\",\"Rooms\",\"Rooms\",\"Rooms\",\"Rooms\",\"Rooms\",\"Rooms\",\"Rooms\",\"Rooms\",\"Rooms\",\"Rooms\",\"Rooms\",\"Rooms\",\"Rooms\",\"Rooms\",\"Rooms\",\"Rooms\",\"Rooms\",\"Rooms\",\"Rooms\",\"Rooms\",\"Rooms\",\"Rooms\",\"Rooms\",\"Rooms\",\"Rooms\",\"Rooms\",\"Rooms\",\"Rooms\",\"Rooms\",\"Rooms\",\"Rooms\",\"Rooms\",\"Rooms\",\"Rooms\",\"Rooms\",\"Rooms\",\"Rooms\",\"Rooms\",\"Rooms\",\"Rooms\",\"Rooms\",\"Rooms\",\"Rooms\",\"Rooms\",\"Rooms\",\"Rooms\",\"Rooms\",\"Rooms\",\"Rooms\",\"Rooms\",\"Rooms\",\"Rooms\",\"Rooms\",\"Rooms\",\"Rooms\",\"Rooms\",\"Rooms\",\"Rooms\",\"Rooms\",\"Rooms\",\"Rooms\",\"Rooms\",\"Rooms\",\"Rooms\",\"Rooms\",\"Rooms\",\"Rooms\",\"Rooms\",\"Rooms\",\"Rooms\",\"Rooms\",\"Rooms\",\"Rooms\",\"Rooms\",\"Rooms\",\"Rooms\",\"Rooms\",\"Rooms\",\"Rooms\",\"Rooms\",\"Rooms\",\"Rooms\",\"Rooms\",\"Rooms\",\"Rooms\",\"Rooms\",\"Rooms\",\"Rooms\",\"Rooms\",\"Rooms\",\"Rooms\",\"Rooms\",\"Rooms\",\"Rooms\",\"Rooms\",\"Rooms\",\"Rooms\",\"Rooms\",\"Rooms\",\"Rooms\",\"Rooms\",\"Rooms\",\"Rooms\",\"Rooms\",\"Rooms\",\"Rooms\",\"Rooms\",\"Rooms\",\"Rooms\",\"Rooms\",\"Rooms\",\"Rooms\",\"Rooms\",\"Rooms\",\"Rooms\",\"Rooms\",\"Rooms\",\"Rooms\",\"Rooms\",\"Rooms\",\"Rooms\",\"Rooms\",\"Rooms\",\"Rooms\",\"Rooms\",\"Rooms\",\"Rooms\",\"Rooms\",\"Rooms\",\"Rooms\",\"Rooms\",\"Rooms\",\"Rooms\",\"Rooms\",\"Rooms\",\"Rooms\",\"Rooms\",\"Rooms\",\"Rooms\",\"Rooms\",\"Rooms\",\"Rooms\",\"Rooms\",\"Rooms\",\"Rooms\",\"Rooms\",\"Rooms\",\"Rooms\",\"Rooms\",\"Rooms\",\"Rooms\",\"Rooms\",\"Rooms\",\"Rooms\",\"Rooms\",\"Rooms\",\"Rooms\",\"Rooms\",\"Rooms\",\"Rooms\",\"Rooms\",\"Rooms\",\"Rooms\",\"Rooms\",\"Rooms\",\"Rooms\",\"Rooms\",\"Rooms\",\"Rooms\",\"Rooms\",\"Rooms\",\"Rooms\",\"Rooms\",\"Rooms\",\"Rooms\",\"Rooms\",\"Rooms\",\"Rooms\",\"Rooms\",\"Rooms\",\"Rooms\",\"Rooms\",\"Rooms\",\"Rooms\",\"Rooms\",\"Rooms\",\"Rooms\",\"Rooms\",\"Rooms\",\"Rooms\",\"Rooms\",\"Rooms\",\"Rooms\",\"Rooms\",\"Rooms\",\"Rooms\",\"Rooms\",\"Rooms\",\"Rooms\",\"Rooms\",\"Rooms\",\"Rooms\",\"Rooms\",\"Rooms\",\"Rooms\",\"Rooms\",\"Rooms\",\"Rooms\",\"Rooms\",\"Rooms\",\"Rooms\",\"Rooms\",\"Rooms\",\"Rooms\",\"Rooms\",\"Rooms\",\"Rooms\",\"Rooms\",\"Rooms\",\"Rooms\",\"Rooms\",\"Rooms\",\"Rooms\",\"Rooms\",\"Rooms\",\"Rooms\",\"Rooms\",\"Rooms\",\"Rooms\",\"Rooms\",\"Rooms\",\"Rooms\",\"Rooms\",\"Rooms\",\"Rooms\",\"Rooms\",\"Rooms\",\"Rooms\",\"Rooms\",\"Rooms\",\"Rooms\",\"Rooms\",\"Rooms\",\"Rooms\",\"Rooms\",\"Rooms\",\"Rooms\",\"Rooms\",\"Rooms\",\"Rooms\",\"Rooms\",\"Rooms\",\"Rooms\",\"Rooms\",\"Rooms\",\"Rooms\",\"Rooms\",\"Rooms\",\"Rooms\",\"Rooms\",\"Rooms\",\"Rooms\",\"Rooms\",\"Rooms\",\"Rooms\",\"Rooms\",\"Rooms\",\"Rooms\",\"Rooms\",\"Rooms\",\"Rooms\",\"Rooms\",\"Rooms\",\"Rooms\",\"Rooms\",\"Rooms\",\"Rooms\",\"Rooms\",\"Rooms\",\"Rooms\",\"Rooms\",\"Rooms\",\"Rooms\",\"Rooms\",\"Rooms\",\"Rooms\",\"Rooms\",\"Rooms\",\"Rooms\",\"Rooms\",\"Rooms\",\"Rooms\",\"Rooms\",\"Rooms\",\"Rooms\",\"Rooms\",\"Rooms\",\"Rooms\",\"Rooms\",\"Rooms\",\"Rooms\",\"Rooms\",\"Rooms\",\"Rooms\",\"Rooms\",\"Rooms\",\"Rooms\",\"Rooms\",\"Rooms\",\"Rooms\",\"Rooms\",\"Rooms\",\"Rooms\",\"Rooms\",\"Rooms\",\"Rooms\",\"Rooms\",\"Rooms\",\"Rooms\",\"Rooms\",\"Rooms\",\"Rooms\",\"Rooms\",\"Rooms\",\"Rooms\",\"Rooms\",\"Rooms\",\"Rooms\",\"Rooms\",\"Rooms\",\"Rooms\",\"Rooms\",\"Rooms\",\"Rooms\",\"Rooms\",\"Rooms\",\"Rooms\",\"Rooms\",\"Rooms\",\"Rooms\",\"Rooms\",\"Rooms\",\"Rooms\",\"Rooms\",\"Rooms\",\"Rooms\",\"Rooms\",\"Rooms\",\"Rooms\",\"Rooms\",\"Rooms\",\"Rooms\",\"Rooms\",\"Rooms\",\"Rooms\",\"Rooms\",\"Rooms\",\"Rooms\",\"Rooms\",\"Rooms\",\"Rooms\",\"Rooms\",\"Rooms\",\"Rooms\",\"Rooms\",\"Rooms\",\"Rooms\",\"Rooms\",\"Rooms\",\"Rooms\",\"Rooms\",\"Rooms\",\"Rooms\",\"Rooms\",\"Rooms\",\"Rooms\",\"Rooms\",\"Rooms\",\"Rooms\",\"Rooms\",\"Rooms\",\"Rooms\",\"Rooms\",\"Rooms\",\"Rooms\",\"Rooms\",\"Rooms\",\"Rooms\",\"Rooms\",\"Rooms\",\"Rooms\",\"Rooms\",\"Rooms\",\"Rooms\",\"Rooms\",\"Rooms\",\"Rooms\",\"Rooms\",\"Rooms\",\"Rooms\",\"Rooms\",\"Rooms\",\"Rooms\",\"Rooms\",\"Rooms\",\"Rooms\",\"Rooms\",\"Rooms\",\"Rooms\",\"Rooms\",\"Rooms\",\"Rooms\",\"Rooms\",\"Rooms\",\"Rooms\",\"Rooms\",\"Rooms\",\"Rooms\",\"Rooms\",\"Rooms\",\"Rooms\",\"Rooms\",\"Rooms\",\"Rooms\",\"Rooms\",\"Rooms\",\"Rooms\",\"Rooms\",\"Rooms\",\"Rooms\",\"Rooms\",\"Rooms\",\"Rooms\",\"Rooms\",\"Rooms\",\"Rooms\",\"Rooms\",\"Rooms\",\"Rooms\",\"Rooms\",\"Rooms\",\"Rooms\",\"Rooms\",\"Rooms\",\"Rooms\",\"Rooms\",\"Rooms\",\"Rooms\",\"Rooms\",\"Rooms\",\"Rooms\",\"Rooms\",\"Rooms\",\"Rooms\",\"Rooms\",\"Rooms\",\"Rooms\",\"Rooms\",\"Rooms\",\"Rooms\",\"Rooms\",\"Rooms\",\"Rooms\",\"Rooms\",\"Rooms\",\"Rooms\",\"Rooms\",\"Rooms\",\"Rooms\",\"Rooms\",\"Rooms\",\"Rooms\",\"Rooms\",\"Rooms\",\"Rooms\",\"Rooms\",\"Rooms\",\"Rooms\",\"Rooms\",\"Rooms\",\"Rooms\",\"Bathrooms\",\"Bathrooms\",\"Bathrooms\",\"Bathrooms\",\"Bathrooms\",\"Bathrooms\",\"Bathrooms\",\"Bathrooms\",\"Bathrooms\",\"Bathrooms\",\"Bathrooms\",\"Bathrooms\",\"Bathrooms\",\"Bathrooms\",\"Bathrooms\",\"Bathrooms\",\"Bathrooms\",\"Bathrooms\",\"Bathrooms\",\"Bathrooms\",\"Bathrooms\",\"Bathrooms\",\"Bathrooms\",\"Bathrooms\",\"Bathrooms\",\"Bathrooms\",\"Bathrooms\",\"Bathrooms\",\"Bathrooms\",\"Bathrooms\",\"Bathrooms\",\"Bathrooms\",\"Bathrooms\",\"Bathrooms\",\"Bathrooms\",\"Bathrooms\",\"Bathrooms\",\"Bathrooms\",\"Bathrooms\",\"Bathrooms\",\"Bathrooms\",\"Bathrooms\",\"Bathrooms\",\"Bathrooms\",\"Bathrooms\",\"Bathrooms\",\"Bathrooms\",\"Bathrooms\",\"Bathrooms\",\"Bathrooms\",\"Bathrooms\",\"Bathrooms\",\"Bathrooms\",\"Bathrooms\",\"Bathrooms\",\"Bathrooms\",\"Bathrooms\",\"Bathrooms\",\"Bathrooms\",\"Bathrooms\",\"Bathrooms\",\"Bathrooms\",\"Bathrooms\",\"Bathrooms\",\"Bathrooms\",\"Bathrooms\",\"Bathrooms\",\"Bathrooms\",\"Bathrooms\",\"Bathrooms\",\"Bathrooms\",\"Bathrooms\",\"Bathrooms\",\"Bathrooms\",\"Bathrooms\",\"Bathrooms\",\"Bathrooms\",\"Bathrooms\",\"Bathrooms\",\"Bathrooms\",\"Bathrooms\",\"Bathrooms\",\"Bathrooms\",\"Bathrooms\",\"Bathrooms\",\"Bathrooms\",\"Bathrooms\",\"Bathrooms\",\"Bathrooms\",\"Bathrooms\",\"Bathrooms\",\"Bathrooms\",\"Bathrooms\",\"Bathrooms\",\"Bathrooms\",\"Bathrooms\",\"Bathrooms\",\"Bathrooms\",\"Bathrooms\",\"Bathrooms\",\"Bathrooms\",\"Bathrooms\",\"Bathrooms\",\"Bathrooms\",\"Bathrooms\",\"Bathrooms\",\"Bathrooms\",\"Bathrooms\",\"Bathrooms\",\"Bathrooms\",\"Bathrooms\",\"Bathrooms\",\"Bathrooms\",\"Bathrooms\",\"Bathrooms\",\"Bathrooms\",\"Bathrooms\",\"Bathrooms\",\"Bathrooms\",\"Bathrooms\",\"Bathrooms\",\"Bathrooms\",\"Bathrooms\",\"Bathrooms\",\"Bathrooms\",\"Bathrooms\",\"Bathrooms\",\"Bathrooms\",\"Bathrooms\",\"Bathrooms\",\"Bathrooms\",\"Bathrooms\",\"Bathrooms\",\"Bathrooms\",\"Bathrooms\",\"Bathrooms\",\"Bathrooms\",\"Bathrooms\",\"Bathrooms\",\"Bathrooms\",\"Bathrooms\",\"Bathrooms\",\"Bathrooms\",\"Bathrooms\",\"Bathrooms\",\"Bathrooms\",\"Bathrooms\",\"Bathrooms\",\"Bathrooms\",\"Bathrooms\",\"Bathrooms\",\"Bathrooms\",\"Bathrooms\",\"Bathrooms\",\"Bathrooms\",\"Bathrooms\",\"Bathrooms\",\"Bathrooms\",\"Bathrooms\",\"Bathrooms\",\"Bathrooms\",\"Bathrooms\",\"Bathrooms\",\"Bathrooms\",\"Bathrooms\",\"Bathrooms\",\"Bathrooms\",\"Bathrooms\",\"Bathrooms\",\"Bathrooms\",\"Bathrooms\",\"Bathrooms\",\"Bathrooms\",\"Bathrooms\",\"Bathrooms\",\"Bathrooms\",\"Bathrooms\",\"Bathrooms\",\"Bathrooms\",\"Bathrooms\",\"Bathrooms\",\"Bathrooms\",\"Bathrooms\",\"Bathrooms\",\"Bathrooms\",\"Bathrooms\",\"Bathrooms\",\"Bathrooms\",\"Bathrooms\",\"Bathrooms\",\"Bathrooms\",\"Bathrooms\",\"Bathrooms\",\"Bathrooms\",\"Bathrooms\",\"Bathrooms\",\"Bathrooms\",\"Bathrooms\",\"Bathrooms\",\"Bathrooms\",\"Bathrooms\",\"Bathrooms\",\"Bathrooms\",\"Bathrooms\",\"Bathrooms\",\"Bathrooms\",\"Bathrooms\",\"Bathrooms\",\"Bathrooms\",\"Bathrooms\",\"Bathrooms\",\"Bathrooms\",\"Bathrooms\",\"Bathrooms\",\"Bathrooms\",\"Bathrooms\",\"Bathrooms\",\"Bathrooms\",\"Bathrooms\",\"Bathrooms\",\"Bathrooms\",\"Bathrooms\",\"Bathrooms\",\"Bathrooms\",\"Bathrooms\",\"Bathrooms\",\"Bathrooms\",\"Bathrooms\",\"Bathrooms\",\"Bathrooms\",\"Bathrooms\",\"Bathrooms\",\"Bathrooms\",\"Bathrooms\",\"Bathrooms\",\"Bathrooms\",\"Bathrooms\",\"Bathrooms\",\"Bathrooms\",\"Bathrooms\",\"Bathrooms\",\"Bathrooms\",\"Bathrooms\",\"Bathrooms\",\"Bathrooms\",\"Bathrooms\",\"Bathrooms\",\"Bathrooms\",\"Bathrooms\",\"Bathrooms\",\"Bathrooms\",\"Bathrooms\",\"Bathrooms\",\"Bathrooms\",\"Bathrooms\",\"Bathrooms\",\"Bathrooms\",\"Bathrooms\",\"Bathrooms\",\"Bathrooms\",\"Bathrooms\",\"Bathrooms\",\"Bathrooms\",\"Bathrooms\",\"Bathrooms\",\"Bathrooms\",\"Bathrooms\",\"Bathrooms\",\"Bathrooms\",\"Bathrooms\",\"Bathrooms\",\"Bathrooms\",\"Bathrooms\",\"Bathrooms\",\"Bathrooms\",\"Bathrooms\",\"Bathrooms\",\"Bathrooms\",\"Bathrooms\",\"Bathrooms\",\"Bathrooms\",\"Bathrooms\",\"Bathrooms\",\"Bathrooms\",\"Bathrooms\",\"Bathrooms\",\"Bathrooms\",\"Bathrooms\",\"Bathrooms\",\"Bathrooms\",\"Bathrooms\",\"Bathrooms\",\"Bathrooms\",\"Bathrooms\",\"Bathrooms\",\"Bathrooms\",\"Bathrooms\",\"Bathrooms\",\"Bathrooms\",\"Bathrooms\",\"Bathrooms\",\"Bathrooms\",\"Bathrooms\",\"Bathrooms\",\"Bathrooms\",\"Bathrooms\",\"Bathrooms\",\"Bathrooms\",\"Bathrooms\",\"Bathrooms\",\"Bathrooms\",\"Bathrooms\",\"Bathrooms\",\"Bathrooms\",\"Bathrooms\",\"Bathrooms\",\"Bathrooms\",\"Bathrooms\",\"Bathrooms\",\"Bathrooms\",\"Bathrooms\",\"Bathrooms\",\"Bathrooms\",\"Bathrooms\",\"Bathrooms\",\"Bathrooms\",\"Bathrooms\",\"Bathrooms\",\"Bathrooms\",\"Bathrooms\",\"Bathrooms\",\"Bathrooms\",\"Bathrooms\",\"Bathrooms\",\"Bathrooms\",\"Bathrooms\",\"Bathrooms\",\"Bathrooms\",\"Bathrooms\",\"Bathrooms\",\"Bathrooms\",\"Bathrooms\",\"Bathrooms\",\"Bathrooms\",\"Bathrooms\",\"Bathrooms\",\"Bathrooms\",\"Bathrooms\",\"Bathrooms\",\"Bathrooms\",\"Bathrooms\",\"Bathrooms\",\"Bathrooms\",\"Bathrooms\",\"Bathrooms\",\"Bathrooms\",\"Bathrooms\",\"Bathrooms\",\"Bathrooms\",\"Bathrooms\",\"Bathrooms\",\"Bathrooms\",\"Bathrooms\",\"Bathrooms\",\"Bathrooms\",\"Bathrooms\",\"Bathrooms\",\"Bathrooms\",\"Bathrooms\",\"Bathrooms\",\"Bathrooms\",\"Bathrooms\",\"Bathrooms\",\"Bathrooms\",\"Bathrooms\",\"Bathrooms\",\"Bathrooms\",\"Bathrooms\",\"Bathrooms\",\"Bathrooms\",\"Bathrooms\",\"Bathrooms\",\"Bathrooms\",\"Bathrooms\",\"Bathrooms\",\"Bathrooms\",\"Bathrooms\",\"Bathrooms\",\"Bathrooms\",\"Bathrooms\",\"Bathrooms\",\"Bathrooms\",\"Bathrooms\",\"Bathrooms\",\"Bathrooms\",\"Bathrooms\",\"Bathrooms\",\"Bathrooms\",\"Bathrooms\",\"Bathrooms\",\"Bathrooms\",\"Bathrooms\",\"Bathrooms\",\"Bathrooms\",\"Bathrooms\",\"Bathrooms\",\"Bathrooms\",\"Bathrooms\",\"Bathrooms\",\"Bathrooms\",\"Bathrooms\",\"Bathrooms\",\"Bathrooms\",\"Bathrooms\",\"Bathrooms\",\"Bathrooms\",\"Bathrooms\",\"Bathrooms\",\"Bathrooms\",\"Bathrooms\",\"Bathrooms\",\"Bathrooms\",\"Bathrooms\",\"Bathrooms\",\"Bathrooms\",\"Bathrooms\",\"Bathrooms\",\"Bathrooms\",\"Bathrooms\",\"Bathrooms\",\"Bathrooms\",\"Bathrooms\",\"Bathrooms\",\"Bathrooms\",\"Bathrooms\",\"Bathrooms\",\"Bathrooms\",\"Bathrooms\",\"Bathrooms\",\"Bathrooms\",\"Bathrooms\",\"Bathrooms\",\"Bathrooms\",\"Bathrooms\",\"Bathrooms\",\"Bathrooms\",\"Bathrooms\",\"Bathrooms\",\"Bathrooms\",\"Bathrooms\",\"Bathrooms\",\"Bathrooms\",\"Bathrooms\",\"Bathrooms\",\"Bathrooms\",\"Bathrooms\",\"Bathrooms\",\"Bathrooms\",\"Bathrooms\",\"Bathrooms\",\"Bathrooms\",\"Bathrooms\",\"Bathrooms\",\"Bathrooms\",\"Bathrooms\",\"Bathrooms\",\"Bathrooms\",\"Bathrooms\",\"Bathrooms\",\"Bathrooms\",\"Bathrooms\",\"Bathrooms\",\"Bathrooms\",\"Bathrooms\",\"Bathrooms\",\"Bathrooms\",\"Bathrooms\",\"Bathrooms\",\"Bathrooms\",\"Bathrooms\",\"Bathrooms\",\"Bathrooms\",\"Bathrooms\",\"Bathrooms\",\"Bathrooms\",\"Bathrooms\",\"Bathrooms\",\"Bathrooms\",\"Bathrooms\",\"Bathrooms\",\"Bathrooms\",\"Bathrooms\",\"Bathrooms\",\"Bathrooms\",\"Bathrooms\",\"Bathrooms\",\"Bathrooms\",\"Bathrooms\",\"Bathrooms\",\"Bathrooms\",\"Bathrooms\",\"Bathrooms\",\"Bathrooms\",\"Bathrooms\",\"Bathrooms\",\"Bathrooms\",\"Bathrooms\",\"Bathrooms\",\"Bathrooms\",\"Bathrooms\",\"Bathrooms\",\"Bathrooms\",\"Bathrooms\",\"Bathrooms\",\"Bathrooms\",\"Bathrooms\",\"Bathrooms\",\"Bathrooms\",\"Bathrooms\",\"Bathrooms\",\"Bathrooms\",\"Bathrooms\",\"Bathrooms\",\"Bathrooms\",\"Bathrooms\",\"Bathrooms\",\"Bathrooms\",\"Bathrooms\",\"Bathrooms\",\"Bathrooms\",\"Bathrooms\",\"Bathrooms\",\"Bathrooms\",\"Bathrooms\",\"Bathrooms\",\"Bathrooms\",\"Bathrooms\",\"Bathrooms\",\"Bathrooms\",\"Bathrooms\",\"Bathrooms\",\"Bathrooms\",\"Bathrooms\",\"Bathrooms\",\"Bathrooms\",\"Bathrooms\",\"Bathrooms\",\"Bathrooms\",\"Bathrooms\",\"Bathrooms\",\"Bathrooms\",\"Bathrooms\",\"Bathrooms\",\"Bathrooms\",\"Bathrooms\",\"Bathrooms\",\"Bathrooms\",\"Bathrooms\",\"Bathrooms\",\"Bathrooms\",\"Bathrooms\",\"Bathrooms\",\"Bathrooms\",\"Bathrooms\",\"Bathrooms\",\"Bathrooms\",\"Bathrooms\",\"Bathrooms\",\"Bathrooms\",\"Bathrooms\",\"Bathrooms\",\"Bathrooms\",\"Bathrooms\",\"Bathrooms\",\"Bathrooms\",\"Bathrooms\",\"Bathrooms\",\"Bathrooms\",\"Bathrooms\",\"Bathrooms\",\"Bathrooms\",\"Bathrooms\",\"Bathrooms\",\"Bathrooms\",\"Bathrooms\",\"Bathrooms\",\"Bathrooms\",\"Bathrooms\",\"Bathrooms\",\"Bathrooms\",\"Bathrooms\",\"Bathrooms\",\"Bathrooms\",\"Bathrooms\",\"Bathrooms\",\"Bathrooms\",\"Bathrooms\",\"Bathrooms\",\"Bathrooms\",\"Bathrooms\",\"Bathrooms\",\"Bathrooms\",\"Bathrooms\",\"Bathrooms\",\"Bathrooms\",\"Bathrooms\",\"Bathrooms\",\"Bathrooms\",\"Bathrooms\",\"Bathrooms\",\"Bathrooms\",\"Bathrooms\",\"Bathrooms\",\"Bathrooms\",\"Bathrooms\",\"Bathrooms\",\"Bathrooms\",\"Bathrooms\",\"Bathrooms\",\"Bathrooms\",\"Bathrooms\",\"Bathrooms\",\"Bathrooms\",\"Bathrooms\",\"Bathrooms\",\"Bathrooms\",\"Bathrooms\",\"Bathrooms\",\"Bathrooms\",\"Bathrooms\",\"Bathrooms\",\"Bathrooms\",\"Bathrooms\",\"Bathrooms\",\"Bathrooms\",\"Bathrooms\",\"Bathrooms\",\"Bathrooms\",\"Bathrooms\",\"Bathrooms\",\"Bathrooms\",\"Bathrooms\",\"Bathrooms\",\"Bathrooms\",\"Bathrooms\",\"Bathrooms\",\"Bathrooms\",\"Bathrooms\",\"Bathrooms\",\"Bathrooms\",\"Bathrooms\",\"Bathrooms\",\"Bathrooms\",\"Bathrooms\",\"Bathrooms\",\"Bathrooms\",\"Bathrooms\",\"Bathrooms\",\"Bathrooms\",\"Bathrooms\",\"Bathrooms\",\"Bathrooms\",\"Bathrooms\",\"Bathrooms\",\"Bathrooms\",\"Bathrooms\",\"Bathrooms\",\"Bathrooms\",\"Bathrooms\",\"Bathrooms\",\"Bathrooms\",\"Bathrooms\",\"Bathrooms\",\"Bathrooms\",\"Bathrooms\",\"Bathrooms\",\"Bathrooms\",\"Bathrooms\",\"Bathrooms\",\"Bathrooms\",\"Bathrooms\",\"Bathrooms\",\"Bathrooms\",\"Bathrooms\",\"Bathrooms\",\"Bathrooms\",\"Bathrooms\",\"Bathrooms\",\"Bathrooms\",\"Bathrooms\",\"Bathrooms\",\"Bathrooms\",\"Bathrooms\",\"Bathrooms\",\"Bathrooms\",\"Bathrooms\",\"Bathrooms\",\"Bathrooms\",\"Bathrooms\",\"Bathrooms\",\"Bathrooms\",\"Bathrooms\",\"Bathrooms\",\"Bathrooms\",\"Bathrooms\",\"Bathrooms\",\"Bathrooms\",\"Bathrooms\",\"Bathrooms\",\"Bathrooms\",\"Bathrooms\",\"Bathrooms\",\"Bathrooms\",\"Bathrooms\",\"Bathrooms\",\"Bathrooms\",\"Bathrooms\",\"Bathrooms\",\"Bathrooms\",\"Bathrooms\",\"Bathrooms\",\"Bathrooms\",\"Bathrooms\",\"Bathrooms\",\"Bathrooms\",\"Bathrooms\",\"Bathrooms\",\"Bathrooms\",\"Bathrooms\",\"Bathrooms\",\"Bathrooms\",\"Bathrooms\",\"Bathrooms\",\"Bathrooms\",\"Bathrooms\",\"Bathrooms\",\"Bathrooms\",\"Bathrooms\",\"Bathrooms\",\"Bathrooms\",\"Bathrooms\",\"Bathrooms\",\"Bathrooms\",\"Bathrooms\",\"Bathrooms\",\"Bathrooms\",\"Bathrooms\",\"Bathrooms\",\"Bathrooms\",\"Bathrooms\",\"Bathrooms\",\"Bathrooms\",\"Bathrooms\",\"Bathrooms\",\"Bathrooms\",\"Bathrooms\",\"Bathrooms\",\"Bathrooms\",\"Bathrooms\",\"Bathrooms\",\"Bathrooms\",\"Bathrooms\",\"Bathrooms\",\"Bathrooms\",\"Bathrooms\",\"Bathrooms\",\"Bathrooms\",\"Bathrooms\",\"Bathrooms\",\"Bathrooms\",\"Bathrooms\",\"Bathrooms\",\"Bathrooms\",\"Bathrooms\",\"Bathrooms\",\"Bathrooms\",\"Bathrooms\",\"Bathrooms\",\"Bathrooms\",\"Bathrooms\",\"Bathrooms\",\"Bathrooms\",\"Bathrooms\",\"Bathrooms\",\"Bathrooms\",\"Bathrooms\",\"Bathrooms\",\"Bathrooms\",\"Bathrooms\",\"Bathrooms\",\"Bathrooms\",\"Bathrooms\",\"Bathrooms\",\"Bathrooms\",\"Bathrooms\",\"Bathrooms\",\"Bathrooms\",\"Bathrooms\",\"Bathrooms\",\"Bathrooms\",\"Bathrooms\",\"Bathrooms\",\"Bathrooms\",\"Bathrooms\",\"Bathrooms\",\"Bathrooms\",\"Bathrooms\",\"Bathrooms\",\"Bathrooms\",\"Bathrooms\",\"Bathrooms\",\"Bathrooms\",\"Bathrooms\",\"Bathrooms\",\"Bathrooms\",\"Bathrooms\",\"Bathrooms\",\"Bathrooms\",\"Bathrooms\",\"Bathrooms\",\"Bathrooms\",\"Bathrooms\",\"Bathrooms\",\"Bathrooms\",\"Bathrooms\",\"Bathrooms\",\"Bathrooms\",\"Bathrooms\",\"Bathrooms\",\"Bathrooms\",\"Bathrooms\",\"Bathrooms\",\"Bathrooms\",\"Bathrooms\",\"Bathrooms\",\"Bathrooms\",\"Bathrooms\",\"Bathrooms\",\"Bathrooms\",\"Bathrooms\",\"Bathrooms\",\"Bathrooms\",\"Bathrooms\",\"Bathrooms\",\"Bathrooms\",\"Bathrooms\",\"Bathrooms\",\"Bathrooms\",\"Bathrooms\",\"Bathrooms\",\"Bathrooms\",\"Bathrooms\",\"Bathrooms\",\"Bathrooms\",\"Bathrooms\",\"Bathrooms\",\"Bathrooms\",\"Bathrooms\",\"Bathrooms\",\"Bathrooms\",\"Bathrooms\",\"Bathrooms\",\"Bathrooms\",\"Bathrooms\",\"Bathrooms\",\"Bathrooms\",\"Bathrooms\",\"Bathrooms\",\"Bathrooms\",\"Bathrooms\",\"Bathrooms\",\"Bathrooms\",\"Bathrooms\",\"Bathrooms\",\"Bathrooms\",\"Bathrooms\",\"Bathrooms\",\"Bathrooms\",\"Bathrooms\",\"Bathrooms\",\"Bathrooms\",\"Bathrooms\",\"Bathrooms\",\"Bathrooms\",\"Bathrooms\",\"Bathrooms\",\"Bathrooms\",\"Bathrooms\",\"Bathrooms\",\"Bathrooms\",\"Bathrooms\",\"Bathrooms\",\"Bathrooms\",\"Bathrooms\",\"Bathrooms\",\"Bathrooms\",\"Bathrooms\",\"Bathrooms\",\"Bathrooms\",\"Bathrooms\",\"Bathrooms\",\"Bathrooms\",\"Bathrooms\",\"Bathrooms\",\"Bathrooms\",\"Bathrooms\",\"Bathrooms\",\"Bathrooms\",\"Bathrooms\",\"Bathrooms\",\"Bathrooms\",\"Bathrooms\",\"Bathrooms\",\"Bathrooms\",\"Bathrooms\",\"Bathrooms\",\"Bathrooms\",\"Bathrooms\",\"Bathrooms\",\"Bathrooms\",\"Bathrooms\",\"Bathrooms\",\"Bathrooms\",\"Bathrooms\",\"Bathrooms\",\"Bathrooms\",\"Bathrooms\",\"Bathrooms\",\"Bathrooms\",\"Bathrooms\",\"Bathrooms\",\"Bathrooms\",\"Bathrooms\",\"Bathrooms\",\"Bathrooms\",\"Bathrooms\",\"Bathrooms\",\"Bathrooms\",\"Bathrooms\",\"Bathrooms\",\"Bathrooms\",\"Bathrooms\",\"Bathrooms\",\"Bathrooms\",\"Bathrooms\",\"Bathrooms\",\"Bathrooms\",\"Bathrooms\",\"Bathrooms\",\"Bathrooms\",\"Bathrooms\",\"Bathrooms\",\"Bathrooms\",\"Bathrooms\",\"Bathrooms\",\"Bathrooms\",\"Bathrooms\",\"Bathrooms\",\"Bathrooms\",\"Bathrooms\",\"Bathrooms\",\"Bathrooms\",\"Bathrooms\",\"Bathrooms\",\"Bathrooms\",\"Bathrooms\",\"Bathrooms\",\"Bathrooms\",\"Bathrooms\",\"Bathrooms\",\"Bathrooms\",\"Bathrooms\",\"Bathrooms\",\"Bathrooms\",\"Bathrooms\",\"Bathrooms\",\"Bathrooms\",\"Bathrooms\",\"Bathrooms\",\"Bathrooms\",\"Bathrooms\",\"Bathrooms\",\"Bathrooms\",\"Bathrooms\",\"Bathrooms\",\"Bathrooms\",\"Bathrooms\",\"Bathrooms\",\"Bathrooms\",\"Bathrooms\",\"Bathrooms\",\"Bathrooms\",\"Bathrooms\",\"Bathrooms\",\"Bathrooms\",\"Bathrooms\",\"Bathrooms\",\"Bathrooms\",\"Bathrooms\",\"Bathrooms\",\"Bathrooms\",\"Bathrooms\",\"Bathrooms\",\"Bathrooms\",\"Bathrooms\",\"Bathrooms\",\"Bathrooms\",\"Bathrooms\",\"Bathrooms\",\"Bathrooms\",\"Bathrooms\",\"Bathrooms\",\"Bathrooms\",\"Bathrooms\",\"Bathrooms\",\"Bathrooms\",\"Bathrooms\",\"Bathrooms\",\"Bathrooms\",\"Bathrooms\",\"Bathrooms\",\"Bathrooms\",\"Bathrooms\",\"Bathrooms\",\"Bathrooms\",\"Bathrooms\",\"Bathrooms\",\"Bathrooms\",\"Bathrooms\",\"Bathrooms\",\"Bathrooms\",\"Bathrooms\",\"Bathrooms\",\"Bathrooms\",\"Bathrooms\",\"Bathrooms\",\"Bathrooms\",\"Bathrooms\",\"Bathrooms\",\"Bathrooms\",\"Bathrooms\",\"Bathrooms\",\"Bathrooms\",\"Bathrooms\",\"Bathrooms\",\"Bathrooms\",\"Bathrooms\",\"Bathrooms\",\"Bathrooms\",\"Bathrooms\",\"Bathrooms\",\"Bathrooms\",\"Bathrooms\",\"Facing\",\"Facing\",\"Facing\",\"Facing\",\"Facing\",\"Facing\",\"Facing\",\"Facing\",\"Facing\",\"Facing\",\"Facing\",\"Facing\",\"Facing\",\"Facing\",\"Facing\",\"Facing\",\"Facing\",\"Facing\",\"Facing\",\"Facing\",\"Facing\",\"Facing\",\"Facing\",\"Facing\",\"Facing\",\"Facing\",\"Facing\",\"Facing\",\"Facing\",\"Facing\",\"Facing\",\"Facing\",\"Facing\",\"Facing\",\"Facing\",\"Facing\",\"Facing\",\"Facing\",\"Facing\",\"Facing\",\"Facing\",\"Facing\",\"Facing\",\"Facing\",\"Facing\",\"Facing\",\"Facing\",\"Facing\",\"Facing\",\"Facing\",\"Facing\",\"Facing\",\"Facing\",\"Facing\",\"Facing\",\"Facing\",\"Facing\",\"Facing\",\"Facing\",\"Facing\",\"Facing\",\"Facing\",\"Facing\",\"Facing\",\"Facing\",\"Facing\",\"Facing\",\"Facing\",\"Facing\",\"Facing\",\"Facing\",\"Facing\",\"Facing\",\"Facing\",\"Facing\",\"Facing\",\"Facing\",\"Facing\",\"Facing\",\"Facing\",\"Facing\",\"Facing\",\"Facing\",\"Facing\",\"Facing\",\"Facing\",\"Facing\",\"Facing\",\"Facing\",\"Facing\",\"Facing\",\"Facing\",\"Facing\",\"Facing\",\"Facing\",\"Facing\",\"Facing\",\"Facing\",\"Facing\",\"Facing\",\"Facing\",\"Facing\",\"Facing\",\"Facing\",\"Facing\",\"Facing\",\"Facing\",\"Facing\",\"Facing\",\"Facing\",\"Facing\",\"Facing\",\"Facing\",\"Facing\",\"Facing\",\"Facing\",\"Facing\",\"Facing\",\"Facing\",\"Facing\",\"Facing\",\"Facing\",\"Facing\",\"Facing\",\"Facing\",\"Facing\",\"Facing\",\"Facing\",\"Facing\",\"Facing\",\"Facing\",\"Facing\",\"Facing\",\"Facing\",\"Facing\",\"Facing\",\"Facing\",\"Facing\",\"Facing\",\"Facing\",\"Facing\",\"Facing\",\"Facing\",\"Facing\",\"Facing\",\"Facing\",\"Facing\",\"Facing\",\"Facing\",\"Facing\",\"Facing\",\"Facing\",\"Facing\",\"Facing\",\"Facing\",\"Facing\",\"Facing\",\"Facing\",\"Facing\",\"Facing\",\"Facing\",\"Facing\",\"Facing\",\"Facing\",\"Facing\",\"Facing\",\"Facing\",\"Facing\",\"Facing\",\"Facing\",\"Facing\",\"Facing\",\"Facing\",\"Facing\",\"Facing\",\"Facing\",\"Facing\",\"Facing\",\"Facing\",\"Facing\",\"Facing\",\"Facing\",\"Facing\",\"Facing\",\"Facing\",\"Facing\",\"Facing\",\"Facing\",\"Facing\",\"Facing\",\"Facing\",\"Facing\",\"Facing\",\"Facing\",\"Facing\",\"Facing\",\"Facing\",\"Facing\",\"Facing\",\"Facing\",\"Facing\",\"Facing\",\"Facing\",\"Facing\",\"Facing\",\"Facing\",\"Facing\",\"Facing\",\"Facing\",\"Facing\",\"Facing\",\"Facing\",\"Facing\",\"Facing\",\"Facing\",\"Facing\",\"Facing\",\"Facing\",\"Facing\",\"Facing\",\"Facing\",\"Facing\",\"Facing\",\"Facing\",\"Facing\",\"Facing\",\"Facing\",\"Facing\",\"Facing\",\"Facing\",\"Facing\",\"Facing\",\"Facing\",\"Facing\",\"Facing\",\"Facing\",\"Facing\",\"Facing\",\"Facing\",\"Facing\",\"Facing\",\"Facing\",\"Facing\",\"Facing\",\"Facing\",\"Facing\",\"Facing\",\"Facing\",\"Facing\",\"Facing\",\"Facing\",\"Facing\",\"Facing\",\"Facing\",\"Facing\",\"Facing\",\"Facing\",\"Facing\",\"Facing\",\"Facing\",\"Facing\",\"Facing\",\"Facing\",\"Facing\",\"Facing\",\"Facing\",\"Facing\",\"Facing\",\"Facing\",\"Facing\",\"Facing\",\"Facing\",\"Facing\",\"Facing\",\"Facing\",\"Facing\",\"Facing\",\"Facing\",\"Facing\",\"Facing\",\"Facing\",\"Facing\",\"Facing\",\"Facing\",\"Facing\",\"Facing\",\"Facing\",\"Facing\",\"Facing\",\"Facing\",\"Facing\",\"Facing\",\"Facing\",\"Facing\",\"Facing\",\"Facing\",\"Facing\",\"Facing\",\"Facing\",\"Facing\",\"Facing\",\"Facing\",\"Facing\",\"Facing\",\"Facing\",\"Facing\",\"Facing\",\"Facing\",\"Facing\",\"Facing\",\"Facing\",\"Facing\",\"Facing\",\"Facing\",\"Facing\",\"Facing\",\"Facing\",\"Facing\",\"Facing\",\"Facing\",\"Facing\",\"Facing\",\"Facing\",\"Facing\",\"Facing\",\"Facing\",\"Facing\",\"Facing\",\"Facing\",\"Facing\",\"Facing\",\"Facing\",\"Facing\",\"Facing\",\"Facing\",\"Facing\",\"Facing\",\"Facing\",\"Facing\",\"Facing\",\"Facing\",\"Facing\",\"Facing\",\"Facing\",\"Facing\",\"Facing\",\"Facing\",\"Facing\",\"Facing\",\"Facing\",\"Facing\",\"Facing\",\"Facing\",\"Facing\",\"Facing\",\"Facing\",\"Facing\",\"Facing\",\"Facing\",\"Facing\",\"Facing\",\"Facing\",\"Facing\",\"Facing\",\"Facing\",\"Facing\",\"Facing\",\"Facing\",\"Facing\",\"Facing\",\"Facing\",\"Facing\",\"Facing\",\"Facing\",\"Facing\",\"Facing\",\"Facing\",\"Facing\",\"Facing\",\"Facing\",\"Facing\",\"Facing\",\"Facing\",\"Facing\",\"Facing\",\"Facing\",\"Facing\",\"Facing\",\"Facing\",\"Facing\",\"Facing\",\"Facing\",\"Facing\",\"Facing\",\"Facing\",\"Facing\",\"Facing\",\"Facing\",\"Facing\",\"Facing\",\"Facing\",\"Facing\",\"Facing\",\"Facing\",\"Facing\",\"Facing\",\"Facing\",\"Facing\",\"Facing\",\"Facing\",\"Facing\",\"Facing\",\"Facing\",\"Facing\",\"Facing\",\"Facing\",\"Facing\",\"Facing\",\"Facing\",\"Facing\",\"Facing\",\"Facing\",\"Facing\",\"Facing\",\"Facing\",\"Facing\",\"Facing\",\"Facing\",\"Facing\",\"Facing\",\"Facing\",\"Facing\",\"Facing\",\"Facing\",\"Facing\",\"Facing\",\"Facing\",\"Facing\",\"Facing\",\"Facing\",\"Facing\",\"Facing\",\"Facing\",\"Facing\",\"Facing\",\"Facing\",\"Facing\",\"Facing\",\"Facing\",\"Facing\",\"Facing\",\"Facing\",\"Facing\",\"Facing\",\"Facing\",\"Facing\",\"Facing\",\"Facing\",\"Facing\",\"Facing\",\"Facing\",\"Facing\",\"Facing\",\"Facing\",\"Facing\",\"Facing\",\"Facing\",\"Facing\",\"Facing\",\"Facing\",\"Facing\",\"Facing\",\"Facing\",\"Facing\",\"Facing\",\"Facing\",\"Facing\",\"Facing\",\"Facing\",\"Facing\",\"Facing\",\"Facing\",\"Facing\",\"Facing\",\"Facing\",\"Facing\",\"Facing\",\"Facing\",\"Facing\",\"Facing\",\"Facing\",\"Facing\",\"Facing\",\"Facing\",\"Facing\",\"Facing\",\"Facing\",\"Facing\",\"Facing\",\"Facing\",\"Facing\",\"Facing\",\"Facing\",\"Facing\",\"Facing\",\"Facing\",\"Facing\",\"Facing\",\"Facing\",\"Facing\",\"Facing\",\"Facing\",\"Facing\",\"Facing\",\"Facing\",\"Facing\",\"Facing\",\"Facing\",\"Facing\",\"Facing\",\"Facing\",\"Facing\",\"Facing\",\"Facing\",\"Facing\",\"Facing\",\"Facing\",\"Facing\",\"Facing\",\"Facing\",\"Facing\",\"Facing\",\"Facing\",\"Facing\",\"Facing\",\"Facing\",\"Facing\",\"Facing\",\"Facing\",\"Facing\",\"Facing\",\"Facing\",\"Facing\",\"Facing\",\"Facing\",\"Facing\",\"Facing\",\"Facing\",\"Facing\",\"Facing\",\"Facing\",\"Facing\",\"Facing\",\"Facing\",\"Facing\",\"Facing\",\"Facing\",\"Facing\",\"Facing\",\"Facing\",\"Facing\",\"Facing\",\"Facing\",\"Facing\",\"Facing\",\"Facing\",\"Facing\",\"Facing\",\"Facing\",\"Facing\",\"Facing\",\"Facing\",\"Facing\",\"Facing\",\"Facing\",\"Facing\",\"Facing\",\"Facing\",\"Facing\",\"Facing\",\"Facing\",\"Facing\",\"Facing\",\"Facing\",\"Facing\",\"Facing\",\"Facing\",\"Facing\",\"Facing\",\"Facing\",\"Facing\",\"Facing\",\"Facing\",\"Facing\",\"Facing\",\"Facing\",\"Facing\",\"Facing\",\"Facing\",\"Facing\",\"Facing\",\"Facing\",\"Facing\",\"Facing\",\"Facing\",\"Facing\",\"Facing\",\"Facing\",\"Facing\",\"Facing\",\"Facing\",\"Facing\",\"Facing\",\"Facing\",\"Facing\",\"Facing\",\"Facing\",\"Facing\",\"Facing\",\"Facing\",\"Facing\",\"Facing\",\"Facing\",\"Facing\",\"Facing\",\"Facing\",\"Facing\",\"Facing\",\"Facing\",\"Facing\",\"Facing\",\"Facing\",\"Facing\",\"Facing\",\"Facing\",\"Facing\",\"Facing\",\"Facing\",\"Facing\",\"Facing\",\"Facing\",\"Facing\",\"Facing\",\"Facing\",\"Facing\",\"Facing\",\"Facing\",\"Facing\",\"Facing\",\"Facing\",\"Facing\",\"Facing\",\"Facing\",\"Facing\",\"Facing\",\"Facing\",\"Facing\",\"Facing\",\"Facing\",\"Facing\",\"Facing\",\"Facing\",\"Facing\",\"Facing\",\"Facing\",\"Facing\",\"Facing\",\"Facing\",\"Facing\",\"Facing\",\"Facing\",\"Facing\",\"Facing\",\"Facing\",\"Facing\",\"Facing\",\"Facing\",\"Facing\",\"Facing\",\"Facing\",\"Facing\",\"Facing\",\"Facing\",\"Facing\",\"Facing\",\"Facing\",\"Facing\",\"Facing\",\"Facing\",\"Facing\",\"Facing\",\"Facing\",\"Facing\",\"Facing\",\"Facing\",\"Facing\",\"Facing\",\"Facing\",\"Facing\",\"Facing\",\"Facing\",\"Facing\",\"Facing\",\"Facing\",\"Facing\",\"Facing\",\"Facing\",\"Facing\",\"Facing\",\"Facing\",\"Facing\",\"Facing\",\"Facing\",\"Facing\",\"Facing\",\"Facing\",\"Facing\",\"Facing\",\"Facing\",\"Facing\",\"Facing\",\"Facing\",\"Facing\",\"Facing\",\"Facing\",\"Facing\",\"Facing\",\"Facing\",\"Facing\",\"Facing\",\"Facing\",\"Facing\",\"Facing\",\"Facing\",\"Facing\",\"Facing\",\"Facing\",\"Facing\",\"Facing\",\"Facing\",\"Facing\",\"Facing\",\"Facing\",\"Facing\",\"Facing\",\"Facing\",\"Facing\",\"Facing\",\"Facing\",\"Facing\",\"Facing\",\"Facing\",\"Facing\",\"Facing\",\"Facing\",\"Facing\",\"Facing\",\"Facing\",\"Facing\",\"Facing\",\"Facing\",\"Facing\",\"Facing\",\"Facing\",\"Facing\",\"Facing\",\"Facing\",\"Facing\",\"Facing\",\"Facing\",\"Facing\",\"Facing\",\"Facing\",\"Facing\",\"Facing\",\"Facing\",\"Facing\",\"Facing\",\"Facing\",\"Facing\",\"Facing\",\"Facing\",\"Facing\",\"Facing\",\"Facing\",\"Facing\",\"Facing\",\"Facing\",\"Facing\",\"Facing\",\"Facing\",\"Facing\",\"Facing\",\"Facing\",\"Facing\",\"Facing\",\"Facing\",\"Facing\",\"Facing\",\"Facing\",\"Facing\",\"Facing\",\"Facing\",\"Facing\",\"Facing\",\"Facing\",\"Facing\",\"Facing\",\"Facing\",\"Facing\",\"Facing\",\"Facing\",\"Facing\",\"Facing\",\"Facing\",\"Facing\",\"Facing\",\"Facing\",\"Facing\",\"Facing\",\"Facing\",\"Facing\",\"Facing\",\"Facing\",\"Facing\",\"Facing\",\"Facing\",\"Facing\",\"Facing\",\"Facing\",\"Facing\",\"Facing\",\"Facing\",\"Facing\",\"Facing\",\"Facing\",\"Facing\",\"Facing\",\"Facing\",\"Facing\",\"Facing\",\"Facing\",\"Facing\",\"Facing\",\"Facing\",\"Facing\",\"Facing\",\"Facing\",\"Facing\",\"Facing\",\"Facing\",\"Facing\",\"Facing\",\"Facing\",\"Facing\",\"Facing\",\"Facing\",\"Facing\",\"Facing\",\"Facing\",\"Facing\",\"Facing\",\"Facing\",\"Facing\",\"Facing\",\"Facing\",\"Facing\",\"Facing\",\"Facing\",\"Facing\",\"Facing\",\"Facing\",\"Facing\",\"Facing\",\"Facing\",\"Facing\",\"Facing\",\"Facing\",\"Facing\",\"Facing\",\"Facing\",\"Facing\",\"Facing\",\"Facing\",\"Facing\",\"Facing\",\"Facing\",\"Facing\",\"Facing\",\"Facing\",\"Facing\",\"Facing\",\"Facing\",\"Facing\",\"Facing\",\"Facing\",\"Facing\",\"Facing\",\"Facing\",\"Facing\",\"Facing\",\"Facing\",\"Facing\",\"Facing\",\"Facing\",\"Facing\",\"Facing\",\"Facing\",\"Facing\",\"Facing\",\"Facing\",\"Facing\",\"Facing\",\"Facing\",\"Facing\",\"Facing\",\"Facing\",\"Facing\",\"Facing\",\"Facing\",\"Facing\",\"Facing\",\"Facing\",\"Facing\",\"Facing\",\"Facing\",\"Facing\",\"Facing\",\"Facing\",\"Facing\",\"Facing\",\"Facing\",\"Facing\",\"Facing\",\"Facing\",\"Facing\",\"Facing\",\"Facing\",\"Facing\",\"Facing\",\"Facing\",\"Facing\",\"Facing\",\"Facing\",\"Facing\",\"Facing\",\"Facing\",\"Facing\",\"Facing\",\"Facing\",\"Facing\",\"Facing\",\"Facing\",\"Facing\",\"Facing\",\"Facing\",\"Facing\",\"Facing\",\"Facing\",\"Facing\",\"Facing\",\"Facing\",\"Facing\",\"Facing\",\"Facing\",\"Facing\",\"Facing\",\"Facing\",\"Facing\",\"Facing\",\"Facing\",\"Facing\",\"Facing\",\"Facing\",\"Facing\",\"Facing\",\"Facing\",\"Facing\",\"Facing\",\"Facing\",\"Facing\",\"Facing\",\"Facing\",\"Facing\",\"Facing\",\"Facing\",\"Facing\",\"Facing\",\"Facing\",\"Facing\",\"Facing\",\"Facing\",\"Facing\",\"Facing\",\"Facing\",\"Facing\",\"Facing\",\"Facing\",\"Facing\",\"Facing\",\"Facing\",\"Facing\",\"Facing\",\"Facing\",\"Facing\",\"Facing\",\"Facing\",\"Facing\",\"Facing\",\"Facing\",\"Facing\",\"Facing\",\"Facing\",\"Facing\",\"Facing\",\"Facing\",\"Facing\",\"Facing\",\"Facing\",\"Facing\",\"Facing\",\"Facing\",\"Facing\",\"Facing\",\"Facing\",\"Facing\",\"Facing\",\"Facing\",\"Facing\",\"Facing\",\"Facing\",\"Facing\",\"Facing\",\"Facing\",\"Facing\",\"Facing\",\"Facing\",\"Facing\",\"Facing\",\"Facing\",\"Facing\",\"Facing\",\"Facing\",\"Facing\",\"Facing\",\"Facing\",\"Facing\",\"Facing\",\"Facing\",\"Facing\",\"Facing\",\"Facing\",\"Facing\",\"P_Type\",\"P_Type\",\"P_Type\",\"P_Type\",\"P_Type\",\"P_Type\",\"P_Type\",\"P_Type\",\"P_Type\",\"P_Type\",\"P_Type\",\"P_Type\",\"P_Type\",\"P_Type\",\"P_Type\",\"P_Type\",\"P_Type\",\"P_Type\",\"P_Type\",\"P_Type\",\"P_Type\",\"P_Type\",\"P_Type\",\"P_Type\",\"P_Type\",\"P_Type\",\"P_Type\",\"P_Type\",\"P_Type\",\"P_Type\",\"P_Type\",\"P_Type\",\"P_Type\",\"P_Type\",\"P_Type\",\"P_Type\",\"P_Type\",\"P_Type\",\"P_Type\",\"P_Type\",\"P_Type\",\"P_Type\",\"P_Type\",\"P_Type\",\"P_Type\",\"P_Type\",\"P_Type\",\"P_Type\",\"P_Type\",\"P_Type\",\"P_Type\",\"P_Type\",\"P_Type\",\"P_Type\",\"P_Type\",\"P_Type\",\"P_Type\",\"P_Type\",\"P_Type\",\"P_Type\",\"P_Type\",\"P_Type\",\"P_Type\",\"P_Type\",\"P_Type\",\"P_Type\",\"P_Type\",\"P_Type\",\"P_Type\",\"P_Type\",\"P_Type\",\"P_Type\",\"P_Type\",\"P_Type\",\"P_Type\",\"P_Type\",\"P_Type\",\"P_Type\",\"P_Type\",\"P_Type\",\"P_Type\",\"P_Type\",\"P_Type\",\"P_Type\",\"P_Type\",\"P_Type\",\"P_Type\",\"P_Type\",\"P_Type\",\"P_Type\",\"P_Type\",\"P_Type\",\"P_Type\",\"P_Type\",\"P_Type\",\"P_Type\",\"P_Type\",\"P_Type\",\"P_Type\",\"P_Type\",\"P_Type\",\"P_Type\",\"P_Type\",\"P_Type\",\"P_Type\",\"P_Type\",\"P_Type\",\"P_Type\",\"P_Type\",\"P_Type\",\"P_Type\",\"P_Type\",\"P_Type\",\"P_Type\",\"P_Type\",\"P_Type\",\"P_Type\",\"P_Type\",\"P_Type\",\"P_Type\",\"P_Type\",\"P_Type\",\"P_Type\",\"P_Type\",\"P_Type\",\"P_Type\",\"P_Type\",\"P_Type\",\"P_Type\",\"P_Type\",\"P_Type\",\"P_Type\",\"P_Type\",\"P_Type\",\"P_Type\",\"P_Type\",\"P_Type\",\"P_Type\",\"P_Type\",\"P_Type\",\"P_Type\",\"P_Type\",\"P_Type\",\"P_Type\",\"P_Type\",\"P_Type\",\"P_Type\",\"P_Type\",\"P_Type\",\"P_Type\",\"P_Type\",\"P_Type\",\"P_Type\",\"P_Type\",\"P_Type\",\"P_Type\",\"P_Type\",\"P_Type\",\"P_Type\",\"P_Type\",\"P_Type\",\"P_Type\",\"P_Type\",\"P_Type\",\"P_Type\",\"P_Type\",\"P_Type\",\"P_Type\",\"P_Type\",\"P_Type\",\"P_Type\",\"P_Type\",\"P_Type\",\"P_Type\",\"P_Type\",\"P_Type\",\"P_Type\",\"P_Type\",\"P_Type\",\"P_Type\",\"P_Type\",\"P_Type\",\"P_Type\",\"P_Type\",\"P_Type\",\"P_Type\",\"P_Type\",\"P_Type\",\"P_Type\",\"P_Type\",\"P_Type\",\"P_Type\",\"P_Type\",\"P_Type\",\"P_Type\",\"P_Type\",\"P_Type\",\"P_Type\",\"P_Type\",\"P_Type\",\"P_Type\",\"P_Type\",\"P_Type\",\"P_Type\",\"P_Type\",\"P_Type\",\"P_Type\",\"P_Type\",\"P_Type\",\"P_Type\",\"P_Type\",\"P_Type\",\"P_Type\",\"P_Type\",\"P_Type\",\"P_Type\",\"P_Type\",\"P_Type\",\"P_Type\",\"P_Type\",\"P_Type\",\"P_Type\",\"P_Type\",\"P_Type\",\"P_Type\",\"P_Type\",\"P_Type\",\"P_Type\",\"P_Type\",\"P_Type\",\"P_Type\",\"P_Type\",\"P_Type\",\"P_Type\",\"P_Type\",\"P_Type\",\"P_Type\",\"P_Type\",\"P_Type\",\"P_Type\",\"P_Type\",\"P_Type\",\"P_Type\",\"P_Type\",\"P_Type\",\"P_Type\",\"P_Type\",\"P_Type\",\"P_Type\",\"P_Type\",\"P_Type\",\"P_Type\",\"P_Type\",\"P_Type\",\"P_Type\",\"P_Type\",\"P_Type\",\"P_Type\",\"P_Type\",\"P_Type\",\"P_Type\",\"P_Type\",\"P_Type\",\"P_Type\",\"P_Type\",\"P_Type\",\"P_Type\",\"P_Type\",\"P_Type\",\"P_Type\",\"P_Type\",\"P_Type\",\"P_Type\",\"P_Type\",\"P_Type\",\"P_Type\",\"P_Type\",\"P_Type\",\"P_Type\",\"P_Type\",\"P_Type\",\"P_Type\",\"P_Type\",\"P_Type\",\"P_Type\",\"P_Type\",\"P_Type\",\"P_Type\",\"P_Type\",\"P_Type\",\"P_Type\",\"P_Type\",\"P_Type\",\"P_Type\",\"P_Type\",\"P_Type\",\"P_Type\",\"P_Type\",\"P_Type\",\"P_Type\",\"P_Type\",\"P_Type\",\"P_Type\",\"P_Type\",\"P_Type\",\"P_Type\",\"P_Type\",\"P_Type\",\"P_Type\",\"P_Type\",\"P_Type\",\"P_Type\",\"P_Type\",\"P_Type\",\"P_Type\",\"P_Type\",\"P_Type\",\"P_Type\",\"P_Type\",\"P_Type\",\"P_Type\",\"P_Type\",\"P_Type\",\"P_Type\",\"P_Type\",\"P_Type\",\"P_Type\",\"P_Type\",\"P_Type\",\"P_Type\",\"P_Type\",\"P_Type\",\"P_Type\",\"P_Type\",\"P_Type\",\"P_Type\",\"P_Type\",\"P_Type\",\"P_Type\",\"P_Type\",\"P_Type\",\"P_Type\",\"P_Type\",\"P_Type\",\"P_Type\",\"P_Type\",\"P_Type\",\"P_Type\",\"P_Type\",\"P_Type\",\"P_Type\",\"P_Type\",\"P_Type\",\"P_Type\",\"P_Type\",\"P_Type\",\"P_Type\",\"P_Type\",\"P_Type\",\"P_Type\",\"P_Type\",\"P_Type\",\"P_Type\",\"P_Type\",\"P_Type\",\"P_Type\",\"P_Type\",\"P_Type\",\"P_Type\",\"P_Type\",\"P_Type\",\"P_Type\",\"P_Type\",\"P_Type\",\"P_Type\",\"P_Type\",\"P_Type\",\"P_Type\",\"P_Type\",\"P_Type\",\"P_Type\",\"P_Type\",\"P_Type\",\"P_Type\",\"P_Type\",\"P_Type\",\"P_Type\",\"P_Type\",\"P_Type\",\"P_Type\",\"P_Type\",\"P_Type\",\"P_Type\",\"P_Type\",\"P_Type\",\"P_Type\",\"P_Type\",\"P_Type\",\"P_Type\",\"P_Type\",\"P_Type\",\"P_Type\",\"P_Type\",\"P_Type\",\"P_Type\",\"P_Type\",\"P_Type\",\"P_Type\",\"P_Type\",\"P_Type\",\"P_Type\",\"P_Type\",\"P_Type\",\"P_Type\",\"P_Type\",\"P_Type\",\"P_Type\",\"P_Type\",\"P_Type\",\"P_Type\",\"P_Type\",\"P_Type\",\"P_Type\",\"P_Type\",\"P_Type\",\"P_Type\",\"P_Type\",\"P_Type\",\"P_Type\",\"P_Type\",\"P_Type\",\"P_Type\",\"P_Type\",\"P_Type\",\"P_Type\",\"P_Type\",\"P_Type\",\"P_Type\",\"P_Type\",\"P_Type\",\"P_Type\",\"P_Type\",\"P_Type\",\"P_Type\",\"P_Type\",\"P_Type\",\"P_Type\",\"P_Type\",\"P_Type\",\"P_Type\",\"P_Type\",\"P_Type\",\"P_Type\",\"P_Type\",\"P_Type\",\"P_Type\",\"P_Type\",\"P_Type\",\"P_Type\",\"P_Type\",\"P_Type\",\"P_Type\",\"P_Type\",\"P_Type\",\"P_Type\",\"P_Type\",\"P_Type\",\"P_Type\",\"P_Type\",\"P_Type\",\"P_Type\",\"P_Type\",\"P_Type\",\"P_Type\",\"P_Type\",\"P_Type\",\"P_Type\",\"P_Type\",\"P_Type\",\"P_Type\",\"P_Type\",\"P_Type\",\"P_Type\",\"P_Type\",\"P_Type\",\"P_Type\",\"P_Type\",\"P_Type\",\"P_Type\",\"P_Type\",\"P_Type\",\"P_Type\",\"P_Type\",\"P_Type\",\"P_Type\",\"P_Type\",\"P_Type\",\"P_Type\",\"P_Type\",\"P_Type\",\"P_Type\",\"P_Type\",\"P_Type\",\"P_Type\",\"P_Type\",\"P_Type\",\"P_Type\",\"P_Type\",\"P_Type\",\"P_Type\",\"P_Type\",\"P_Type\",\"P_Type\",\"P_Type\",\"P_Type\",\"P_Type\",\"P_Type\",\"P_Type\",\"P_Type\",\"P_Type\",\"P_Type\",\"P_Type\",\"P_Type\",\"P_Type\",\"P_Type\",\"P_Type\",\"P_Type\",\"P_Type\",\"P_Type\",\"P_Type\",\"P_Type\",\"P_Type\",\"P_Type\",\"P_Type\",\"P_Type\",\"P_Type\",\"P_Type\",\"P_Type\",\"P_Type\",\"P_Type\",\"P_Type\",\"P_Type\",\"P_Type\",\"P_Type\",\"P_Type\",\"P_Type\",\"P_Type\",\"P_Type\",\"P_Type\",\"P_Type\",\"P_Type\",\"P_Type\",\"P_Type\",\"P_Type\",\"P_Type\",\"P_Type\",\"P_Type\",\"P_Type\",\"P_Type\",\"P_Type\",\"P_Type\",\"P_Type\",\"P_Type\",\"P_Type\",\"P_Type\",\"P_Type\",\"P_Type\",\"P_Type\",\"P_Type\",\"P_Type\",\"P_Type\",\"P_Type\",\"P_Type\",\"P_Type\",\"P_Type\",\"P_Type\",\"P_Type\",\"P_Type\",\"P_Type\",\"P_Type\",\"P_Type\",\"P_Type\",\"P_Type\",\"P_Type\",\"P_Type\",\"P_Type\",\"P_Type\",\"P_Type\",\"P_Type\",\"P_Type\",\"P_Type\",\"P_Type\",\"P_Type\",\"P_Type\",\"P_Type\",\"P_Type\",\"P_Type\",\"P_Type\",\"P_Type\",\"P_Type\",\"P_Type\",\"P_Type\",\"P_Type\",\"P_Type\",\"P_Type\",\"P_Type\",\"P_Type\",\"P_Type\",\"P_Type\",\"P_Type\",\"P_Type\",\"P_Type\",\"P_Type\",\"P_Type\",\"P_Type\",\"P_Type\",\"P_Type\",\"P_Type\",\"P_Type\",\"P_Type\",\"P_Type\",\"P_Type\",\"P_Type\",\"P_Type\",\"P_Type\",\"P_Type\",\"P_Type\",\"P_Type\",\"P_Type\",\"P_Type\",\"P_Type\",\"P_Type\",\"P_Type\",\"P_Type\",\"P_Type\",\"P_Type\",\"P_Type\",\"P_Type\",\"P_Type\",\"P_Type\",\"P_Type\",\"P_Type\",\"P_Type\",\"P_Type\",\"P_Type\",\"P_Type\",\"P_Type\",\"P_Type\",\"P_Type\",\"P_Type\",\"P_Type\",\"P_Type\",\"P_Type\",\"P_Type\",\"P_Type\",\"P_Type\",\"P_Type\",\"P_Type\",\"P_Type\",\"P_Type\",\"P_Type\",\"P_Type\",\"P_Type\",\"P_Type\",\"P_Type\",\"P_Type\",\"P_Type\",\"P_Type\",\"P_Type\",\"P_Type\",\"P_Type\",\"P_Type\",\"P_Type\",\"P_Type\",\"P_Type\",\"P_Type\",\"P_Type\",\"P_Type\",\"P_Type\",\"P_Type\",\"P_Type\",\"P_Type\",\"P_Type\",\"P_Type\",\"P_Type\",\"P_Type\",\"P_Type\",\"P_Type\",\"P_Type\",\"P_Type\",\"P_Type\",\"P_Type\",\"P_Type\",\"P_Type\",\"P_Type\",\"P_Type\",\"P_Type\",\"P_Type\",\"P_Type\",\"P_Type\",\"P_Type\",\"P_Type\",\"P_Type\",\"P_Type\",\"P_Type\",\"P_Type\",\"P_Type\",\"P_Type\",\"P_Type\",\"P_Type\",\"P_Type\",\"P_Type\",\"P_Type\",\"P_Type\",\"P_Type\",\"P_Type\",\"P_Type\",\"P_Type\",\"P_Type\",\"P_Type\",\"P_Type\",\"P_Type\",\"P_Type\",\"P_Type\",\"P_Type\",\"P_Type\",\"P_Type\",\"P_Type\",\"P_Type\",\"P_Type\",\"P_Type\",\"P_Type\",\"P_Type\",\"P_Type\",\"P_Type\",\"P_Type\",\"P_Type\",\"P_Type\",\"P_Type\",\"P_Type\",\"P_Type\",\"P_Type\",\"P_Type\",\"P_Type\",\"P_Type\",\"P_Type\",\"P_Type\",\"P_Type\",\"P_Type\",\"P_Type\",\"P_Type\",\"P_Type\",\"P_Type\",\"P_Type\",\"P_Type\",\"P_Type\",\"P_Type\",\"P_Type\",\"P_Type\",\"P_Type\",\"P_Type\",\"P_Type\",\"P_Type\",\"P_Type\",\"P_Type\",\"P_Type\",\"P_Type\",\"P_Type\",\"P_Type\",\"P_Type\",\"P_Type\",\"P_Type\",\"P_Type\",\"P_Type\",\"P_Type\",\"P_Type\",\"P_Type\",\"P_Type\",\"P_Type\",\"P_Type\",\"P_Type\",\"P_Type\",\"P_Type\",\"P_Type\",\"P_Type\",\"P_Type\",\"P_Type\",\"P_Type\",\"P_Type\",\"P_Type\",\"P_Type\",\"P_Type\",\"P_Type\",\"P_Type\",\"P_Type\",\"P_Type\",\"P_Type\",\"P_Type\",\"P_Type\",\"P_Type\",\"P_Type\",\"P_Type\",\"P_Type\",\"P_Type\",\"P_Type\",\"P_Type\",\"P_Type\",\"P_Type\",\"P_Type\",\"P_Type\",\"P_Type\",\"P_Type\",\"P_Type\",\"P_Type\",\"P_Type\",\"P_Type\",\"P_Type\",\"P_Type\",\"P_Type\",\"P_Type\",\"P_Type\",\"P_Type\",\"P_Type\",\"P_Type\",\"P_Type\",\"P_Type\",\"P_Type\",\"P_Type\",\"P_Type\",\"P_Type\",\"P_Type\",\"P_Type\",\"P_Type\",\"P_Type\",\"P_Type\",\"P_Type\",\"P_Type\",\"P_Type\",\"P_Type\",\"P_Type\",\"P_Type\",\"P_Type\",\"P_Type\",\"P_Type\",\"P_Type\",\"P_Type\",\"P_Type\",\"P_Type\",\"P_Type\",\"P_Type\",\"P_Type\",\"P_Type\",\"P_Type\",\"P_Type\",\"P_Type\",\"P_Type\",\"P_Type\",\"P_Type\",\"P_Type\",\"P_Type\",\"P_Type\",\"P_Type\",\"P_Type\",\"P_Type\",\"P_Type\",\"P_Type\",\"P_Type\",\"P_Type\",\"P_Type\",\"P_Type\",\"P_Type\",\"P_Type\",\"P_Type\",\"P_Type\",\"P_Type\",\"P_Type\",\"P_Type\",\"P_Type\",\"P_Type\",\"P_Type\",\"P_Type\",\"P_Type\",\"P_Type\",\"P_Type\",\"P_Type\",\"P_Type\",\"P_Type\",\"P_Type\",\"P_Type\",\"P_Type\",\"P_Type\",\"P_Type\",\"P_Type\",\"P_Type\",\"P_Type\",\"P_Type\",\"P_Type\",\"P_Type\",\"P_Type\",\"P_Type\",\"P_Type\",\"P_Type\",\"P_Type\",\"P_Type\",\"P_Type\",\"P_Type\",\"P_Type\",\"P_Type\",\"P_Type\",\"P_Type\",\"P_Type\",\"P_Type\",\"P_Type\",\"P_Type\",\"P_Type\",\"P_Type\",\"P_Type\",\"P_Type\",\"P_Type\",\"P_Type\",\"P_Type\",\"P_Type\",\"P_Type\",\"P_Type\",\"P_Type\",\"P_Type\",\"P_Type\",\"P_Type\",\"P_Type\",\"P_Type\",\"P_Type\",\"P_Type\",\"P_Type\",\"P_Type\",\"P_Type\",\"P_Type\",\"P_Type\",\"P_Type\",\"P_Type\",\"P_Type\",\"P_Type\",\"P_Type\",\"P_Type\",\"P_Type\",\"P_Type\",\"P_Type\",\"P_Type\",\"P_Type\",\"P_Type\",\"P_Type\",\"P_Type\",\"P_Type\",\"P_Type\",\"P_Type\",\"P_Type\",\"P_Type\",\"P_Type\",\"P_Type\",\"P_Type\",\"P_Type\",\"P_Type\",\"P_Type\",\"P_Type\",\"P_Type\",\"P_Type\",\"P_Type\",\"P_Type\",\"P_Type\",\"P_Type\",\"P_Type\",\"P_Type\",\"P_Type\",\"P_Type\",\"P_Type\",\"P_Type\",\"P_Type\",\"P_Type\",\"P_Type\",\"P_Type\",\"P_Type\",\"P_Type\",\"P_Type\",\"P_Type\",\"P_Type\",\"P_Type\",\"P_Type\",\"P_Type\",\"P_Type\",\"P_Type\",\"P_Type\",\"P_Type\",\"P_Type\",\"P_Type\",\"P_Type\",\"P_Type\",\"P_Type\",\"P_Type\",\"P_Type\",\"P_Type\",\"P_Type\",\"P_Type\",\"P_Type\",\"P_Type\",\"P_Type\",\"P_Type\",\"P_Type\",\"P_Type\",\"P_Type\",\"P_Type\",\"P_Type\",\"P_Type\",\"P_Type\",\"P_Type\",\"P_Type\",\"P_Type\",\"P_Type\",\"P_Type\",\"P_Type\",\"P_Type\",\"P_Type\",\"P_Type\",\"P_Type\",\"P_Type\",\"P_Type\",\"P_Type\",\"P_Type\",\"P_Type\",\"P_Type\",\"P_Type\",\"P_Type\",\"P_Type\",\"P_Type\",\"P_Type\",\"P_Type\",\"P_Type\",\"P_Type\",\"P_Type\",\"P_Type\",\"P_Type\",\"P_Type\",\"P_Type\",\"P_Type\",\"P_Type\",\"P_Type\",\"P_Type\",\"P_Type\",\"P_Type\",\"P_Type\",\"P_Type\",\"P_Type\",\"P_Type\",\"P_Type\",\"P_Type\",\"Price\",\"Price\",\"Price\",\"Price\",\"Price\",\"Price\",\"Price\",\"Price\",\"Price\",\"Price\",\"Price\",\"Price\",\"Price\",\"Price\",\"Price\",\"Price\",\"Price\",\"Price\",\"Price\",\"Price\",\"Price\",\"Price\",\"Price\",\"Price\",\"Price\",\"Price\",\"Price\",\"Price\",\"Price\",\"Price\",\"Price\",\"Price\",\"Price\",\"Price\",\"Price\",\"Price\",\"Price\",\"Price\",\"Price\",\"Price\",\"Price\",\"Price\",\"Price\",\"Price\",\"Price\",\"Price\",\"Price\",\"Price\",\"Price\",\"Price\",\"Price\",\"Price\",\"Price\",\"Price\",\"Price\",\"Price\",\"Price\",\"Price\",\"Price\",\"Price\",\"Price\",\"Price\",\"Price\",\"Price\",\"Price\",\"Price\",\"Price\",\"Price\",\"Price\",\"Price\",\"Price\",\"Price\",\"Price\",\"Price\",\"Price\",\"Price\",\"Price\",\"Price\",\"Price\",\"Price\",\"Price\",\"Price\",\"Price\",\"Price\",\"Price\",\"Price\",\"Price\",\"Price\",\"Price\",\"Price\",\"Price\",\"Price\",\"Price\",\"Price\",\"Price\",\"Price\",\"Price\",\"Price\",\"Price\",\"Price\",\"Price\",\"Price\",\"Price\",\"Price\",\"Price\",\"Price\",\"Price\",\"Price\",\"Price\",\"Price\",\"Price\",\"Price\",\"Price\",\"Price\",\"Price\",\"Price\",\"Price\",\"Price\",\"Price\",\"Price\",\"Price\",\"Price\",\"Price\",\"Price\",\"Price\",\"Price\",\"Price\",\"Price\",\"Price\",\"Price\",\"Price\",\"Price\",\"Price\",\"Price\",\"Price\",\"Price\",\"Price\",\"Price\",\"Price\",\"Price\",\"Price\",\"Price\",\"Price\",\"Price\",\"Price\",\"Price\",\"Price\",\"Price\",\"Price\",\"Price\",\"Price\",\"Price\",\"Price\",\"Price\",\"Price\",\"Price\",\"Price\",\"Price\",\"Price\",\"Price\",\"Price\",\"Price\",\"Price\",\"Price\",\"Price\",\"Price\",\"Price\",\"Price\",\"Price\",\"Price\",\"Price\",\"Price\",\"Price\",\"Price\",\"Price\",\"Price\",\"Price\",\"Price\",\"Price\",\"Price\",\"Price\",\"Price\",\"Price\",\"Price\",\"Price\",\"Price\",\"Price\",\"Price\",\"Price\",\"Price\",\"Price\",\"Price\",\"Price\",\"Price\",\"Price\",\"Price\",\"Price\",\"Price\",\"Price\",\"Price\",\"Price\",\"Price\",\"Price\",\"Price\",\"Price\",\"Price\",\"Price\",\"Price\",\"Price\",\"Price\",\"Price\",\"Price\",\"Price\",\"Price\",\"Price\",\"Price\",\"Price\",\"Price\",\"Price\",\"Price\",\"Price\",\"Price\",\"Price\",\"Price\",\"Price\",\"Price\",\"Price\",\"Price\",\"Price\",\"Price\",\"Price\",\"Price\",\"Price\",\"Price\",\"Price\",\"Price\",\"Price\",\"Price\",\"Price\",\"Price\",\"Price\",\"Price\",\"Price\",\"Price\",\"Price\",\"Price\",\"Price\",\"Price\",\"Price\",\"Price\",\"Price\",\"Price\",\"Price\",\"Price\",\"Price\",\"Price\",\"Price\",\"Price\",\"Price\",\"Price\",\"Price\",\"Price\",\"Price\",\"Price\",\"Price\",\"Price\",\"Price\",\"Price\",\"Price\",\"Price\",\"Price\",\"Price\",\"Price\",\"Price\",\"Price\",\"Price\",\"Price\",\"Price\",\"Price\",\"Price\",\"Price\",\"Price\",\"Price\",\"Price\",\"Price\",\"Price\",\"Price\",\"Price\",\"Price\",\"Price\",\"Price\",\"Price\",\"Price\",\"Price\",\"Price\",\"Price\",\"Price\",\"Price\",\"Price\",\"Price\",\"Price\",\"Price\",\"Price\",\"Price\",\"Price\",\"Price\",\"Price\",\"Price\",\"Price\",\"Price\",\"Price\",\"Price\",\"Price\",\"Price\",\"Price\",\"Price\",\"Price\",\"Price\",\"Price\",\"Price\",\"Price\",\"Price\",\"Price\",\"Price\",\"Price\",\"Price\",\"Price\",\"Price\",\"Price\",\"Price\",\"Price\",\"Price\",\"Price\",\"Price\",\"Price\",\"Price\",\"Price\",\"Price\",\"Price\",\"Price\",\"Price\",\"Price\",\"Price\",\"Price\",\"Price\",\"Price\",\"Price\",\"Price\",\"Price\",\"Price\",\"Price\",\"Price\",\"Price\",\"Price\",\"Price\",\"Price\",\"Price\",\"Price\",\"Price\",\"Price\",\"Price\",\"Price\",\"Price\",\"Price\",\"Price\",\"Price\",\"Price\",\"Price\",\"Price\",\"Price\",\"Price\",\"Price\",\"Price\",\"Price\",\"Price\",\"Price\",\"Price\",\"Price\",\"Price\",\"Price\",\"Price\",\"Price\",\"Price\",\"Price\",\"Price\",\"Price\",\"Price\",\"Price\",\"Price\",\"Price\",\"Price\",\"Price\",\"Price\",\"Price\",\"Price\",\"Price\",\"Price\",\"Price\",\"Price\",\"Price\",\"Price\",\"Price\",\"Price\",\"Price\",\"Price\",\"Price\",\"Price\",\"Price\",\"Price\",\"Price\",\"Price\",\"Price\",\"Price\",\"Price\",\"Price\",\"Price\",\"Price\",\"Price\",\"Price\",\"Price\",\"Price\",\"Price\",\"Price\",\"Price\",\"Price\",\"Price\",\"Price\",\"Price\",\"Price\",\"Price\",\"Price\",\"Price\",\"Price\",\"Price\",\"Price\",\"Price\",\"Price\",\"Price\",\"Price\",\"Price\",\"Price\",\"Price\",\"Price\",\"Price\",\"Price\",\"Price\",\"Price\",\"Price\",\"Price\",\"Price\",\"Price\",\"Price\",\"Price\",\"Price\",\"Price\",\"Price\",\"Price\",\"Price\",\"Price\",\"Price\",\"Price\",\"Price\",\"Price\",\"Price\",\"Price\",\"Price\",\"Price\",\"Price\",\"Price\",\"Price\",\"Price\",\"Price\",\"Price\",\"Price\",\"Price\",\"Price\",\"Price\",\"Price\",\"Price\",\"Price\",\"Price\",\"Price\",\"Price\",\"Price\",\"Price\",\"Price\",\"Price\",\"Price\",\"Price\",\"Price\",\"Price\",\"Price\",\"Price\",\"Price\",\"Price\",\"Price\",\"Price\",\"Price\",\"Price\",\"Price\",\"Price\",\"Price\",\"Price\",\"Price\",\"Price\",\"Price\",\"Price\",\"Price\",\"Price\",\"Price\",\"Price\",\"Price\",\"Price\",\"Price\",\"Price\",\"Price\",\"Price\",\"Price\",\"Price\",\"Price\",\"Price\",\"Price\",\"Price\",\"Price\",\"Price\",\"Price\",\"Price\",\"Price\",\"Price\",\"Price\",\"Price\",\"Price\",\"Price\",\"Price\",\"Price\",\"Price\",\"Price\",\"Price\",\"Price\",\"Price\",\"Price\",\"Price\",\"Price\",\"Price\",\"Price\",\"Price\",\"Price\",\"Price\",\"Price\",\"Price\",\"Price\",\"Price\",\"Price\",\"Price\",\"Price\",\"Price\",\"Price\",\"Price\",\"Price\",\"Price\",\"Price\",\"Price\",\"Price\",\"Price\",\"Price\",\"Price\",\"Price\",\"Price\",\"Price\",\"Price\",\"Price\",\"Price\",\"Price\",\"Price\",\"Price\",\"Price\",\"Price\",\"Price\",\"Price\",\"Price\",\"Price\",\"Price\",\"Price\",\"Price\",\"Price\",\"Price\",\"Price\",\"Price\",\"Price\",\"Price\",\"Price\",\"Price\",\"Price\",\"Price\",\"Price\",\"Price\",\"Price\",\"Price\",\"Price\",\"Price\",\"Price\",\"Price\",\"Price\",\"Price\",\"Price\",\"Price\",\"Price\",\"Price\",\"Price\",\"Price\",\"Price\",\"Price\",\"Price\",\"Price\",\"Price\",\"Price\",\"Price\",\"Price\",\"Price\",\"Price\",\"Price\",\"Price\",\"Price\",\"Price\",\"Price\",\"Price\",\"Price\",\"Price\",\"Price\",\"Price\",\"Price\",\"Price\",\"Price\",\"Price\",\"Price\",\"Price\",\"Price\",\"Price\",\"Price\",\"Price\",\"Price\",\"Price\",\"Price\",\"Price\",\"Price\",\"Price\",\"Price\",\"Price\",\"Price\",\"Price\",\"Price\",\"Price\",\"Price\",\"Price\",\"Price\",\"Price\",\"Price\",\"Price\",\"Price\",\"Price\",\"Price\",\"Price\",\"Price\",\"Price\",\"Price\",\"Price\",\"Price\",\"Price\",\"Price\",\"Price\",\"Price\",\"Price\",\"Price\",\"Price\",\"Price\",\"Price\",\"Price\",\"Price\",\"Price\",\"Price\",\"Price\",\"Price\",\"Price\",\"Price\",\"Price\",\"Price\",\"Price\",\"Price\",\"Price\",\"Price\",\"Price\",\"Price\",\"Price\",\"Price\",\"Price\",\"Price\",\"Price\",\"Price\",\"Price\",\"Price\",\"Price\",\"Price\",\"Price\",\"Price\",\"Price\",\"Price\",\"Price\",\"Price\",\"Price\",\"Price\",\"Price\",\"Price\",\"Price\",\"Price\",\"Price\",\"Price\",\"Price\",\"Price\",\"Price\",\"Price\",\"Price\",\"Price\",\"Price\",\"Price\",\"Price\",\"Price\",\"Price\",\"Price\",\"Price\",\"Price\",\"Price\",\"Price\",\"Price\",\"Price\",\"Price\",\"Price\",\"Price\",\"Price\",\"Price\",\"Price\",\"Price\",\"Price\",\"Price\",\"Price\",\"Price\",\"Price\",\"Price\",\"Price\",\"Price\",\"Price\",\"Price\",\"Price\",\"Price\",\"Price\",\"Price\",\"Price\",\"Price\",\"Price\",\"Price\",\"Price\",\"Price\",\"Price\",\"Price\",\"Price\",\"Price\",\"Price\",\"Price\",\"Price\",\"Price\",\"Price\",\"Price\",\"Price\",\"Price\",\"Price\",\"Price\",\"Price\",\"Price\",\"Price\",\"Price\",\"Price\",\"Price\",\"Price\",\"Price\",\"Price\",\"Price\",\"Price\",\"Price\",\"Price\",\"Price\",\"Price\",\"Price\",\"Price\",\"Price\",\"Price\",\"Price\",\"Price\",\"Price\",\"Price\",\"Price\",\"Price\",\"Price\",\"Price\",\"Price\",\"Price\",\"Price\",\"Price\",\"Price\",\"Price\",\"Price\",\"Price\",\"Price\",\"Price\",\"Price\",\"Price\",\"Price\",\"Price\",\"Price\",\"Price\",\"Price\",\"Price\",\"Price\",\"Price\",\"Price\",\"Price\",\"Price\",\"Price\",\"Price\",\"Price\",\"Price\",\"Price\",\"Price\",\"Price\",\"Price\",\"Price\",\"Price\",\"Price\",\"Price\",\"Price\",\"Price\",\"Price\",\"Price\",\"Price\",\"Price\",\"Price\",\"Price\",\"Price\",\"Price\",\"Price\",\"Price\",\"Price\",\"Price\",\"Price\",\"Price\",\"Price\",\"Price\",\"Price\",\"Price\",\"Price\",\"Price\",\"Price\",\"Price\",\"Price\",\"Price\",\"Price\",\"Price\",\"Price\",\"Price\",\"Price\",\"Price\",\"Price\",\"Price\",\"Price\",\"Price\",\"Price\",\"Price\",\"Price\",\"Price\",\"Price\",\"Price\",\"Price\",\"Price\",\"Price\",\"Price\",\"Price\",\"Price\",\"Price\",\"Price\",\"Price\",\"Price\",\"Price\",\"Price\",\"Price\",\"Price\",\"Price\",\"Price\",\"Price\",\"Price\",\"Price\",\"Price\",\"Price\",\"Price\",\"Price\",\"Price\",\"Price\",\"Price\",\"Price\",\"Price\",\"Price\",\"Price\",\"Price\",\"Price\",\"Price\",\"Price\",\"Price\",\"Price\",\"Price\",\"Price\",\"Price\",\"Price\",\"Price\",\"Price\",\"Price\",\"Price\",\"Price\",\"Price\",\"Price\",\"Price\",\"Price\",\"Price\",\"Price\",\"Price\",\"Price\",\"Price\",\"Price\",\"Price\",\"Price\",\"Price\",\"Price\",\"Price\",\"Price\",\"Price\",\"Price\",\"Price\",\"Price\",\"Price\",\"Price\",\"Price\",\"Price\",\"Price\",\"Price\",\"Price\",\"Price\",\"Price\",\"Price\",\"Price\",\"Price\",\"Price\",\"Price\",\"Price\",\"Price\",\"Price\",\"Price\",\"Price\",\"Price\",\"Price\",\"Price\",\"Price\",\"Price\",\"Price\",\"Price\",\"Price\",\"Price\",\"Price\",\"Price\",\"Price\",\"Price\",\"Price\",\"Price\",\"Price\",\"Price\",\"Price\",\"Price\",\"Price\",\"Price\",\"Price\",\"Price\",\"Price\",\"Price\",\"Price\",\"Price\",\"Price\",\"Price\",\"Price\",\"Price\",\"Price\",\"Price\",\"Price\",\"Price\",\"Price\",\"Price\",\"Price\",\"Price\",\"Price\",\"Price\",\"Price\",\"Price\",\"Price\",\"Price\",\"Price\",\"Price\",\"Price\",\"Price\",\"Price\",\"Price\",\"Price\",\"Price\",\"Price\",\"Price\",\"Price\",\"Price\",\"Price\",\"Price\",\"Price\",\"Price\",\"Price\",\"Price\",\"Price\",\"Price\",\"Price\",\"Price\",\"Price\",\"Price\",\"Price\",\"Price\",\"Price\",\"Price\",\"Price\",\"Price\",\"Price\",\"Price\",\"Price\",\"Price\",\"Price\",\"Price\",\"Price\",\"Price\",\"Price\",\"Price\",\"Price\",\"Price\",\"Price\",\"Price\",\"Price\"],\"x0\":\" \",\"xaxis\":\"x\",\"y\":[56.0,56.0,31.0,56.0,17.0,23.0,18.0,14.0,7.0,78.0,55.0,31.0,56.0,31.0,7.0,17.0,52.0,7.0,25.0,32.0,23.0,55.0,31.0,32.0,56.0,7.0,31.0,17.0,45.0,11.0,13.0,32.0,11.0,17.0,62.0,32.0,31.0,31.0,17.0,52.0,7.0,34.0,8.0,56.0,56.0,17.0,67.0,83.0,17.0,63.0,55.0,13.0,31.0,38.0,56.0,22.0,31.0,56.0,17.0,31.0,55.0,20.0,31.0,72.0,45.0,55.0,13.0,37.0,86.0,52.0,18.0,17.0,56.0,31.0,67.0,56.0,71.0,32.0,7.0,7.0,14.0,86.0,11.0,55.0,55.0,17.0,7.0,19.0,26.0,31.0,64.0,64.0,17.0,56.0,69.0,31.0,31.0,55.0,34.0,64.0,7.0,7.0,7.0,7.0,7.0,7.0,7.0,7.0,7.0,7.0,7.0,7.0,7.0,7.0,7.0,7.0,7.0,7.0,7.0,7.0,7.0,7.0,7.0,62.0,56.0,56.0,56.0,56.0,56.0,14.0,14.0,14.0,44.0,44.0,44.0,17.0,44.0,33.0,14.0,32.0,32.0,8.0,7.0,7.0,32.0,7.0,32.0,11.0,32.0,11.0,32.0,31.0,31.0,17.0,17.0,31.0,31.0,31.0,31.0,67.0,67.0,67.0,32.0,40.0,67.0,67.0,67.0,67.0,67.0,67.0,55.0,55.0,55.0,55.0,55.0,55.0,55.0,55.0,55.0,55.0,55.0,55.0,7.0,7.0,7.0,36.0,32.0,32.0,32.0,67.0,67.0,82.0,32.0,55.0,31.0,13.0,31.0,55.0,1.0,31.0,31.0,31.0,31.0,55.0,13.0,33.0,56.0,45.0,45.0,0.0,0.0,64.0,64.0,48.0,47.0,0.0,0.0,64.0,64.0,0.0,0.0,0.0,0.0,0.0,0.0,6.0,6.0,6.0,26.0,26.0,26.0,82.0,46.0,0.0,0.0,0.0,0.0,0.0,0.0,0.0,64.0,0.0,0.0,0.0,64.0,64.0,64.0,64.0,46.0,46.0,46.0,46.0,46.0,46.0,64.0,46.0,64.0,0.0,64.0,0.0,0.0,64.0,64.0,0.0,0.0,0.0,0.0,83.0,48.0,83.0,83.0,0.0,0.0,0.0,0.0,0.0,0.0,17.0,83.0,83.0,83.0,0.0,28.0,31.0,8.0,0.0,63.0,45.0,8.0,31.0,46.0,41.0,71.0,31.0,55.0,31.0,15.0,57.0,28.0,64.0,27.0,31.0,31.0,55.0,31.0,42.0,55.0,55.0,15.0,31.0,10.0,19.0,55.0,19.0,55.0,31.0,55.0,31.0,24.0,74.0,25.0,52.0,74.0,76.0,21.0,40.0,21.0,24.0,59.0,78.0,17.0,63.0,31.0,32.0,67.0,59.0,84.0,73.0,28.0,49.0,86.0,86.0,63.0,89.0,86.0,23.0,86.0,32.0,89.0,17.0,17.0,44.0,44.0,44.0,31.0,31.0,17.0,17.0,17.0,17.0,17.0,17.0,17.0,17.0,17.0,17.0,17.0,17.0,17.0,44.0,44.0,84.0,56.0,38.0,22.0,62.0,31.0,13.0,69.0,4.0,17.0,17.0,17.0,17.0,17.0,17.0,17.0,17.0,17.0,17.0,17.0,17.0,17.0,44.0,44.0,44.0,44.0,44.0,44.0,44.0,44.0,44.0,44.0,44.0,17.0,57.0,57.0,57.0,57.0,57.0,57.0,57.0,17.0,57.0,57.0,44.0,44.0,44.0,17.0,17.0,44.0,44.0,44.0,44.0,44.0,44.0,44.0,44.0,32.0,17.0,17.0,39.0,22.0,57.0,6.0,6.0,6.0,6.0,57.0,57.0,57.0,57.0,75.0,22.0,57.0,42.0,13.0,13.0,13.0,22.0,22.0,13.0,13.0,22.0,13.0,13.0,13.0,13.0,13.0,13.0,13.0,13.0,13.0,13.0,13.0,13.0,22.0,22.0,22.0,22.0,22.0,22.0,22.0,22.0,22.0,22.0,22.0,22.0,22.0,22.0,31.0,31.0,13.0,30.0,13.0,13.0,13.0,13.0,13.0,13.0,13.0,13.0,13.0,13.0,13.0,13.0,13.0,13.0,13.0,13.0,13.0,13.0,13.0,13.0,13.0,13.0,13.0,13.0,13.0,13.0,13.0,13.0,13.0,13.0,13.0,13.0,13.0,13.0,13.0,13.0,13.0,13.0,13.0,13.0,13.0,13.0,13.0,13.0,13.0,13.0,13.0,13.0,13.0,13.0,13.0,13.0,13.0,13.0,13.0,13.0,13.0,13.0,13.0,13.0,13.0,13.0,13.0,13.0,13.0,13.0,13.0,13.0,13.0,13.0,13.0,13.0,13.0,13.0,13.0,13.0,13.0,13.0,13.0,13.0,13.0,13.0,13.0,13.0,13.0,13.0,13.0,13.0,13.0,13.0,13.0,13.0,13.0,13.0,13.0,13.0,13.0,13.0,13.0,13.0,13.0,13.0,13.0,13.0,13.0,13.0,13.0,13.0,13.0,13.0,13.0,13.0,13.0,13.0,13.0,13.0,13.0,13.0,22.0,22.0,13.0,13.0,20.0,22.0,20.0,20.0,20.0,13.0,20.0,20.0,20.0,20.0,20.0,13.0,13.0,13.0,20.0,13.0,22.0,13.0,22.0,22.0,22.0,22.0,13.0,13.0,13.0,13.0,13.0,13.0,13.0,13.0,13.0,13.0,13.0,13.0,13.0,13.0,22.0,22.0,63.0,31.0,13.0,13.0,13.0,13.0,13.0,13.0,13.0,13.0,13.0,13.0,13.0,13.0,13.0,13.0,13.0,13.0,13.0,13.0,13.0,13.0,13.0,13.0,13.0,13.0,13.0,13.0,13.0,13.0,13.0,13.0,13.0,13.0,13.0,13.0,13.0,13.0,13.0,13.0,13.0,13.0,7.0,7.0,7.0,7.0,13.0,7.0,13.0,7.0,7.0,13.0,22.0,13.0,13.0,7.0,13.0,22.0,22.0,13.0,20.0,20.0,20.0,20.0,20.0,20.0,20.0,20.0,20.0,22.0,13.0,13.0,13.0,13.0,13.0,13.0,13.0,55.0,50.0,31.0,57.0,57.0,57.0,57.0,57.0,57.0,57.0,57.0,57.0,57.0,57.0,57.0,57.0,57.0,57.0,57.0,57.0,57.0,57.0,57.0,57.0,57.0,57.0,57.0,57.0,57.0,57.0,57.0,57.0,57.0,57.0,57.0,57.0,57.0,57.0,57.0,57.0,57.0,57.0,57.0,57.0,57.0,57.0,57.0,57.0,57.0,57.0,57.0,57.0,57.0,57.0,82.0,47.0,0.0,55.0,65.0,71.0,1.0,19.0,1.0,55.0,54.0,1.0,22.0,22.0,13.0,13.0,13.0,13.0,13.0,31.0,31.0,13.0,13.0,13.0,13.0,13.0,13.0,13.0,13.0,13.0,13.0,13.0,13.0,22.0,22.0,13.0,13.0,13.0,22.0,13.0,22.0,13.0,22.0,22.0,13.0,22.0,13.0,22.0,13.0,22.0,13.0,13.0,13.0,13.0,13.0,13.0,22.0,13.0,13.0,22.0,13.0,22.0,22.0,22.0,13.0,22.0,13.0,13.0,13.0,13.0,13.0,13.0,13.0,13.0,13.0,13.0,13.0,13.0,20.0,13.0,20.0,20.0,20.0,20.0,20.0,13.0,13.0,13.0,13.0,13.0,13.0,13.0,13.0,13.0,13.0,13.0,13.0,13.0,13.0,13.0,13.0,13.0,13.0,7.0,7.0,20.0,20.0,20.0,22.0,20.0,22.0,13.0,13.0,13.0,13.0,22.0,22.0,22.0,13.0,13.0,13.0,13.0,13.0,13.0,13.0,22.0,13.0,13.0,22.0,13.0,13.0,13.0,13.0,13.0,13.0,13.0,13.0,13.0,13.0,13.0,13.0,13.0,13.0,13.0,13.0,13.0,22.0,20.0,20.0,20.0,20.0,79.0,75.0,31.0,31.0,31.0,0.0,31.0,45.0,45.0,45.0,26.0,45.0,26.0,26.0,26.0,26.0,31.0,47.0,20.0,28.0,28.0,28.0,29.0,20.0,28.0,55.0,63.0,31.0,5.0,18.0,18.0,17.0,17.0,51.0,17.0,17.0,17.0,19.0,34.0,18.0,26.0,45.0,49.0,49.0,49.0,49.0,26.0,56.0,23.0,56.0,56.0,32.0,3.0,66.0,31.0,56.0,31.0,45.0,17.0,77.0,7.0,17.0,17.0,32.0,62.0,45.0,70.0,80.0,32.0,63.0,34.0,61.0,31.0,75.0,60.0,16.0,43.0,56.0,17.0,67.0,38.0,75.0,0.0,68.0,85.0,31.0,31.0,31.0,51.0,56.0,51.0,51.0,32.0,32.0,18.0,1.0,17.0,9.0,42.0,38.0,38.0,88.0,87.0,35.0,18.0,18.0,2.0,12.0,13.0,7.0,31.0,4.0,31.0,28.0,71.0,28.0,53.0,17.0,13.0,58.0,42.0,78.0,4.0,4.0,4.0,4.0,81.0,1587.0,1450.0,1290.0,1200.0,1663.0,1500.0,2062.0,1250.0,1350.0,1600.0,3700.0,1782.0,1800.0,1500.0,2317.0,1650.0,1000.0,2317.0,4437.0,2350.0,1151.0,1818.0,1647.0,2000.0,1168.0,1200.0,1054.0,1560.0,1400.0,1187.0,1647.0,1980.0,1460.0,1266.0,2000.0,1150.0,1620.0,1647.0,914.0,900.0,2109.0,1174.0,1870.0,1818.0,1647.0,1800.0,2000.0,1080.0,661.0,1350.0,1350.0,1100.0,1647.0,2205.0,1647.0,1192.0,1800.0,1548.0,1485.0,2700.0,900.0,1773.0,1350.0,1700.0,1800.0,1350.0,1350.0,1005.0,800.0,900.0,2280.0,950.0,1100.0,1260.0,1500.0,1023.0,1752.0,1150.0,1543.0,1200.0,1647.0,2120.0,1242.0,3150.0,1548.0,1500.0,2427.0,1050.0,1215.0,1280.0,900.0,1080.0,1350.0,1638.0,2332.0,1500.0,2966.0,2935.0,1800.0,864.0,2285.0,2567.0,2317.0,2317.0,2317.0,2317.0,2478.0,2478.0,2478.0,2478.0,2478.0,2478.0,2369.0,2369.0,2285.0,2285.0,2285.0,2567.0,2567.0,2567.0,2567.0,2567.0,2317.0,1647.0,1764.0,1764.0,1647.0,1647.0,1647.0,1719.0,1719.0,1719.0,1647.0,1647.0,1647.0,202.0,1647.0,1647.0,150.0,1187.0,1512.0,1875.0,1200.0,1200.0,2350.0,1200.0,1250.0,1500.0,1203.0,2100.0,1187.0,1647.0,1782.0,1650.0,1584.0,1647.0,1836.0,2052.0,1944.0,2000.0,3322.0,2320.0,2000.0,2000.0,2070.0,2110.0,1460.0,3200.0,1460.0,1460.0,2680.0,3050.0,2300.0,3040.0,2545.0,2270.0,2995.0,2490.0,2460.0,2500.0,2710.0,3421.0,1250.0,1819.0,1280.0,2300.0,2000.0,2000.0,2000.0,1460.0,2110.0,1080.0,1548.0,1260.0,2430.0,1746.0,1350.0,1350.0,1100.0,1200.0,1200.0,1500.0,1500.0,1300.0,1750.0,1201.0,3300.0,3600.0,900.0,1080.0,1080.0,1800.0,864.0,1080.0,1116.0,1080.0,990.0,1080.0,900.0,900.0,1080.0,1080.0,1080.0,1080.0,1080.0,900.0,1080.0,1080.0,1215.0,1625.0,1715.0,1080.0,1080.0,1080.0,1080.0,1080.0,1080.0,1080.0,1080.0,1080.0,1080.0,1080.0,900.0,1080.0,900.0,900.0,900.0,1800.0,1080.0,1080.0,1080.0,1080.0,1080.0,1080.0,1080.0,1080.0,1080.0,1080.0,1080.0,1080.0,900.0,1080.0,1080.0,1080.0,1080.0,1080.0,1080.0,990.0,1080.0,990.0,990.0,1080.0,1080.0,1080.0,1080.0,1080.0,1800.0,1800.0,1080.0,900.0,1080.0,1080.0,1017.0,1647.0,3834.0,1350.0,900.0,1300.0,2025.0,1350.0,9500.0,900.0,1080.0,1440.0,1100.0,1350.0,900.0,1215.0,1017.0,900.0,9585.0,1350.0,1350.0,1350.0,1500.0,900.0,1593.0,1350.0,2178.0,1260.0,533.0,1350.0,1350.0,1350.0,1110.0,1350.0,1107.0,1650.0,477.0,1103.0,1780.0,200.0,1013.0,1075.0,534.0,1350.0,534.0,819.0,1437.0,961.0,1500.0,200.0,200.0,3033.0,544.0,1818.0,2619.0,900.0,900.0,1213.0,1450.0,1350.0,1350.0,1500.0,1200.0,1151.0,1773.0,1305.0,1350.0,1905.0,1400.0,960.0,1549.0,1549.0,1200.0,1200.0,1485.0,1485.0,1485.0,1485.0,1485.0,1485.0,1485.0,1485.0,1485.0,1485.0,1485.0,1485.0,1485.0,960.0,960.0,1594.0,2650.0,1260.0,1100.0,900.0,970.0,2650.0,2532.0,1600.0,1485.0,1485.0,1485.0,1438.0,1485.0,1485.0,1485.0,1485.0,1495.0,1495.0,1495.0,1495.0,1495.0,960.0,960.0,1549.0,1549.0,1549.0,960.0,960.0,1549.0,1549.0,1549.0,960.0,1905.0,1485.0,1485.0,1485.0,1485.0,1485.0,1485.0,1485.0,1905.0,1485.0,1485.0,1549.0,1549.0,1549.0,2000.0,1600.0,960.0,1549.0,1549.0,1549.0,960.0,960.0,1549.0,960.0,1459.0,1081.0,1204.0,1350.0,1647.0,1800.0,1800.0,1350.0,1350.0,1350.0,1350.0,900.0,900.0,900.0,280.0,1647.0,1485.0,1791.0,1818.0,1962.0,1710.0,1548.0,1647.0,1503.0,1467.0,1647.0,1557.0,1548.0,1512.0,1512.0,1710.0,1692.0,1683.0,1647.0,1566.0,1728.0,1719.0,12240.0,1944.0,1548.0,1944.0,1764.0,1557.0,1836.0,1647.0,1818.0,1917.0,1818.0,1557.0,1647.0,1818.0,1503.0,1413.0,1503.0,1683.0,187.0,4077.0,3996.0,1620.0,3366.0,2439.0,1989.0,8172.0,12240.0,2475.0,1728.0,2304.0,4455.0,1719.0,3942.0,1872.0,3942.0,3483.0,2655.0,2340.0,1899.0,1647.0,1800.0,491.0,3339.0,3213.0,3168.0,3150.0,3024.0,1440.0,1395.0,2637.0,2502.0,1872.0,1701.0,2745.0,1647.0,1566.0,1557.0,1548.0,1467.0,1458.0,12240.0,1818.0,1674.0,1755.0,1746.0,1557.0,1719.0,1710.0,1692.0,2439.0,1809.0,1620.0,1773.0,1674.0,1953.0,3996.0,1809.0,1773.0,2763.0,2520.0,1809.0,270.0,2088.0,3168.0,3150.0,1809.0,3024.0,2475.0,2304.0,4455.0,3942.0,3483.0,3366.0,2439.0,1989.0,8172.0,12240.0,4077.0,3996.0,2763.0,2520.0,2430.0,4077.0,891.0,2142.0,4077.0,1953.0,3996.0,2088.0,1566.0,2763.0,1548.0,2520.0,1467.0,1467.0,1512.0,1557.0,1602.0,1647.0,4077.0,1692.0,3996.0,2763.0,2520.0,2520.0,2340.0,2430.0,4419.0,1953.0,3213.0,1818.0,1818.0,1872.0,1872.0,2169.0,2304.0,2529.0,1674.0,1953.0,1503.0,1746.0,1584.0,1647.0,1278.0,1503.0,1602.0,1674.0,1197.0,1278.0,1206.0,1413.0,1350.0,2430.0,1773.0,8172.0,1197.0,12240.0,1557.0,1647.0,1782.0,1647.0,1818.0,1620.0,1440.0,2340.0,2142.0,1728.0,3942.0,3213.0,2142.0,3366.0,1746.0,1395.0,3942.0,3213.0,12240.0,1647.0,1836.0,1980.0,1350.0,1503.0,2034.0,1440.0,1683.0,1395.0,1998.0,1953.0,2520.0,2088.0,1872.0,1557.0,1602.0,1494.0,1512.0,174.0,1467.0,1800.0,293.0,2142.0,1908.0,1548.0,1494.0,1863.0,1746.0,1809.0,3942.0,1773.0,3213.0,1647.0,1467.0,1647.0,1746.0,1746.0,1908.0,1818.0,174.0,1746.0,2088.0,1818.0,1746.0,1647.0,2187.0,2187.0,1863.0,1746.0,1818.0,1647.0,1674.0,1944.0,2502.0,1899.0,1719.0,1908.0,1647.0,2745.0,1809.0,162.0,1647.0,2745.0,1278.0,279.0,1602.0,1278.0,1602.0,1278.0,1278.0,1269.0,1206.0,183.0,2385.0,174.0,183.0,200.0,196.0,250.0,1746.0,900.0,1350.0,1566.0,1350.0,900.0,900.0,900.0,3150.0,3150.0,3150.0,3150.0,2700.0,2700.0,2250.0,2250.0,2250.0,2250.0,1800.0,1800.0,1800.0,1647.0,1800.0,1647.0,1647.0,1647.0,1350.0,1350.0,1350.0,1350.0,900.0,900.0,900.0,900.0,1800.0,1647.0,1350.0,900.0,1800.0,1647.0,1350.0,900.0,864.0,2250.0,2700.0,1800.0,1647.0,1350.0,900.0,3150.0,2700.0,2250.0,1800.0,1647.0,1350.0,1350.0,1080.0,1350.0,1500.0,931.0,1750.0,1100.0,1800.0,1100.0,1215.0,900.0,1200.0,1818.0,1719.0,1395.0,1890.0,1467.0,1458.0,1440.0,2700.0,1503.0,1944.0,1971.0,2016.0,2034.0,2052.0,2097.0,1881.0,1890.0,3996.0,2763.0,280.0,2142.0,1503.0,1557.0,2763.0,1935.0,280.0,2187.0,3942.0,1953.0,3483.0,1476.0,2574.0,3366.0,1764.0,2439.0,1350.0,1989.0,1818.0,8172.0,1854.0,12240.0,1863.0,4077.0,2394.0,2862.0,2403.0,2943.0,1764.0,2304.0,1350.0,2376.0,1971.0,2430.0,1908.0,4455.0,2052.0,2097.0,2142.0,2169.0,2187.0,2232.0,2385.0,2016.0,2394.0,3024.0,1458.0,1305.0,1440.0,1350.0,1278.0,1602.0,1215.0,1413.0,173.0,1512.0,1512.0,1503.0,1467.0,1458.0,1440.0,1395.0,2340.0,1908.0,3150.0,1710.0,1395.0,1458.0,2088.0,1953.0,2142.0,1890.0,1647.0,2142.0,1260.0,1251.0,1458.0,1503.0,1278.0,1647.0,2142.0,1395.0,3942.0,2943.0,3222.0,1647.0,1962.0,2169.0,2385.0,2088.0,1953.0,1809.0,1773.0,1557.0,1557.0,2394.0,2403.0,1782.0,2943.0,1674.0,3213.0,1602.0,2142.0,2142.0,2169.0,1503.0,1899.0,2187.0,2232.0,1746.0,1746.0,1809.0,2520.0,1863.0,1755.0,1719.0,1278.0,1071.0,1458.0,1278.0,990.0,972.0,1503.0,1503.0,1503.0,1350.0,1683.0,1350.0,1152.0,1152.0,1215.0,1170.0,1625.0,1715.0,1625.0,1350.0,1494.0,20000.0,1350.0,1017.0,1332.0,1017.0,2400.0,1450.0,1017.0,1359.0,1350.0,1350.0,1530.0,738.0,1534.0,1125.0,1030.0,820.0,2430.0,1719.0,1215.0,1500.0,1044.0,1250.0,1010.0,1250.0,1200.0,1200.0,1200.0,1200.0,1250.0,1000.0,1852.0,800.0,1200.0,1320.0,7500.0,900.0,1500.0,800.0,1100.0,1250.0,150.0,1200.0,1150.0,1266.0,2200.0,1260.0,3433.0,1200.0,1402.0,1150.0,2000.0,1250.0,1266.0,400.0,1200.0,1289.0,4000.0,900.0,2000.0,1585.0,1000.0,1500.0,1853.0,1908.0,900.0,3924.0,3366.0,1881.0,1098.0,2430.0,999.0,9585.0,1611.0,2376.0,2700.0,7092.0,3015.0,1800.0,2394.0,837.0,9117.0,4320.0,3267.0,11394.0,909.0,2601.0,1620.0,2700.0,1314.0,3996.0,1728.0,25.0,1287.0,2060.0,9000.0,300.0,4500.0,1728.0,1350.0,1320.0,2250.0,1080.0,9504.0,1872.0,2040.0,2040.0,2040.0,2040.0,2394.0,1.0,1.0,3.0,1.0,1.0,1.0,1.0,1.0,1.0,3.0,1.0,2.0,2.0,2.0,3.0,1.0,1.0,3.0,1.0,3.0,1.0,0.0,0.0,1.0,1.0,3.0,1.0,1.0,1.0,3.0,0.0,0.0,1.0,1.0,1.0,3.0,2.0,0.0,1.0,3.0,3.0,1.0,3.0,0.0,0.0,2.0,1.0,0.0,1.0,0.0,1.0,1.0,0.0,0.0,0.0,0.0,0.0,2.0,0.0,0.0,3.0,0.0,0.0,1.0,3.0,3.0,3.0,1.0,1.0,1.0,1.0,1.0,3.0,3.0,1.0,1.0,1.0,3.0,3.0,3.0,0.0,1.0,1.0,0.0,2.0,0.0,1.0,1.0,1.0,3.0,0.0,0.0,0.0,0.0,3.0,0.0,3.0,1.0,0.0,0.0,3.0,3.0,3.0,3.0,3.0,3.0,3.0,3.0,3.0,3.0,3.0,3.0,3.0,3.0,3.0,3.0,3.0,3.0,3.0,3.0,3.0,3.0,3.0,0.0,0.0,0.0,0.0,0.0,0.0,0.0,0.0,0.0,0.0,0.0,0.0,0.0,0.0,0.0,0.0,3.0,3.0,3.0,1.0,1.0,3.0,3.0,3.0,3.0,3.0,3.0,3.0,0.0,0.0,0.0,0.0,0.0,0.0,0.0,0.0,1.0,1.0,1.0,1.0,1.0,1.0,1.0,1.0,1.0,1.0,1.0,1.0,1.0,1.0,1.0,1.0,1.0,1.0,1.0,1.0,1.0,1.0,1.0,3.0,3.0,3.0,1.0,1.0,1.0,1.0,1.0,1.0,0.0,2.0,0.0,0.0,0.0,3.0,3.0,1.0,3.0,3.0,3.0,3.0,3.0,3.0,3.0,1.0,3.0,3.0,0.0,0.0,0.0,0.0,0.0,0.0,0.0,0.0,0.0,0.0,0.0,0.0,0.0,0.0,0.0,0.0,0.0,0.0,0.0,1.0,1.0,1.0,0.0,0.0,0.0,0.0,0.0,0.0,0.0,0.0,0.0,0.0,0.0,0.0,0.0,0.0,0.0,0.0,0.0,0.0,0.0,0.0,0.0,0.0,0.0,0.0,0.0,0.0,0.0,0.0,0.0,0.0,0.0,0.0,0.0,0.0,0.0,0.0,0.0,0.0,0.0,0.0,0.0,0.0,0.0,0.0,0.0,0.0,0.0,0.0,0.0,0.0,0.0,0.0,0.0,2.0,0.0,0.0,0.0,2.0,0.0,2.0,0.0,0.0,1.0,3.0,3.0,0.0,0.0,0.0,0.0,2.0,0.0,0.0,0.0,3.0,0.0,0.0,0.0,0.0,1.0,2.0,0.0,0.0,0.0,0.0,0.0,0.0,0.0,1.0,1.0,3.0,2.0,1.0,1.0,1.0,1.0,1.0,1.0,1.0,1.0,1.0,0.0,0.0,2.0,2.0,1.0,2.0,0.0,0.0,1.0,1.0,1.0,0.0,1.0,1.0,1.0,0.0,0.0,1.0,1.0,1.0,1.0,1.0,1.0,3.0,3.0,1.0,1.0,1.0,1.0,1.0,1.0,1.0,1.0,1.0,1.0,1.0,1.0,1.0,1.0,1.0,3.0,3.0,1.0,1.0,1.0,1.0,1.0,3.0,1.0,1.0,1.0,1.0,1.0,1.0,1.0,1.0,1.0,1.0,1.0,1.0,1.0,1.0,1.0,1.0,1.0,1.0,1.0,1.0,1.0,1.0,3.0,1.0,1.0,1.0,3.0,3.0,3.0,3.0,3.0,3.0,3.0,1.0,1.0,3.0,1.0,1.0,1.0,1.0,1.0,1.0,1.0,1.0,1.0,1.0,1.0,1.0,1.0,1.0,1.0,1.0,0.0,0.0,0.0,0.0,0.0,0.0,0.0,0.0,0.0,0.0,0.0,0.0,0.0,0.0,0.0,0.0,0.0,0.0,0.0,0.0,0.0,0.0,0.0,0.0,0.0,0.0,0.0,0.0,0.0,0.0,0.0,0.0,0.0,0.0,0.0,0.0,0.0,0.0,0.0,0.0,0.0,0.0,0.0,0.0,0.0,0.0,0.0,0.0,0.0,0.0,0.0,0.0,0.0,0.0,0.0,0.0,0.0,0.0,0.0,0.0,0.0,0.0,0.0,0.0,0.0,0.0,0.0,0.0,0.0,0.0,0.0,0.0,0.0,0.0,0.0,0.0,0.0,0.0,0.0,0.0,0.0,0.0,0.0,0.0,0.0,0.0,0.0,0.0,0.0,0.0,0.0,0.0,0.0,0.0,0.0,0.0,0.0,0.0,0.0,0.0,0.0,0.0,0.0,0.0,0.0,0.0,0.0,0.0,0.0,0.0,0.0,0.0,0.0,0.0,0.0,0.0,0.0,0.0,0.0,0.0,0.0,0.0,0.0,0.0,0.0,0.0,0.0,0.0,0.0,0.0,0.0,0.0,0.0,0.0,0.0,0.0,0.0,0.0,0.0,0.0,0.0,0.0,0.0,0.0,0.0,0.0,0.0,0.0,0.0,0.0,0.0,0.0,0.0,0.0,0.0,0.0,0.0,0.0,0.0,0.0,0.0,0.0,0.0,0.0,0.0,0.0,0.0,0.0,0.0,0.0,0.0,0.0,0.0,0.0,0.0,0.0,0.0,0.0,0.0,0.0,0.0,0.0,0.0,0.0,0.0,0.0,0.0,0.0,0.0,0.0,0.0,0.0,0.0,0.0,0.0,0.0,0.0,0.0,0.0,0.0,0.0,0.0,0.0,0.0,0.0,0.0,0.0,0.0,0.0,0.0,0.0,0.0,0.0,0.0,0.0,0.0,0.0,0.0,0.0,0.0,0.0,0.0,0.0,0.0,0.0,0.0,0.0,0.0,0.0,0.0,0.0,0.0,0.0,0.0,0.0,0.0,0.0,0.0,0.0,0.0,0.0,0.0,0.0,0.0,0.0,0.0,0.0,0.0,0.0,0.0,0.0,0.0,0.0,0.0,0.0,0.0,0.0,0.0,0.0,0.0,0.0,0.0,0.0,0.0,0.0,0.0,0.0,0.0,0.0,0.0,0.0,0.0,0.0,0.0,0.0,0.0,0.0,0.0,0.0,0.0,0.0,0.0,0.0,0.0,0.0,0.0,0.0,0.0,0.0,0.0,0.0,0.0,0.0,0.0,0.0,0.0,0.0,0.0,0.0,0.0,0.0,0.0,0.0,0.0,0.0,0.0,0.0,0.0,0.0,0.0,0.0,0.0,0.0,0.0,0.0,0.0,0.0,0.0,0.0,0.0,0.0,0.0,0.0,0.0,0.0,0.0,0.0,0.0,0.0,0.0,0.0,0.0,0.0,0.0,0.0,0.0,0.0,0.0,0.0,0.0,0.0,0.0,0.0,0.0,0.0,0.0,0.0,1.0,3.0,1.0,1.0,1.0,1.0,3.0,3.0,3.0,0.0,0.0,0.0,0.0,0.0,0.0,0.0,0.0,0.0,0.0,0.0,0.0,0.0,0.0,0.0,0.0,0.0,0.0,0.0,0.0,0.0,0.0,0.0,0.0,0.0,0.0,0.0,0.0,0.0,0.0,0.0,0.0,0.0,0.0,0.0,0.0,0.0,0.0,0.0,0.0,0.0,0.0,0.0,0.0,0.0,0.0,0.0,0.0,0.0,0.0,0.0,0.0,0.0,0.0,0.0,0.0,0.0,0.0,0.0,0.0,0.0,0.0,0.0,0.0,0.0,0.0,0.0,0.0,0.0,0.0,0.0,0.0,0.0,0.0,0.0,0.0,0.0,0.0,0.0,0.0,0.0,0.0,0.0,0.0,0.0,0.0,0.0,0.0,0.0,0.0,0.0,0.0,0.0,0.0,0.0,0.0,0.0,0.0,0.0,0.0,0.0,0.0,0.0,0.0,0.0,0.0,0.0,0.0,0.0,0.0,0.0,0.0,0.0,0.0,0.0,0.0,0.0,0.0,0.0,0.0,0.0,0.0,0.0,0.0,0.0,0.0,0.0,0.0,0.0,0.0,0.0,0.0,0.0,0.0,0.0,0.0,0.0,0.0,0.0,0.0,0.0,0.0,0.0,0.0,0.0,0.0,1.0,1.0,3.0,1.0,1.0,1.0,1.0,1.0,1.0,0.0,2.0,0.0,0.0,0.0,0.0,2.0,0.0,0.0,0.0,3.0,3.0,1.0,1.0,1.0,1.0,1.0,1.0,1.0,1.0,1.0,1.0,3.0,1.0,1.0,3.0,3.0,3.0,3.0,3.0,1.0,1.0,1.0,1.0,1.0,1.0,1.0,1.0,1.0,1.0,3.0,3.0,1.0,1.0,3.0,1.0,1.0,1.0,3.0,3.0,1.0,1.0,1.0,1.0,1.0,1.0,1.0,1.0,1.0,1.0,1.0,1.0,1.0,1.0,1.0,2.0,0.0,2.0,0.0,0.0,0.0,0.0,0.0,0.0,0.0,0.0,0.0,0.0,0.0,0.0,0.0,0.0,0.0,0.0,0.0,0.0,0.0,0.0,0.0,0.0,2.0,2.0,2.0,0.0,2.0,2.0,2.0,0.0,2.0,2.0,0.0,2.0,2.0,2.0,0.0,2.0,2.0,2.0,2.0,2.0,0.0,3.0,2.0,2.0,2.0,3.0,3.0,3.0,2.0,2.0,3.0,6.0,0.0,0.0,0.0,3.0,3.0,2.0,3.0,3.0,3.0,2.0,0.0,0.0,3.0,2.0,2.0,1.0,3.0,2.0,2.0,0.0,0.0,3.0,2.0,3.0,2.0,0.0,0.0,1.0,2.0,3.0,2.0,3.0,0.0,0.0,0.0,3.0,0.0,1.0,0.0,2.0,2.0,0.0,0.0,0.0,0.0,0.0,0.0,0.0,0.0,2.0,0.0,0.0,3.0,2.0,2.0,2.0,2.0,2.0,2.0,3.0,2.0,2.0,3.0,3.0,2.0,3.0,2.0,3.0,2.0,0.0,3.0,2.0,0.0,0.0,0.0,3.0,2.0,2.0,2.0,0.0,0.0,0.0,0.0,3.0,0.0,3.0,4.0,0.0,0.0,3.0,3.0,3.0,3.0,3.0,3.0,3.0,3.0,3.0,3.0,3.0,3.0,3.0,3.0,3.0,3.0,3.0,3.0,3.0,3.0,3.0,3.0,3.0,0.0,0.0,0.0,0.0,0.0,0.0,0.0,0.0,0.0,0.0,0.0,0.0,0.0,0.0,0.0,0.0,2.0,3.0,3.0,2.0,2.0,3.0,2.0,2.0,3.0,2.0,3.0,2.0,0.0,0.0,0.0,0.0,0.0,0.0,0.0,0.0,3.0,3.0,3.0,3.0,3.0,3.0,3.0,2.0,4.0,3.0,3.0,3.0,4.0,3.0,4.0,4.0,3.0,4.0,3.0,4.0,3.0,3.0,4.0,2.0,3.0,2.0,3.0,3.0,3.0,3.0,3.0,3.0,0.0,0.0,0.0,0.0,0.0,2.0,2.0,2.0,2.0,2.0,2.0,2.0,2.0,2.0,2.0,4.0,3.0,2.0,0.0,0.0,0.0,0.0,0.0,0.0,0.0,0.0,0.0,0.0,0.0,0.0,0.0,0.0,0.0,0.0,0.0,0.0,0.0,2.0,3.0,3.0,0.0,0.0,0.0,0.0,0.0,0.0,0.0,0.0,0.0,0.0,0.0,0.0,0.0,0.0,0.0,0.0,0.0,0.0,0.0,0.0,0.0,0.0,0.0,0.0,0.0,0.0,0.0,0.0,0.0,0.0,0.0,0.0,0.0,0.0,0.0,0.0,0.0,0.0,0.0,0.0,0.0,0.0,0.0,0.0,0.0,0.0,0.0,0.0,0.0,0.0,0.0,0.0,0.0,0.0,0.0,0.0,0.0,0.0,0.0,0.0,0.0,0.0,2.0,2.0,2.0,0.0,0.0,0.0,0.0,0.0,0.0,0.0,0.0,2.0,0.0,0.0,0.0,0.0,3.0,0.0,0.0,0.0,0.0,0.0,0.0,0.0,0.0,1.0,1.0,3.0,0.0,1.0,1.0,1.0,1.0,1.0,1.0,1.0,1.0,1.0,0.0,0.0,0.0,0.0,3.0,0.0,0.0,0.0,2.0,3.0,2.0,0.0,3.0,2.0,1.0,0.0,0.0,3.0,3.0,3.0,2.0,3.0,3.0,2.0,2.0,3.0,3.0,3.0,3.0,3.0,3.0,3.0,3.0,3.0,3.0,3.0,3.0,3.0,2.0,2.0,2.0,4.0,2.0,2.0,2.0,2.0,3.0,3.0,3.0,3.0,3.0,3.0,3.0,3.0,3.0,3.0,3.0,3.0,3.0,3.0,3.0,3.0,2.0,2.0,3.0,3.0,3.0,2.0,2.0,3.0,3.0,3.0,2.0,3.0,2.0,2.0,2.0,2.0,2.0,2.0,2.0,2.0,2.0,2.0,3.0,3.0,3.0,3.0,3.0,2.0,3.0,3.0,3.0,2.0,2.0,3.0,2.0,3.0,2.0,3.0,0.0,0.0,0.0,0.0,0.0,0.0,0.0,0.0,0.0,0.0,0.0,0.0,0.0,0.0,0.0,0.0,0.0,0.0,0.0,0.0,0.0,0.0,0.0,0.0,0.0,0.0,0.0,0.0,0.0,0.0,0.0,0.0,0.0,0.0,0.0,0.0,0.0,0.0,0.0,0.0,0.0,0.0,0.0,0.0,0.0,0.0,0.0,0.0,0.0,0.0,0.0,0.0,0.0,0.0,0.0,0.0,0.0,0.0,0.0,0.0,0.0,0.0,0.0,0.0,0.0,0.0,0.0,0.0,0.0,0.0,0.0,0.0,0.0,0.0,0.0,0.0,0.0,0.0,0.0,0.0,0.0,0.0,0.0,0.0,0.0,0.0,0.0,0.0,0.0,0.0,0.0,0.0,0.0,0.0,0.0,0.0,0.0,0.0,0.0,0.0,0.0,0.0,0.0,0.0,0.0,0.0,0.0,0.0,0.0,0.0,0.0,0.0,0.0,0.0,0.0,0.0,0.0,0.0,0.0,0.0,0.0,0.0,0.0,0.0,0.0,0.0,0.0,0.0,0.0,0.0,0.0,0.0,0.0,0.0,0.0,0.0,0.0,0.0,0.0,0.0,0.0,0.0,0.0,0.0,0.0,0.0,0.0,0.0,0.0,0.0,0.0,0.0,0.0,0.0,0.0,0.0,0.0,0.0,0.0,0.0,0.0,0.0,0.0,0.0,0.0,0.0,0.0,0.0,0.0,0.0,0.0,0.0,0.0,0.0,0.0,0.0,0.0,0.0,0.0,0.0,0.0,0.0,0.0,0.0,0.0,0.0,0.0,0.0,0.0,0.0,0.0,0.0,0.0,0.0,0.0,0.0,0.0,0.0,0.0,0.0,0.0,0.0,0.0,0.0,0.0,0.0,0.0,0.0,0.0,0.0,0.0,0.0,0.0,0.0,0.0,0.0,0.0,0.0,0.0,0.0,0.0,0.0,0.0,0.0,0.0,0.0,0.0,0.0,0.0,0.0,0.0,0.0,0.0,0.0,0.0,0.0,0.0,0.0,0.0,0.0,0.0,0.0,0.0,0.0,0.0,0.0,0.0,0.0,0.0,0.0,0.0,0.0,0.0,0.0,0.0,0.0,0.0,0.0,0.0,0.0,0.0,0.0,0.0,0.0,0.0,0.0,0.0,0.0,0.0,0.0,0.0,0.0,0.0,0.0,0.0,0.0,0.0,0.0,0.0,0.0,0.0,0.0,0.0,0.0,0.0,0.0,0.0,0.0,0.0,0.0,0.0,0.0,0.0,0.0,0.0,0.0,0.0,0.0,0.0,0.0,0.0,0.0,0.0,0.0,0.0,0.0,0.0,0.0,0.0,0.0,0.0,0.0,0.0,0.0,0.0,0.0,0.0,0.0,0.0,0.0,0.0,0.0,0.0,0.0,0.0,0.0,0.0,0.0,0.0,0.0,0.0,0.0,0.0,0.0,0.0,0.0,0.0,0.0,0.0,0.0,0.0,0.0,0.0,0.0,0.0,0.0,0.0,2.0,2.0,3.0,2.0,4.0,2.0,2.0,2.0,2.0,0.0,0.0,0.0,0.0,0.0,0.0,0.0,0.0,0.0,0.0,0.0,0.0,0.0,0.0,0.0,0.0,0.0,0.0,0.0,0.0,0.0,0.0,0.0,0.0,0.0,0.0,0.0,0.0,0.0,0.0,0.0,0.0,0.0,0.0,0.0,0.0,0.0,0.0,0.0,0.0,0.0,0.0,0.0,0.0,0.0,0.0,0.0,0.0,0.0,0.0,0.0,0.0,0.0,0.0,0.0,0.0,0.0,0.0,0.0,0.0,0.0,0.0,0.0,0.0,0.0,0.0,0.0,0.0,0.0,0.0,0.0,0.0,0.0,0.0,0.0,0.0,0.0,0.0,0.0,0.0,0.0,0.0,0.0,0.0,0.0,0.0,0.0,0.0,0.0,0.0,0.0,0.0,0.0,0.0,0.0,0.0,0.0,0.0,0.0,0.0,0.0,0.0,0.0,0.0,0.0,0.0,0.0,0.0,0.0,0.0,0.0,0.0,0.0,0.0,0.0,0.0,0.0,0.0,0.0,0.0,0.0,0.0,0.0,0.0,0.0,0.0,0.0,0.0,0.0,0.0,0.0,0.0,0.0,0.0,0.0,0.0,0.0,0.0,0.0,0.0,0.0,0.0,0.0,0.0,0.0,0.0,2.0,4.0,2.0,2.0,2.0,3.0,3.0,3.0,2.0,0.0,0.0,0.0,0.0,0.0,0.0,0.0,0.0,0.0,0.0,2.0,2.0,3.0,1.0,2.0,2.0,2.0,2.0,4.0,3.0,2.0,3.0,2.0,2.0,2.0,3.0,2.0,2.0,2.0,2.0,2.0,2.0,3.0,2.0,2.0,2.0,7.0,2.0,3.0,2.0,2.0,3.0,1.0,2.0,2.0,2.0,4.0,2.0,3.0,2.0,3.0,2.0,3.0,2.0,2.0,1.0,2.0,2.0,7.0,2.0,2.0,3.0,2.0,3.0,3.0,0.0,0.0,0.0,0.0,0.0,0.0,0.0,0.0,0.0,0.0,0.0,0.0,0.0,0.0,0.0,0.0,0.0,0.0,0.0,0.0,0.0,0.0,0.0,0.0,0.0,0.0,0.0,0.0,0.0,0.0,0.0,0.0,0.0,0.0,0.0,0.0,0.0,0.0,0.0,0.0,0.0,0.0,0.0,0.0,0.0,0.0,3.0,2.0,2.0,2.0,3.0,3.0,3.0,2.0,2.0,3.0,7.0,0.0,0.0,0.0,3.0,3.0,2.0,3.0,3.0,3.0,1.0,0.0,0.0,3.0,2.0,2.0,0.0,3.0,2.0,2.0,0.0,0.0,3.0,2.0,3.0,2.0,0.0,0.0,1.0,2.0,3.0,2.0,3.0,0.0,0.0,0.0,3.0,0.0,1.0,0.0,2.0,2.0,0.0,0.0,0.0,0.0,0.0,0.0,0.0,0.0,20232.0,0.0,0.0,3.0,20232.0,20242.0,20232.0,2.0,2.0,2.0,3.0,2.0,2.0,20242.0,3.0,2.0,0.0,2.0,3.0,2.0,0.0,3.0,2.0,0.0,0.0,0.0,3.0,2.0,2.0,2.0,0.0,0.0,0.0,0.0,20233.0,0.0,20243.0,0.0,0.0,0.0,3.0,3.0,3.0,3.0,3.0,3.0,3.0,3.0,3.0,3.0,3.0,3.0,3.0,3.0,3.0,3.0,3.0,3.0,3.0,3.0,3.0,3.0,3.0,0.0,0.0,0.0,0.0,0.0,0.0,0.0,0.0,0.0,0.0,0.0,0.0,0.0,0.0,0.0,0.0,2.0,3.0,3.0,2.0,2.0,3.0,2.0,2.0,3.0,2.0,3.0,2.0,0.0,0.0,0.0,0.0,0.0,0.0,0.0,0.0,3.0,3.0,3.0,3.0,3.0,3.0,3.0,2.0,4.0,3.0,3.0,0.0,0.0,0.0,0.0,0.0,0.0,0.0,0.0,0.0,0.0,0.0,0.0,2.0,3.0,2.0,3.0,3.0,3.0,3.0,3.0,3.0,0.0,0.0,0.0,0.0,0.0,20212.0,20222.0,2.0,20222.0,20222.0,20232.0,20232.0,20222.0,20222.0,20242.0,4.0,20233.0,20222.0,0.0,0.0,0.0,0.0,0.0,0.0,0.0,0.0,0.0,0.0,0.0,0.0,0.0,0.0,0.0,0.0,0.0,0.0,0.0,2.0,3.0,3.0,0.0,0.0,0.0,0.0,0.0,0.0,0.0,0.0,0.0,0.0,0.0,0.0,0.0,0.0,0.0,0.0,0.0,0.0,0.0,0.0,0.0,0.0,0.0,0.0,0.0,0.0,0.0,0.0,0.0,0.0,0.0,0.0,0.0,0.0,0.0,0.0,0.0,0.0,0.0,0.0,0.0,0.0,0.0,0.0,0.0,0.0,0.0,0.0,0.0,0.0,0.0,0.0,0.0,0.0,0.0,0.0,0.0,0.0,0.0,0.0,0.0,0.0,2.0,20232.0,20212.0,0.0,0.0,0.0,0.0,0.0,0.0,0.0,0.0,20232.0,0.0,0.0,0.0,0.0,2.0,0.0,0.0,0.0,0.0,0.0,0.0,0.0,0.0,1.0,1.0,20233.0,0.0,1.0,1.0,1.0,1.0,1.0,1.0,1.0,0.0,0.0,0.0,0.0,0.0,0.0,3.0,0.0,0.0,0.0,2.0,3.0,2.0,0.0,3.0,2.0,2.0,0.0,0.0,3.0,3.0,3.0,2.0,3.0,3.0,20232.0,20232.0,3.0,3.0,3.0,3.0,3.0,3.0,3.0,3.0,3.0,3.0,3.0,3.0,3.0,2.0,2.0,20212.0,20224.0,2.0,2.0,2.0,2.0,4.0,20233.0,3.0,3.0,3.0,3.0,3.0,3.0,3.0,3.0,3.0,3.0,3.0,3.0,3.0,3.0,2.0,2.0,3.0,3.0,2.0,3.0,2.0,3.0,4.0,3.0,2.0,3.0,20222.0,20222.0,20222.0,20222.0,20222.0,20222.0,20222.0,2.0,2.0,20222.0,3.0,3.0,3.0,3.0,3.0,2.0,3.0,3.0,3.0,2.0,2.0,3.0,2.0,3.0,2.0,3.0,0.0,0.0,0.0,0.0,0.0,0.0,0.0,0.0,0.0,0.0,0.0,0.0,0.0,0.0,0.0,0.0,0.0,0.0,0.0,0.0,0.0,0.0,0.0,0.0,0.0,0.0,0.0,0.0,0.0,0.0,0.0,0.0,0.0,0.0,0.0,0.0,0.0,0.0,0.0,0.0,0.0,0.0,0.0,0.0,0.0,0.0,0.0,0.0,0.0,0.0,0.0,0.0,0.0,0.0,0.0,0.0,0.0,0.0,0.0,0.0,0.0,0.0,0.0,0.0,0.0,0.0,0.0,0.0,0.0,0.0,0.0,0.0,0.0,0.0,0.0,0.0,0.0,0.0,0.0,0.0,0.0,0.0,0.0,0.0,0.0,0.0,0.0,0.0,0.0,0.0,0.0,0.0,0.0,0.0,0.0,0.0,0.0,0.0,0.0,0.0,0.0,0.0,0.0,0.0,0.0,0.0,0.0,0.0,0.0,0.0,0.0,0.0,0.0,0.0,0.0,0.0,0.0,0.0,0.0,0.0,0.0,0.0,0.0,0.0,0.0,0.0,0.0,0.0,0.0,0.0,0.0,0.0,0.0,0.0,0.0,0.0,0.0,0.0,0.0,0.0,0.0,0.0,0.0,0.0,0.0,0.0,0.0,0.0,0.0,0.0,0.0,0.0,0.0,0.0,0.0,0.0,0.0,0.0,0.0,0.0,0.0,0.0,0.0,0.0,0.0,0.0,0.0,0.0,0.0,0.0,0.0,0.0,0.0,0.0,0.0,0.0,0.0,0.0,0.0,0.0,0.0,0.0,0.0,0.0,0.0,0.0,0.0,0.0,0.0,0.0,0.0,0.0,0.0,0.0,0.0,0.0,0.0,0.0,0.0,0.0,0.0,0.0,0.0,0.0,0.0,0.0,0.0,0.0,0.0,0.0,0.0,0.0,0.0,0.0,0.0,0.0,0.0,0.0,0.0,0.0,0.0,0.0,0.0,0.0,0.0,0.0,0.0,0.0,0.0,0.0,0.0,0.0,0.0,0.0,0.0,0.0,0.0,0.0,0.0,0.0,0.0,0.0,0.0,0.0,0.0,0.0,0.0,0.0,0.0,0.0,0.0,0.0,0.0,0.0,0.0,0.0,0.0,0.0,0.0,0.0,0.0,0.0,0.0,0.0,0.0,0.0,0.0,0.0,0.0,0.0,0.0,0.0,0.0,0.0,0.0,0.0,0.0,0.0,0.0,0.0,0.0,0.0,0.0,0.0,0.0,0.0,0.0,0.0,0.0,0.0,0.0,0.0,0.0,0.0,0.0,0.0,0.0,0.0,0.0,0.0,0.0,0.0,0.0,0.0,0.0,0.0,0.0,0.0,0.0,0.0,0.0,0.0,0.0,0.0,0.0,0.0,0.0,0.0,0.0,0.0,0.0,0.0,0.0,0.0,0.0,0.0,0.0,0.0,0.0,0.0,0.0,0.0,0.0,0.0,0.0,0.0,0.0,0.0,0.0,0.0,0.0,0.0,0.0,0.0,0.0,0.0,0.0,2.0,20212.0,3.0,2.0,4.0,2.0,20232.0,20222.0,20232.0,0.0,0.0,0.0,0.0,0.0,0.0,0.0,0.0,0.0,0.0,0.0,0.0,0.0,0.0,0.0,0.0,0.0,0.0,0.0,0.0,0.0,0.0,0.0,0.0,0.0,0.0,0.0,0.0,0.0,0.0,0.0,0.0,0.0,0.0,0.0,0.0,0.0,0.0,0.0,0.0,0.0,0.0,0.0,0.0,0.0,0.0,0.0,0.0,0.0,0.0,0.0,0.0,0.0,0.0,0.0,0.0,0.0,0.0,0.0,0.0,0.0,0.0,0.0,0.0,0.0,0.0,0.0,0.0,0.0,0.0,0.0,0.0,0.0,0.0,0.0,0.0,0.0,0.0,0.0,0.0,0.0,0.0,0.0,0.0,0.0,0.0,0.0,0.0,0.0,0.0,0.0,0.0,0.0,0.0,0.0,0.0,0.0,0.0,0.0,0.0,0.0,0.0,0.0,0.0,0.0,0.0,0.0,0.0,0.0,0.0,0.0,0.0,0.0,0.0,0.0,0.0,0.0,0.0,0.0,0.0,0.0,0.0,0.0,0.0,0.0,0.0,0.0,0.0,0.0,0.0,0.0,0.0,0.0,0.0,0.0,0.0,0.0,0.0,0.0,0.0,0.0,0.0,0.0,0.0,0.0,0.0,2.0,4.0,20232.0,2.0,2.0,3.0,3.0,3.0,2.0,0.0,0.0,0.0,0.0,0.0,0.0,0.0,0.0,0.0,0.0,20222.0,20202.0,2.0,1.0,2.0,2.0,2.0,2.0,3.0,3.0,2.0,3.0,20222.0,2.0,2.0,3.0,2.0,2.0,2.0,2.0,2.0,2.0,3.0,2.0,2.0,2.0,7.0,2.0,3.0,2.0,2.0,3.0,1.0,2.0,2.0,2.0,4.0,2.0,20223.0,2.0,3.0,2.0,3.0,2.0,2.0,2.0,2.0,2.0,9.0,2.0,2.0,2.0,2.0,3.0,3.0,0.0,0.0,0.0,0.0,0.0,0.0,0.0,0.0,0.0,0.0,0.0,0.0,0.0,0.0,0.0,0.0,0.0,0.0,0.0,0.0,0.0,0.0,0.0,0.0,0.0,0.0,0.0,0.0,0.0,0.0,0.0,0.0,0.0,0.0,0.0,0.0,0.0,0.0,0.0,0.0,0.0,0.0,0.0,0.0,0.0,0.0,8.0,1.0,3.0,1.0,0.0,1.0,1.0,1.0,0.0,8.0,1.0,1.0,8.0,1.0,0.0,1.0,1.0,0.0,0.0,1.0,1.0,8.0,1.0,1.0,0.0,0.0,1.0,1.0,1.0,1.0,8.0,8.0,1.0,0.0,1.0,0.0,0.0,1.0,1.0,1.0,0.0,1.0,1.0,0.0,1.0,1.0,1.0,1.0,1.0,1.0,1.0,1.0,1.0,1.0,0.0,1.0,1.0,0.0,1.0,0.0,1.0,3.0,0.0,1.0,1.0,1.0,1.0,1.0,1.0,1.0,1.0,1.0,8.0,1.0,1.0,1.0,1.0,0.0,0.0,1.0,0.0,1.0,1.0,8.0,0.0,0.0,0.0,1.0,1.0,1.0,3.0,3.0,0.0,8.0,1.0,0.0,1.0,1.0,1.0,3.0,2.0,0.0,0.0,0.0,0.0,0.0,0.0,0.0,0.0,0.0,0.0,0.0,8.0,8.0,2.0,2.0,2.0,0.0,0.0,0.0,0.0,0.0,0.0,0.0,8.0,0.0,1.0,8.0,8.0,0.0,1.0,8.0,0.0,8.0,0.0,8.0,8.0,1.0,8.0,1.0,0.0,1.0,1.0,1.0,1.0,1.0,0.0,1.0,1.0,1.0,1.0,1.0,0.0,0.0,0.0,0.0,0.0,0.0,0.0,1.0,1.0,1.0,1.0,1.0,1.0,1.0,1.0,1.0,1.0,1.0,1.0,1.0,1.0,1.0,1.0,1.0,1.0,1.0,1.0,1.0,1.0,1.0,0.0,0.0,0.0,1.0,1.0,1.0,1.0,1.0,1.0,2.0,1.0,0.0,0.0,0.0,1.0,1.0,1.0,1.0,1.0,1.0,1.0,1.0,1.0,1.0,1.0,1.0,1.0,3.0,0.0,3.0,3.0,2.0,8.0,5.0,3.0,3.0,3.0,8.0,4.0,0.0,3.0,2.0,5.0,3.0,0.0,3.0,1.0,1.0,1.0,0.0,6.0,2.0,0.0,8.0,5.0,0.0,7.0,6.0,3.0,4.0,3.0,3.0,0.0,3.0,3.0,3.0,7.0,4.0,3.0,8.0,0.0,2.0,4.0,5.0,8.0,6.0,5.0,3.0,0.0,3.0,0.0,0.0,3.0,5.0,8.0,3.0,5.0,8.0,0.0,8.0,3.0,0.0,3.0,0.0,3.0,3.0,5.0,4.0,3.0,2.0,1.0,0.0,0.0,0.0,0.0,0.0,3.0,0.0,1.0,1.0,1.0,1.0,1.0,1.0,1.0,1.0,1.0,1.0,1.0,0.0,1.0,0.0,1.0,1.0,1.0,0.0,1.0,1.0,0.0,1.0,0.0,0.0,0.0,0.0,1.0,0.0,1.0,1.0,1.0,0.0,1.0,1.0,1.0,1.0,1.0,1.0,1.0,1.0,1.0,1.0,8.0,1.0,1.0,1.0,1.0,1.0,1.0,1.0,1.0,1.0,1.0,1.0,1.0,3.0,1.0,1.0,1.0,1.0,1.0,1.0,1.0,1.0,1.0,1.0,1.0,1.0,1.0,1.0,1.0,1.0,1.0,1.0,1.0,1.0,1.0,1.0,1.0,1.0,1.0,1.0,1.0,1.0,1.0,1.0,1.0,1.0,1.0,1.0,1.0,1.0,1.0,1.0,1.0,1.0,1.0,1.0,1.0,1.0,1.0,1.0,1.0,1.0,1.0,1.0,1.0,1.0,1.0,1.0,1.0,1.0,1.0,1.0,1.0,1.0,1.0,1.0,1.0,1.0,1.0,1.0,1.0,1.0,1.0,1.0,1.0,1.0,1.0,1.0,1.0,1.0,1.0,1.0,1.0,1.0,1.0,1.0,1.0,1.0,1.0,0.0,0.0,8.0,2.0,3.0,0.0,8.0,2.0,0.0,8.0,2.0,8.0,0.0,0.0,0.0,0.0,0.0,8.0,0.0,0.0,8.0,8.0,0.0,8.0,8.0,8.0,8.0,8.0,8.0,8.0,8.0,8.0,8.0,8.0,0.0,0.0,0.0,0.0,0.0,0.0,8.0,0.0,0.0,0.0,0.0,0.0,8.0,3.0,0.0,0.0,8.0,0.0,0.0,0.0,1.0,0.0,3.0,3.0,4.0,2.0,8.0,4.0,0.0,4.0,3.0,0.0,3.0,0.0,3.0,3.0,6.0,6.0,6.0,1.0,6.0,1.0,4.0,4.0,4.0,4.0,4.0,8.0,8.0,7.0,7.0,7.0,7.0,6.0,8.0,8.0,8.0,8.0,8.0,8.0,1.0,1.0,0.0,1.0,1.0,8.0,8.0,8.0,8.0,0.0,0.0,0.0,0.0,0.0,0.0,0.0,0.0,0.0,0.0,0.0,0.0,0.0,0.0,4.0,4.0,0.0,4.0,4.0,3.0,3.0,3.0,3.0,3.0,0.0,3.0,0.0,0.0,0.0,0.0,0.0,0.0,0.0,0.0,8.0,1.0,0.0,0.0,0.0,0.0,8.0,0.0,8.0,0.0,1.0,8.0,8.0,8.0,8.0,8.0,0.0,1.0,0.0,0.0,0.0,0.0,7.0,0.0,4.0,0.0,4.0,8.0,1.0,1.0,1.0,1.0,3.0,1.0,1.0,1.0,8.0,8.0,1.0,1.0,0.0,1.0,1.0,1.0,0.0,0.0,0.0,1.0,1.0,0.0,0.0,0.0,1.0,0.0,0.0,2.0,8.0,8.0,0.0,1.0,8.0,0.0,0.0,8.0,0.0,1.0,8.0,3.0,8.0,8.0,3.0,3.0,0.0,0.0,8.0,0.0,2.0,0.0,8.0,8.0,8.0,8.0,1.0,8.0,8.0,8.0,0.0,0.0,0.0,0.0,0.0,0.0,0.0,8.0,2.0,0.0,2.0,0.0,0.0,2.0,1.0,0.0,0.0,0.0,0.0,0.0,0.0,8.0,0.0,0.0,7.0,8.0,0.0,0.0,1.0,8.0,0.0,0.0,1.0,1.0,1.0,1.0,1.0,1.0,8.0,1.0,1.0,1.0,1.0,0.0,8.0,0.0,1.0,1.0,0.0,8.0,4.0,4.0,0.0,4.0,1.0,1.0,1.0,1.0,0.0,0.0,0.0,0.0,0.0,0.0,0.0,8.0,1.0,1.0,0.0,8.0,8.0,2.0,2.0,8.0,0.0,8.0,5.0,2.0,8.0,5.0,0.0,8.0,5.0,2.0,0.0,8.0,5.0,0.0,2.0,8.0,5.0,2.0,0.0,8.0,5.0,2.0,0.0,8.0,5.0,2.0,2.0,2.0,2.0,2.0,8.0,2.0,2.0,2.0,0.0,8.0,8.0,8.0,8.0,8.0,1.0,2.0,2.0,2.0,2.0,2.0,2.0,1.0,1.0,1.0,1.0,1.0,1.0,1.0,1.0,1.0,1.0,1.0,1.0,0.0,1.0,1.0,1.0,8.0,8.0,8.0,2.0,1.0,1.0,1.0,1.0,8.0,8.0,8.0,1.0,1.0,0.0,0.0,0.0,0.0,0.0,0.0,1.0,1.0,1.0,4.0,3.0,4.0,3.0,0.0,0.0,3.0,8.0,3.0,8.0,3.0,0.0,2.0,1.0,3.0,8.0,0.0,8.0,7.0,8.0,8.0,0.0,4.0,8.0,0.0,0.0,0.0,8.0,3.0,8.0,8.0,8.0,8.0,8.0,8.0,8.0,8.0,8.0,1.0,1.0,0.0,1.0,0.0,0.0,6.0,8.0,8.0,8.0,8.0,8.0,8.0,8.0,8.0,8.0,1.0,0.0,0.0,8.0,8.0,8.0,8.0,0.0,0.0,0.0,8.0,0.0,1.0,8.0,8.0,1.0,0.0,1.0,0.0,0.0,8.0,3.0,8.0,8.0,8.0,0.0,8.0,8.0,1.0,1.0,1.0,1.0,1.0,0.0,1.0,1.0,8.0,8.0,8.0,4.0,8.0,8.0,1.0,1.0,8.0,0.0,1.0,8.0,8.0,0.0,0.0,0.0,1.0,1.0,7.0,0.0,8.0,0.0,8.0,0.0,0.0,0.0,1.0,3.0,0.0,0.0,1.0,0.0,1.0,1.0,1.0,1.0,1.0,1.0,1.0,0.0,0.0,1.0,1.0,1.0,0.0,1.0,1.0,1.0,1.0,1.0,1.0,1.0,1.0,1.0,1.0,1.0,1.0,1.0,1.0,1.0,1.0,1.0,1.0,1.0,1.0,1.0,1.0,1.0,1.0,1.0,1.0,1.0,1.0,1.0,1.0,1.0,1.0,1.0,0.0,0.0,1.0,1.0,1.0,1.0,1.0,1.0,0.0,1.0,1.0,1.0,1.0,1.0,1.0,1.0,1.0,1.0,1.0,1.0,1.0,1.0,1.0,1.0,1.0,1.0,8.0,0.0,1.0,1.0,1.0,1.0,1.0,1.0,1.0,1.0,1.0,1.0,1.0,1.0,1.0,1.0,1.0,1.0,1.0,1.0,1.0,1.0,1.0,1.0,1.0,8.0,0.0,0.0,1.0,1.0,1.0,1.0,1.0,1.0,1.0,0.0,2.0,1.0,4.0,0.0,4.0,8.0,8.0,8.0,8.0,0.0,0.0,0.0,2.0,0.0,0.0,1.0,0.0,0.0,2.0,1.0,2.0,3.0,3.0,3.0,0.0,0.0,2.0,0.0,5.0,0.0,0.0,3.0,3.0,0.0,0.0,0.0,0.0,4.0,0.0,2.0,0.0,3.0,3.0,0.0,0.0,0.0,2.0,3.0,3.0,0.0,2.0,0.0,0.0,1.0,3.0,3.0,3.0,0.0,3.0,0.0,3.0,2.0,0.0,3.0,3.0,3.0,3.0,3.0,3.0,3.0,3.0,2.0,3.0,3.0,0.0,2.0,2.0,2.0,0.0,0.0,0.0,0.0,5.0,2.0,5.0,0.0,0.0,1.0,2.0,0.0,0.0,3.0,1.0,2.0,3.0,3.0,3.0,1.0,0.0,0.0,2.0,3.0,5.0,3.0,3.0,3.0,0.0,3.0,5.0,0.0,3.0,5.0,3.0,0.0,0.0,0.0,0.0,0.0,0.0,0.0,0.0,0.0,0.0,0.0,0.0,0.0,0.0,0.0,0.0,0.0,0.0,0.0,0.0,0.0,0.0,0.0,3.0,3.0,3.0,3.0,3.0,3.0,3.0,3.0,3.0,3.0,3.0,3.0,3.0,3.0,3.0,3.0,0.0,0.0,1.0,0.0,0.0,0.0,0.0,0.0,0.0,0.0,0.0,0.0,3.0,3.0,3.0,3.0,3.0,3.0,3.0,3.0,0.0,0.0,0.0,0.0,1.0,1.0,0.0,0.0,1.0,0.0,0.0,0.0,0.0,0.0,0.0,0.0,0.0,0.0,0.0,0.0,0.0,0.0,0.0,0.0,0.0,0.0,0.0,0.0,0.0,0.0,0.0,0.0,3.0,3.0,3.0,3.0,3.0,2.0,2.0,0.0,2.0,2.0,2.0,2.0,2.0,2.0,0.0,5.0,5.0,2.0,3.0,3.0,5.0,3.0,5.0,3.0,3.0,3.0,3.0,3.0,3.0,3.0,3.0,3.0,3.0,3.0,3.0,3.0,5.0,3.0,5.0,3.0,5.0,3.0,0.0,0.0,0.0,3.0,3.0,3.0,3.0,3.0,3.0,3.0,3.0,3.0,3.0,3.0,3.0,3.0,3.0,3.0,3.0,5.0,3.0,3.0,3.0,3.0,3.0,3.0,3.0,3.0,3.0,3.0,3.0,3.0,3.0,3.0,3.0,3.0,3.0,3.0,3.0,3.0,3.0,3.0,3.0,3.0,3.0,3.0,3.0,3.0,3.0,3.0,3.0,3.0,3.0,3.0,3.0,3.0,3.0,3.0,3.0,3.0,3.0,3.0,3.0,3.0,3.0,3.0,2.0,2.0,1.0,3.0,3.0,3.0,3.0,3.0,3.0,3.0,3.0,2.0,3.0,3.0,3.0,3.0,5.0,3.0,3.0,3.0,3.0,3.0,3.0,3.0,3.0,0.0,0.0,0.0,3.0,2.0,0.0,2.0,2.0,2.0,0.0,0.0,4.0,0.0,4.0,0.0,4.0,3.0,3.0,3.0,3.0,0.0,3.0,3.0,3.0,0.0,0.0,0.0,3.0,0.0,0.0,0.0,3.0,3.0,0.0,0.0,0.0,0.0,0.0,0.0,5.0,1.0,0.0,0.0,0.0,0.0,0.0,0.0,0.0,0.0,0.0,0.0,0.0,0.0,0.0,0.0,0.0,2.0,5.0,0.0,2.0,2.0,2.0,5.0,0.0,0.0,0.0,0.0,0.0,0.0,0.0,0.0,0.0,0.0,0.0,0.0,0.0,0.0,0.0,0.0,0.0,0.0,0.0,0.0,0.0,0.0,0.0,0.0,0.0,0.0,0.0,2.0,2.0,2.0,2.0,2.0,1.0,2.0,0.0,2.0,2.0,0.0,0.0,0.0,0.0,0.0,0.0,0.0,0.0,0.0,0.0,0.0,0.0,0.0,0.0,0.0,0.0,3.0,3.0,3.0,3.0,3.0,3.0,3.0,3.0,3.0,3.0,3.0,3.0,3.0,3.0,3.0,3.0,3.0,3.0,3.0,3.0,3.0,3.0,3.0,3.0,3.0,3.0,3.0,3.0,3.0,3.0,3.0,3.0,3.0,3.0,3.0,3.0,3.0,3.0,3.0,3.0,3.0,3.0,3.0,3.0,3.0,3.0,3.0,3.0,3.0,3.0,3.0,3.0,3.0,3.0,3.0,3.0,3.0,3.0,3.0,3.0,3.0,3.0,3.0,3.0,3.0,3.0,3.0,3.0,3.0,3.0,3.0,3.0,3.0,3.0,3.0,3.0,3.0,3.0,3.0,3.0,3.0,3.0,3.0,3.0,3.0,3.0,3.0,3.0,3.0,3.0,3.0,3.0,3.0,3.0,3.0,3.0,3.0,3.0,3.0,3.0,3.0,3.0,3.0,3.0,3.0,3.0,3.0,3.0,3.0,3.0,3.0,3.0,3.0,3.0,3.0,3.0,3.0,3.0,3.0,3.0,3.0,3.0,3.0,3.0,3.0,3.0,3.0,3.0,3.0,3.0,3.0,3.0,3.0,3.0,3.0,3.0,3.0,3.0,3.0,3.0,3.0,3.0,3.0,3.0,3.0,3.0,3.0,3.0,3.0,3.0,3.0,3.0,3.0,3.0,3.0,3.0,3.0,3.0,3.0,3.0,3.0,3.0,3.0,3.0,3.0,3.0,3.0,3.0,3.0,3.0,3.0,3.0,3.0,3.0,3.0,3.0,3.0,3.0,3.0,3.0,3.0,3.0,3.0,3.0,3.0,3.0,3.0,3.0,3.0,3.0,3.0,3.0,3.0,3.0,3.0,3.0,3.0,3.0,3.0,3.0,3.0,3.0,3.0,3.0,3.0,3.0,3.0,3.0,3.0,3.0,3.0,3.0,3.0,3.0,3.0,3.0,3.0,3.0,3.0,3.0,3.0,3.0,3.0,3.0,3.0,3.0,3.0,3.0,3.0,3.0,3.0,3.0,3.0,3.0,3.0,3.0,3.0,3.0,3.0,3.0,3.0,3.0,3.0,3.0,3.0,3.0,3.0,3.0,3.0,3.0,3.0,3.0,3.0,3.0,3.0,3.0,3.0,3.0,3.0,3.0,3.0,3.0,3.0,3.0,3.0,3.0,3.0,3.0,3.0,3.0,3.0,3.0,3.0,3.0,3.0,3.0,3.0,3.0,3.0,3.0,3.0,3.0,3.0,3.0,3.0,3.0,3.0,3.0,3.0,3.0,3.0,3.0,3.0,3.0,3.0,3.0,3.0,3.0,3.0,3.0,3.0,3.0,3.0,3.0,3.0,3.0,3.0,3.0,3.0,3.0,3.0,3.0,3.0,3.0,3.0,3.0,3.0,3.0,3.0,3.0,3.0,3.0,3.0,3.0,3.0,3.0,3.0,3.0,3.0,3.0,3.0,3.0,3.0,3.0,3.0,3.0,3.0,3.0,3.0,3.0,3.0,3.0,3.0,3.0,3.0,3.0,3.0,2.0,0.0,0.0,0.0,2.0,0.0,2.0,2.0,0.0,3.0,3.0,3.0,3.0,3.0,3.0,3.0,3.0,3.0,3.0,3.0,3.0,3.0,3.0,3.0,3.0,3.0,3.0,3.0,3.0,3.0,3.0,3.0,3.0,3.0,3.0,3.0,3.0,3.0,3.0,3.0,3.0,3.0,3.0,3.0,3.0,3.0,3.0,3.0,3.0,3.0,3.0,3.0,3.0,3.0,3.0,3.0,3.0,3.0,3.0,3.0,3.0,3.0,3.0,3.0,3.0,3.0,3.0,3.0,3.0,3.0,3.0,3.0,3.0,3.0,3.0,3.0,3.0,3.0,3.0,3.0,3.0,3.0,3.0,3.0,3.0,3.0,3.0,3.0,3.0,3.0,3.0,3.0,3.0,3.0,3.0,3.0,3.0,3.0,3.0,3.0,3.0,3.0,3.0,3.0,3.0,3.0,3.0,3.0,3.0,3.0,3.0,3.0,3.0,3.0,3.0,3.0,3.0,3.0,3.0,3.0,3.0,3.0,3.0,3.0,3.0,3.0,3.0,3.0,3.0,3.0,3.0,3.0,3.0,3.0,3.0,3.0,3.0,3.0,3.0,3.0,3.0,3.0,3.0,3.0,3.0,3.0,3.0,3.0,3.0,3.0,3.0,3.0,3.0,3.0,3.0,2.0,2.0,2.0,0.0,2.0,0.0,0.0,0.0,2.0,3.0,3.0,3.0,3.0,3.0,3.0,3.0,3.0,3.0,3.0,2.0,2.0,0.0,0.0,4.0,0.0,0.0,0.0,0.0,0.0,0.0,0.0,0.0,0.0,0.0,0.0,1.0,0.0,0.0,0.0,0.0,0.0,2.0,0.0,1.0,0.0,0.0,5.0,0.0,0.0,0.0,2.0,1.0,2.0,0.0,2.0,0.0,0.0,2.0,5.0,2.0,0.0,0.0,0.0,0.0,0.0,2.0,0.0,0.0,2.0,2.0,2.0,0.0,0.0,0.0,0.0,3.0,3.0,3.0,3.0,3.0,3.0,3.0,3.0,3.0,3.0,3.0,3.0,3.0,3.0,3.0,3.0,3.0,3.0,3.0,3.0,3.0,3.0,3.0,3.0,3.0,3.0,3.0,3.0,3.0,3.0,3.0,3.0,3.0,55.5,48.0,50.0,40.0,59.86,56.0,89.0,39.0,59.0,95.0,110.00000000000001,16.83,33.0,20.0,166.0,72.0,56.0,166.0,570.0,98.7,28.18,46.46,25.61,102.0,41.95,58.8,26.5,74.0,57.0,56.4,32.94,50.6,75.0,44.13,65.0,48.0,22.5,24.7,53.5,50.0,103.0,34.0,125.0,33.33,43.92,17.0,105.0,9.6,28.0,13.5,59.99,22.0,25.61,41.5,42.09,69.0,28.0,35.3,27.0,39.0,36.0,23.64,24.0,76.5,75.0,59.99,59.99,42.0,27.0,25.75,60.0,26.5,57.0,10.4,75.0,30.0,63.0,48.0,77.15,76.58,30.19,85.0,85.0,71.75,35.3,28.0,160.0,33.0,36.45,44.99,5.49,5.4,13.5,42.0,140.0,19.99,140.0,161.0,60.0,4.32,164.0,184.0,166.0,166.0,166.0,166.0,178.0,178.0,178.0,178.0,178.0,178.0,170.0,170.0,164.0,164.0,164.0,184.0,184.0,184.0,184.0,184.0,166.0,29.09,31.16,32.34,420.0,42.09,420.0,31.51,30.36,30.36,30.19,29.09,30.19,27.27,29.09,29.09,20.25,56.4,68.04,125.0,45.55,45.55,98.7,75.0,59.4,71.25,54.13,99.75,56.4,22.87,33.66,34.0,30.0,31.11,34.68,38.76,36.72,108.0,190.0,132.0,100.0,130.0,130.0,115.99999999999999,76.01,210.0,80.0,80.01,147.0,167.0,126.0,167.0,139.0,124.0,164.0,136.0,135.0,137.0,149.0,188.0,61.25,89.13,62.72,150.0,100.0,100.0,98.0,78.0,114.99999999999999,5.4,35.3,1.95,62.1,3.58,35.0,54.99,35.95,49.99,45.0,44.99,43.0,49.99,49.99,46.85,160.0,105.0,26.0,4.2,4.2,9.0,4.32,5.4,5.58,4.2,4.95,6.6,4.5,3.5,4.2,4.2,4.2,4.2,4.2,4.5,5.4,5.4,36.45,48.75,51.45,5.4,5.4,5.4,4.2,5.4,5.4,5.4,5.4,5.4,5.4,5.4,3.5,5.4,4.5,4.5,5.5,9.0,5.4,5.4,5.4,5.4,5.4,5.4,5.4,5.4,5.4,4.2,5.4,4.2,3.5,5.4,5.4,5.4,5.4,5.4,5.4,4.95,5.4,4.95,4.95,5.4,5.4,5.4,4.8,4.2,7.0,7.0,9.6,8.0,9.6,4.2,4.95,27.44,383.0,5.99,3.5,9.99,225.99999999999997,5.99,16.0,3.6,19.2,42.0,59.99,35.0,4.5,18.22,5.0,7.5,9.99,16.5,16.5,19.99,44.99,4.99,18.0,18.0,5.5,140.0,53.3,22.5,24.99,16.29,22.99,14.99,23.0,9.99,91.43,26.5,124.0,62.0,38.48,45.4,25.0,38.73,52.9,75.6,45.0,38.79,43.2,70.0,13.99,25.2,56.25,90.0,148.0,15.99,2.69,49.0,61.98,52.0,16.5,45.99,42.0,34.5,90.0,54.39,40.0,66.0,49.0,35.0,63.0,63.0,54.0,57.0,46.0,46.0,46.0,46.0,46.0,46.0,46.0,46.0,46.0,46.0,46.0,46.0,46.0,37.0,37.0,35.0,105.0,47.0,57.5,40.0,43.0,105.0,140.0,57.0,46.0,46.0,46.0,46.0,46.0,46.0,46.0,46.0,46.0,46.0,46.0,46.0,46.0,35.0,35.0,63.0,63.0,63.0,35.0,37.0,63.0,63.0,63.0,35.0,66.67,52.0,52.0,52.0,52.0,52.0,52.0,52.0,66.67,52.0,52.0,63.0,63.0,63.0,70.0,56.0,37.0,63.0,63.0,63.0,35.0,37.0,63.0,35.0,62.0,31.34,34.91,2.1,30.2,24.0,24.0,18.0,18.0,18.0,18.0,12.0,12.0,12.0,15.4,31.0,18.97,3.9,35.35,38.15,31.35,30.1,32.02,30.06,29.34,30.19,31.14,30.96,30.24,30.24,34.2,33.84,33.66,32.94,31.32,34.56,34.38,250.99999999999997,35.64,28.38,35.64,32.34,28.54,32.43,30.19,33.33,22.75,33.33,28.54,20.09,40.4,27.55,22.92,26.38,30.85,2.5,54.36,53.28,33.3,44.88,32.52,26.51,108.0,163.0,33.0,35.52,30.72,59.4,35.33,50.37,383.0,50.37,463.99999999999994,35.4,31.2,25.32,33.85,24.0,58.92,44.52,42.84,42.24,42.0,40.32,28.8,18.6,35.16,33.36,24.96,22.68,36.6,32.94,31.32,31.14,30.96,29.34,29.16,244.0,36.36,22.32,35.1,34.92,31.14,34.38,34.2,33.84,50.13,37.18,33.3,36.44,34.41,40.14,82.14,37.18,36.44,56.79,51.8,37.18,49.95,42.92,65.12,64.75,37.18,62.16,50.87,47.36,91.57,81.03,71.59,69.19,50.13,40.88,167.0,250.99999999999997,83.8,82.14,56.79,51.8,49.95,83.8,17.82,44.03,83.8,40.14,82.14,42.92,31.32,56.79,30.96,51.8,29.34,29.34,30.24,31.14,32.04,32.94,83.8,33.84,82.14,56.79,51.8,50.4,48.1,49.95,90.83,40.14,66.04,36.36,36.36,37.44,37.44,44.58,51.2,56.2,30.19,35.8,30.06,34.92,26.4,30.19,170.0,20.04,21.36,22.32,15.96,17.04,16.08,18.05,18.0,32.4,23.64,108.0,15.96,163.0,28.54,32.94,31.48,29.09,33.33,28.62,19.2,48.1,44.03,34.56,81.03,66.04,42.84,46.88,34.92,27.9,87.6,71.4,163.0,33.85,32.43,36.3,20.25,19.2,27.12,28.8,22.44,18.6,41.07,39.06,50.4,41.76,38.48,32.0,32.93,30.71,31.08,32.19,30.15,36.0,52.74,44.03,38.88,31.82,30.71,37.26,35.89,37.18,87.6,23.64,71.4,33.85,30.15,32.94,35.89,35.89,42.4,37.37,34.8,35.89,42.92,36.36,35.89,33.85,44.95,44.95,38.29,34.92,37.37,33.85,33.48,38.88,51.43,37.98,31.51,39.22,32.94,56.42,37.18,25.75,30.19,61.0,16.33,20.47,21.36,16.33,21.36,16.33,16.33,16.21,16.08,29.28,49.02,32.19,33.85,37.0,36.26,45.0,32.0,25.0,9.75,27.49,17.25,11.5,11.5,11.5,40.25,40.25,40.25,40.25,34.5,34.5,28.75,28.75,28.75,28.75,23.0,23.0,23.0,21.04,23.0,21.04,21.04,21.04,17.25,17.25,17.25,17.25,11.5,11.5,11.5,11.5,23.0,21.04,17.25,11.5,23.0,21.04,17.25,11.5,10.0,28.75,34.5,23.0,21.04,17.25,11.5,40.25,34.5,28.75,23.0,21.04,17.25,5.99,5.38,5.25,59.99,55.0,64.0,37.4,119.0,38.0,39.0,32.0,36.0,35.35,31.51,27.9,37.8,29.16,29.16,28.8,50.7,54.0,25.92,26.28,26.88,27.12,26.22,26.22,25.08,25.2,53.28,36.84,33.6,44.03,27.55,28.54,36.84,25.8,33.6,48.6,50.37,43.4,46.4,26.07,47.19,44.88,31.16,32.52,23.85,26.52,40.4,108.0,24.72,163.0,24.84,54.36,30.59,63.6,32.04,39.24,31.16,30.72,23.85,43.56,36.13,27.84,33.7,59.4,26.22,27.96,28.56,28.92,29.16,29.76,31.8,26.88,27.12,60.48,19.44,17.4,19.2,18.0,17.04,35.6,15.52,18.05,31.14,30.96,30.24,30.06,29.34,29.16,28.8,27.9,48.1,39.22,63.0,34.2,27.9,29.16,42.92,40.14,44.03,37.8,33.85,42.84,16.1,15.98,19.44,30.89,17.04,33.85,44.03,2.79,87.6,58.86,64.44,32.94,40.33,44.58,47.7,27.84,26.04,24.12,23.64,20.76,32.0,305.0,32.04,35.64,39.24,32.94,71.4,32.04,42.84,28.56,28.92,30.06,39.03,29.16,29.76,35.89,35.89,37.18,51.8,71.59,35.89,31.51,17.04,16.33,19.56,16.33,8.21,8.1,20.87,29.0,54.0,6.0,27.3,60.0,79.5,55.0,36.45,55.0,48.75,51.45,48.75,75.0,16.5,26.0,18.75,5.0,8.88,4.0,40.2,19.98,2.99,17.5,44.99,33.0,69.0,45.0,61.36,28.0,29.0,37.0,100.0,55.0,40.0,60.0,43.85,50.0,35.0,60.5,45.0,45.0,45.0,45.0,29.0,420.0,69.5,55.0,35.0,48.0,400.0,29.0,52.0,32.0,39.0,60.5,14.0,45.0,45.0,45.57,90.0,57.5,210.0,53.0,66.0,33.0,84.0,62.0,43.67,37.0,35.0,38.5,160.0,47.0,75.0,72.0,30.0,95.0,89.9,8.87,3.49,459.0,82.3,45.0,34.0,15.0,84.0,270.0,173.0,257.0,340.0,300.0,134.0,65.0,33.0,60.0,170.0,140.0,76.0,505.99999999999994,35.0,250.0,72.0,100.0,45.26,165.0,30.72,8.0,14.0,85.0,25.0,24.0,65.0,4.0,15.0,30.93,40.0,19.2,10.0,120.0,85.8,85.8,85.8,85.8,19.95],\"y0\":\" \",\"yaxis\":\"y\",\"type\":\"box\"}],                        {\"template\":{\"data\":{\"histogram2dcontour\":[{\"type\":\"histogram2dcontour\",\"colorbar\":{\"outlinewidth\":0,\"ticks\":\"\"},\"colorscale\":[[0.0,\"#0d0887\"],[0.1111111111111111,\"#46039f\"],[0.2222222222222222,\"#7201a8\"],[0.3333333333333333,\"#9c179e\"],[0.4444444444444444,\"#bd3786\"],[0.5555555555555556,\"#d8576b\"],[0.6666666666666666,\"#ed7953\"],[0.7777777777777778,\"#fb9f3a\"],[0.8888888888888888,\"#fdca26\"],[1.0,\"#f0f921\"]]}],\"choropleth\":[{\"type\":\"choropleth\",\"colorbar\":{\"outlinewidth\":0,\"ticks\":\"\"}}],\"histogram2d\":[{\"type\":\"histogram2d\",\"colorbar\":{\"outlinewidth\":0,\"ticks\":\"\"},\"colorscale\":[[0.0,\"#0d0887\"],[0.1111111111111111,\"#46039f\"],[0.2222222222222222,\"#7201a8\"],[0.3333333333333333,\"#9c179e\"],[0.4444444444444444,\"#bd3786\"],[0.5555555555555556,\"#d8576b\"],[0.6666666666666666,\"#ed7953\"],[0.7777777777777778,\"#fb9f3a\"],[0.8888888888888888,\"#fdca26\"],[1.0,\"#f0f921\"]]}],\"heatmap\":[{\"type\":\"heatmap\",\"colorbar\":{\"outlinewidth\":0,\"ticks\":\"\"},\"colorscale\":[[0.0,\"#0d0887\"],[0.1111111111111111,\"#46039f\"],[0.2222222222222222,\"#7201a8\"],[0.3333333333333333,\"#9c179e\"],[0.4444444444444444,\"#bd3786\"],[0.5555555555555556,\"#d8576b\"],[0.6666666666666666,\"#ed7953\"],[0.7777777777777778,\"#fb9f3a\"],[0.8888888888888888,\"#fdca26\"],[1.0,\"#f0f921\"]]}],\"heatmapgl\":[{\"type\":\"heatmapgl\",\"colorbar\":{\"outlinewidth\":0,\"ticks\":\"\"},\"colorscale\":[[0.0,\"#0d0887\"],[0.1111111111111111,\"#46039f\"],[0.2222222222222222,\"#7201a8\"],[0.3333333333333333,\"#9c179e\"],[0.4444444444444444,\"#bd3786\"],[0.5555555555555556,\"#d8576b\"],[0.6666666666666666,\"#ed7953\"],[0.7777777777777778,\"#fb9f3a\"],[0.8888888888888888,\"#fdca26\"],[1.0,\"#f0f921\"]]}],\"contourcarpet\":[{\"type\":\"contourcarpet\",\"colorbar\":{\"outlinewidth\":0,\"ticks\":\"\"}}],\"contour\":[{\"type\":\"contour\",\"colorbar\":{\"outlinewidth\":0,\"ticks\":\"\"},\"colorscale\":[[0.0,\"#0d0887\"],[0.1111111111111111,\"#46039f\"],[0.2222222222222222,\"#7201a8\"],[0.3333333333333333,\"#9c179e\"],[0.4444444444444444,\"#bd3786\"],[0.5555555555555556,\"#d8576b\"],[0.6666666666666666,\"#ed7953\"],[0.7777777777777778,\"#fb9f3a\"],[0.8888888888888888,\"#fdca26\"],[1.0,\"#f0f921\"]]}],\"surface\":[{\"type\":\"surface\",\"colorbar\":{\"outlinewidth\":0,\"ticks\":\"\"},\"colorscale\":[[0.0,\"#0d0887\"],[0.1111111111111111,\"#46039f\"],[0.2222222222222222,\"#7201a8\"],[0.3333333333333333,\"#9c179e\"],[0.4444444444444444,\"#bd3786\"],[0.5555555555555556,\"#d8576b\"],[0.6666666666666666,\"#ed7953\"],[0.7777777777777778,\"#fb9f3a\"],[0.8888888888888888,\"#fdca26\"],[1.0,\"#f0f921\"]]}],\"mesh3d\":[{\"type\":\"mesh3d\",\"colorbar\":{\"outlinewidth\":0,\"ticks\":\"\"}}],\"scatter\":[{\"fillpattern\":{\"fillmode\":\"overlay\",\"size\":10,\"solidity\":0.2},\"type\":\"scatter\"}],\"parcoords\":[{\"type\":\"parcoords\",\"line\":{\"colorbar\":{\"outlinewidth\":0,\"ticks\":\"\"}}}],\"scatterpolargl\":[{\"type\":\"scatterpolargl\",\"marker\":{\"colorbar\":{\"outlinewidth\":0,\"ticks\":\"\"}}}],\"bar\":[{\"error_x\":{\"color\":\"#2a3f5f\"},\"error_y\":{\"color\":\"#2a3f5f\"},\"marker\":{\"line\":{\"color\":\"#E5ECF6\",\"width\":0.5},\"pattern\":{\"fillmode\":\"overlay\",\"size\":10,\"solidity\":0.2}},\"type\":\"bar\"}],\"scattergeo\":[{\"type\":\"scattergeo\",\"marker\":{\"colorbar\":{\"outlinewidth\":0,\"ticks\":\"\"}}}],\"scatterpolar\":[{\"type\":\"scatterpolar\",\"marker\":{\"colorbar\":{\"outlinewidth\":0,\"ticks\":\"\"}}}],\"histogram\":[{\"marker\":{\"pattern\":{\"fillmode\":\"overlay\",\"size\":10,\"solidity\":0.2}},\"type\":\"histogram\"}],\"scattergl\":[{\"type\":\"scattergl\",\"marker\":{\"colorbar\":{\"outlinewidth\":0,\"ticks\":\"\"}}}],\"scatter3d\":[{\"type\":\"scatter3d\",\"line\":{\"colorbar\":{\"outlinewidth\":0,\"ticks\":\"\"}},\"marker\":{\"colorbar\":{\"outlinewidth\":0,\"ticks\":\"\"}}}],\"scattermapbox\":[{\"type\":\"scattermapbox\",\"marker\":{\"colorbar\":{\"outlinewidth\":0,\"ticks\":\"\"}}}],\"scatterternary\":[{\"type\":\"scatterternary\",\"marker\":{\"colorbar\":{\"outlinewidth\":0,\"ticks\":\"\"}}}],\"scattercarpet\":[{\"type\":\"scattercarpet\",\"marker\":{\"colorbar\":{\"outlinewidth\":0,\"ticks\":\"\"}}}],\"carpet\":[{\"aaxis\":{\"endlinecolor\":\"#2a3f5f\",\"gridcolor\":\"white\",\"linecolor\":\"white\",\"minorgridcolor\":\"white\",\"startlinecolor\":\"#2a3f5f\"},\"baxis\":{\"endlinecolor\":\"#2a3f5f\",\"gridcolor\":\"white\",\"linecolor\":\"white\",\"minorgridcolor\":\"white\",\"startlinecolor\":\"#2a3f5f\"},\"type\":\"carpet\"}],\"table\":[{\"cells\":{\"fill\":{\"color\":\"#EBF0F8\"},\"line\":{\"color\":\"white\"}},\"header\":{\"fill\":{\"color\":\"#C8D4E3\"},\"line\":{\"color\":\"white\"}},\"type\":\"table\"}],\"barpolar\":[{\"marker\":{\"line\":{\"color\":\"#E5ECF6\",\"width\":0.5},\"pattern\":{\"fillmode\":\"overlay\",\"size\":10,\"solidity\":0.2}},\"type\":\"barpolar\"}],\"pie\":[{\"automargin\":true,\"type\":\"pie\"}]},\"layout\":{\"autotypenumbers\":\"strict\",\"colorway\":[\"#636efa\",\"#EF553B\",\"#00cc96\",\"#ab63fa\",\"#FFA15A\",\"#19d3f3\",\"#FF6692\",\"#B6E880\",\"#FF97FF\",\"#FECB52\"],\"font\":{\"color\":\"#2a3f5f\"},\"hovermode\":\"closest\",\"hoverlabel\":{\"align\":\"left\"},\"paper_bgcolor\":\"white\",\"plot_bgcolor\":\"#E5ECF6\",\"polar\":{\"bgcolor\":\"#E5ECF6\",\"angularaxis\":{\"gridcolor\":\"white\",\"linecolor\":\"white\",\"ticks\":\"\"},\"radialaxis\":{\"gridcolor\":\"white\",\"linecolor\":\"white\",\"ticks\":\"\"}},\"ternary\":{\"bgcolor\":\"#E5ECF6\",\"aaxis\":{\"gridcolor\":\"white\",\"linecolor\":\"white\",\"ticks\":\"\"},\"baxis\":{\"gridcolor\":\"white\",\"linecolor\":\"white\",\"ticks\":\"\"},\"caxis\":{\"gridcolor\":\"white\",\"linecolor\":\"white\",\"ticks\":\"\"}},\"coloraxis\":{\"colorbar\":{\"outlinewidth\":0,\"ticks\":\"\"}},\"colorscale\":{\"sequential\":[[0.0,\"#0d0887\"],[0.1111111111111111,\"#46039f\"],[0.2222222222222222,\"#7201a8\"],[0.3333333333333333,\"#9c179e\"],[0.4444444444444444,\"#bd3786\"],[0.5555555555555556,\"#d8576b\"],[0.6666666666666666,\"#ed7953\"],[0.7777777777777778,\"#fb9f3a\"],[0.8888888888888888,\"#fdca26\"],[1.0,\"#f0f921\"]],\"sequentialminus\":[[0.0,\"#0d0887\"],[0.1111111111111111,\"#46039f\"],[0.2222222222222222,\"#7201a8\"],[0.3333333333333333,\"#9c179e\"],[0.4444444444444444,\"#bd3786\"],[0.5555555555555556,\"#d8576b\"],[0.6666666666666666,\"#ed7953\"],[0.7777777777777778,\"#fb9f3a\"],[0.8888888888888888,\"#fdca26\"],[1.0,\"#f0f921\"]],\"diverging\":[[0,\"#8e0152\"],[0.1,\"#c51b7d\"],[0.2,\"#de77ae\"],[0.3,\"#f1b6da\"],[0.4,\"#fde0ef\"],[0.5,\"#f7f7f7\"],[0.6,\"#e6f5d0\"],[0.7,\"#b8e186\"],[0.8,\"#7fbc41\"],[0.9,\"#4d9221\"],[1,\"#276419\"]]},\"xaxis\":{\"gridcolor\":\"white\",\"linecolor\":\"white\",\"ticks\":\"\",\"title\":{\"standoff\":15},\"zerolinecolor\":\"white\",\"automargin\":true,\"zerolinewidth\":2},\"yaxis\":{\"gridcolor\":\"white\",\"linecolor\":\"white\",\"ticks\":\"\",\"title\":{\"standoff\":15},\"zerolinecolor\":\"white\",\"automargin\":true,\"zerolinewidth\":2},\"scene\":{\"xaxis\":{\"backgroundcolor\":\"#E5ECF6\",\"gridcolor\":\"white\",\"linecolor\":\"white\",\"showbackground\":true,\"ticks\":\"\",\"zerolinecolor\":\"white\",\"gridwidth\":2},\"yaxis\":{\"backgroundcolor\":\"#E5ECF6\",\"gridcolor\":\"white\",\"linecolor\":\"white\",\"showbackground\":true,\"ticks\":\"\",\"zerolinecolor\":\"white\",\"gridwidth\":2},\"zaxis\":{\"backgroundcolor\":\"#E5ECF6\",\"gridcolor\":\"white\",\"linecolor\":\"white\",\"showbackground\":true,\"ticks\":\"\",\"zerolinecolor\":\"white\",\"gridwidth\":2}},\"shapedefaults\":{\"line\":{\"color\":\"#2a3f5f\"}},\"annotationdefaults\":{\"arrowcolor\":\"#2a3f5f\",\"arrowhead\":0,\"arrowwidth\":1},\"geo\":{\"bgcolor\":\"white\",\"landcolor\":\"#E5ECF6\",\"subunitcolor\":\"white\",\"showland\":true,\"showlakes\":true,\"lakecolor\":\"white\"},\"title\":{\"x\":0.05},\"mapbox\":{\"style\":\"light\"}}},\"xaxis\":{\"anchor\":\"y\",\"domain\":[0.0,1.0],\"title\":{\"text\":\"variable\"}},\"yaxis\":{\"anchor\":\"x\",\"domain\":[0.0,1.0],\"title\":{\"text\":\"value\"}},\"legend\":{\"tracegroupgap\":0},\"margin\":{\"t\":60},\"boxmode\":\"group\"},                        {\"responsive\": true}                    ).then(function(){\n",
              "                            \n",
              "var gd = document.getElementById('3b69819e-2eed-45d2-bedf-7b78ae29759c');\n",
              "var x = new MutationObserver(function (mutations, observer) {{\n",
              "        var display = window.getComputedStyle(gd).display;\n",
              "        if (!display || display === 'none') {{\n",
              "            console.log([gd, 'removed!']);\n",
              "            Plotly.purge(gd);\n",
              "            observer.disconnect();\n",
              "        }}\n",
              "}});\n",
              "\n",
              "// Listen for the removal of the full notebook cells\n",
              "var notebookContainer = gd.closest('#notebook-container');\n",
              "if (notebookContainer) {{\n",
              "    x.observe(notebookContainer, {childList: true});\n",
              "}}\n",
              "\n",
              "// Listen for the clearing of the current output cell\n",
              "var outputEl = gd.closest('.output');\n",
              "if (outputEl) {{\n",
              "    x.observe(outputEl, {childList: true});\n",
              "}}\n",
              "\n",
              "                        })                };                            </script>        </div>\n",
              "</body>\n",
              "</html>"
            ]
          },
          "metadata": {}
        }
      ],
      "source": [
        "#Boxplot\n",
        "px.box(df)"
      ]
    },
    {
      "cell_type": "code",
      "execution_count": null,
      "id": "a8890512-baec-4361-935a-7ca7482cf1a2",
      "metadata": {
        "colab": {
          "base_uri": "https://localhost:8080/",
          "height": 203
        },
        "id": "a8890512-baec-4361-935a-7ca7482cf1a2",
        "outputId": "55f7e04c-6793-4662-93f7-2f2faecab200"
      },
      "outputs": [
        {
          "output_type": "execute_result",
          "data": {
            "text/plain": [
              "pandas.core.frame.DataFrame"
            ],
            "text/html": [
              "<div style=\"max-width:800px; border: 1px solid var(--colab-border-color);\"><style>\n",
              "      pre.function-repr-contents {\n",
              "        overflow-x: auto;\n",
              "        padding: 8px 12px;\n",
              "        max-height: 500px;\n",
              "      }\n",
              "\n",
              "      pre.function-repr-contents.function-repr-contents-collapsed {\n",
              "        cursor: pointer;\n",
              "        max-height: 100px;\n",
              "      }\n",
              "    </style>\n",
              "    <pre style=\"white-space: initial; background:\n",
              "         var(--colab-secondary-surface-color); padding: 8px 12px;\n",
              "         border-bottom: 1px solid var(--colab-border-color);\"><b>pandas.core.frame.DataFrame</b><br/>def __init__(data=None, index: Axes | None=None, columns: Axes | None=None, dtype: Dtype | None=None, copy: bool | None=None) -&gt; None</pre><pre class=\"function-repr-contents function-repr-contents-collapsed\" style=\"\"><a class=\"filepath\" style=\"display:none\" href=\"#\">/usr/local/lib/python3.10/dist-packages/pandas/core/frame.py</a>Two-dimensional, size-mutable, potentially heterogeneous tabular data.\n",
              "\n",
              "Data structure also contains labeled axes (rows and columns).\n",
              "Arithmetic operations align on both row and column labels. Can be\n",
              "thought of as a dict-like container for Series objects. The primary\n",
              "pandas data structure.\n",
              "\n",
              "Parameters\n",
              "----------\n",
              "data : ndarray (structured or homogeneous), Iterable, dict, or DataFrame\n",
              "    Dict can contain Series, arrays, constants, dataclass or list-like objects. If\n",
              "    data is a dict, column order follows insertion-order. If a dict contains Series\n",
              "    which have an index defined, it is aligned by its index.\n",
              "\n",
              "    .. versionchanged:: 0.25.0\n",
              "       If data is a list of dicts, column order follows insertion-order.\n",
              "\n",
              "index : Index or array-like\n",
              "    Index to use for resulting frame. Will default to RangeIndex if\n",
              "    no indexing information part of input data and no index provided.\n",
              "columns : Index or array-like\n",
              "    Column labels to use for resulting frame when data does not have them,\n",
              "    defaulting to RangeIndex(0, 1, 2, ..., n). If data contains column labels,\n",
              "    will perform column selection instead.\n",
              "dtype : dtype, default None\n",
              "    Data type to force. Only a single dtype is allowed. If None, infer.\n",
              "copy : bool or None, default None\n",
              "    Copy data from inputs.\n",
              "    For dict data, the default of None behaves like ``copy=True``.  For DataFrame\n",
              "    or 2d ndarray input, the default of None behaves like ``copy=False``.\n",
              "    If data is a dict containing one or more Series (possibly of different dtypes),\n",
              "    ``copy=False`` will ensure that these inputs are not copied.\n",
              "\n",
              "    .. versionchanged:: 1.3.0\n",
              "\n",
              "See Also\n",
              "--------\n",
              "DataFrame.from_records : Constructor from tuples, also record arrays.\n",
              "DataFrame.from_dict : From dicts of Series, arrays, or dicts.\n",
              "read_csv : Read a comma-separated values (csv) file into DataFrame.\n",
              "read_table : Read general delimited file into DataFrame.\n",
              "read_clipboard : Read text from clipboard into DataFrame.\n",
              "\n",
              "Notes\n",
              "-----\n",
              "Please reference the :ref:`User Guide &lt;basics.dataframe&gt;` for more information.\n",
              "\n",
              "Examples\n",
              "--------\n",
              "Constructing DataFrame from a dictionary.\n",
              "\n",
              "&gt;&gt;&gt; d = {&#x27;col1&#x27;: [1, 2], &#x27;col2&#x27;: [3, 4]}\n",
              "&gt;&gt;&gt; df = pd.DataFrame(data=d)\n",
              "&gt;&gt;&gt; df\n",
              "   col1  col2\n",
              "0     1     3\n",
              "1     2     4\n",
              "\n",
              "Notice that the inferred dtype is int64.\n",
              "\n",
              "&gt;&gt;&gt; df.dtypes\n",
              "col1    int64\n",
              "col2    int64\n",
              "dtype: object\n",
              "\n",
              "To enforce a single dtype:\n",
              "\n",
              "&gt;&gt;&gt; df = pd.DataFrame(data=d, dtype=np.int8)\n",
              "&gt;&gt;&gt; df.dtypes\n",
              "col1    int8\n",
              "col2    int8\n",
              "dtype: object\n",
              "\n",
              "Constructing DataFrame from a dictionary including Series:\n",
              "\n",
              "&gt;&gt;&gt; d = {&#x27;col1&#x27;: [0, 1, 2, 3], &#x27;col2&#x27;: pd.Series([2, 3], index=[2, 3])}\n",
              "&gt;&gt;&gt; pd.DataFrame(data=d, index=[0, 1, 2, 3])\n",
              "   col1  col2\n",
              "0     0   NaN\n",
              "1     1   NaN\n",
              "2     2   2.0\n",
              "3     3   3.0\n",
              "\n",
              "Constructing DataFrame from numpy ndarray:\n",
              "\n",
              "&gt;&gt;&gt; df2 = pd.DataFrame(np.array([[1, 2, 3], [4, 5, 6], [7, 8, 9]]),\n",
              "...                    columns=[&#x27;a&#x27;, &#x27;b&#x27;, &#x27;c&#x27;])\n",
              "&gt;&gt;&gt; df2\n",
              "   a  b  c\n",
              "0  1  2  3\n",
              "1  4  5  6\n",
              "2  7  8  9\n",
              "\n",
              "Constructing DataFrame from a numpy ndarray that has labeled columns:\n",
              "\n",
              "&gt;&gt;&gt; data = np.array([(1, 2, 3), (4, 5, 6), (7, 8, 9)],\n",
              "...                 dtype=[(&quot;a&quot;, &quot;i4&quot;), (&quot;b&quot;, &quot;i4&quot;), (&quot;c&quot;, &quot;i4&quot;)])\n",
              "&gt;&gt;&gt; df3 = pd.DataFrame(data, columns=[&#x27;c&#x27;, &#x27;a&#x27;])\n",
              "...\n",
              "&gt;&gt;&gt; df3\n",
              "   c  a\n",
              "0  3  1\n",
              "1  6  4\n",
              "2  9  7\n",
              "\n",
              "Constructing DataFrame from dataclass:\n",
              "\n",
              "&gt;&gt;&gt; from dataclasses import make_dataclass\n",
              "&gt;&gt;&gt; Point = make_dataclass(&quot;Point&quot;, [(&quot;x&quot;, int), (&quot;y&quot;, int)])\n",
              "&gt;&gt;&gt; pd.DataFrame([Point(0, 0), Point(0, 3), Point(2, 3)])\n",
              "   x  y\n",
              "0  0  0\n",
              "1  0  3\n",
              "2  2  3</pre>\n",
              "      <script>\n",
              "      if (google.colab.kernel.accessAllowed && google.colab.files && google.colab.files.view) {\n",
              "        for (const element of document.querySelectorAll('.filepath')) {\n",
              "          element.style.display = 'block'\n",
              "          element.onclick = (event) => {\n",
              "            event.preventDefault();\n",
              "            event.stopPropagation();\n",
              "            google.colab.files.view(element.textContent, 475);\n",
              "          };\n",
              "        }\n",
              "      }\n",
              "      for (const element of document.querySelectorAll('.function-repr-contents')) {\n",
              "        element.onclick = (event) => {\n",
              "          event.preventDefault();\n",
              "          event.stopPropagation();\n",
              "          element.classList.toggle('function-repr-contents-collapsed');\n",
              "        };\n",
              "      }\n",
              "      </script>\n",
              "      </div>"
            ]
          },
          "metadata": {},
          "execution_count": 34
        }
      ],
      "source": [
        "type(df)"
      ]
    },
    {
      "cell_type": "code",
      "execution_count": null,
      "id": "6b2f3376-a134-4bba-988d-3451a25301f3",
      "metadata": {
        "id": "6b2f3376-a134-4bba-988d-3451a25301f3"
      },
      "outputs": [],
      "source": [
        "#Now we will perform Outlier Detection based on the theoretical knowledge we have gained\n",
        "def remove_outliers(data,threshold = 3):\n",
        "    \"\"\"Function to remove outliers in our dataframe\"\"\"\n",
        "    df_cleaned = data.copy()  #weare creating of our dataframe\n",
        "    #threshold value determines how far our value lies from first and third quartiles\n",
        "    for col in df_cleaned.select_dtypes(include = ['int64','float64']).columns:\n",
        "        #we will first calculate Q1 and Q3 values then IQR\n",
        "        Q1 = df_cleaned[col].quantile(0.25) #25th percentile\n",
        "        Q3 = df_cleaned[col].quantile(0.75) #75th percentile\n",
        "        IQR = Q3-Q1 #calculating IQR\n",
        "        #now we will lower and upper bounds\n",
        "        lower_bound = Q1 - threshold*IQR\n",
        "        upper_bound = Q3 + threshold*IQR\n",
        "        #Filter the DataFrame to keep only the rows where the\n",
        "        #column values are within the calculated bounds,\n",
        "        #effectively removing outliers\n",
        "        df_cleaned = df_cleaned[\n",
        "            (df_cleaned[col] >= lower_bound) & (df_cleaned[col] <= upper_bound)]\n",
        "    return df_cleaned"
      ]
    },
    {
      "cell_type": "code",
      "execution_count": null,
      "id": "67f23829-c2bc-43be-a32e-419a3fb19a7c",
      "metadata": {
        "colab": {
          "base_uri": "https://localhost:8080/"
        },
        "id": "67f23829-c2bc-43be-a32e-419a3fb19a7c",
        "outputId": "f82371a6-1c7c-46f8-c5ad-387c82a58df6"
      },
      "outputs": [
        {
          "output_type": "stream",
          "name": "stdout",
          "text": [
            "<class 'pandas.core.frame.DataFrame'>\n",
            "Int64Index: 923 entries, 0 to 1052\n",
            "Data columns (total 8 columns):\n",
            " #   Column     Non-Null Count  Dtype  \n",
            "---  ------     --------------  -----  \n",
            " 0   Place      923 non-null    int64  \n",
            " 1   Area       923 non-null    int64  \n",
            " 2   Status     923 non-null    int64  \n",
            " 3   Rooms      923 non-null    int64  \n",
            " 4   Bathrooms  923 non-null    int64  \n",
            " 5   Facing     923 non-null    int64  \n",
            " 6   P_Type     923 non-null    int64  \n",
            " 7   Price      923 non-null    float64\n",
            "dtypes: float64(1), int64(7)\n",
            "memory usage: 64.9 KB\n"
          ]
        }
      ],
      "source": [
        "#now we will pass dataframe as input to the outliers function (removal of outliers)\n",
        "new_df = remove_outliers(df)\n",
        "new_df\n",
        "new_df.info()"
      ]
    },
    {
      "cell_type": "code",
      "execution_count": null,
      "id": "ec19ee01-68d6-4285-9b66-e1cca72528da",
      "metadata": {
        "id": "ec19ee01-68d6-4285-9b66-e1cca72528da"
      },
      "outputs": [],
      "source": [
        "#Now once Outliers are removed we can go for Modelling first we will apply\n",
        "#Regression (Linear Regression) and build an end to end Model(Streamlit)"
      ]
    },
    {
      "cell_type": "code",
      "execution_count": null,
      "id": "77cf5fe4-4a1a-470c-9021-01abc53c1964",
      "metadata": {
        "id": "77cf5fe4-4a1a-470c-9021-01abc53c1964"
      },
      "outputs": [],
      "source": [
        "from sklearn.model_selection import train_test_split\n",
        "from sklearn.linear_model import LinearRegression"
      ]
    },
    {
      "cell_type": "code",
      "execution_count": null,
      "id": "449af83d-ae91-4f06-a1ce-b10aa43e1b5f",
      "metadata": {
        "colab": {
          "base_uri": "https://localhost:8080/"
        },
        "id": "449af83d-ae91-4f06-a1ce-b10aa43e1b5f",
        "outputId": "61d9e995-4cb7-4e64-e12e-f249e5ae1f68"
      },
      "outputs": [
        {
          "output_type": "stream",
          "name": "stdout",
          "text": [
            "[[0 1]\n",
            " [2 3]\n",
            " [4 5]\n",
            " [6 7]\n",
            " [8 9]]\n",
            "range(0, 5)\n"
          ]
        }
      ],
      "source": [
        "#let's take a simple example to understand train_test_split\n",
        "import numpy as np\n",
        "a,b = np.arange(10).reshape(5,2),range(5)\n",
        "print(a)\n",
        "print(b)"
      ]
    },
    {
      "cell_type": "code",
      "execution_count": null,
      "id": "66c075ea-7644-4c55-b1e6-4e0304ed06a2",
      "metadata": {
        "colab": {
          "base_uri": "https://localhost:8080/"
        },
        "id": "66c075ea-7644-4c55-b1e6-4e0304ed06a2",
        "outputId": "414e5bce-d09f-462b-c98b-c31146bea91a"
      },
      "outputs": [
        {
          "output_type": "stream",
          "name": "stdout",
          "text": [
            "[[0 1]\n",
            " [6 7]\n",
            " [8 9]]\n",
            "[[4 5]\n",
            " [2 3]]\n",
            "[0, 3, 4]\n",
            "[2, 1]\n"
          ]
        }
      ],
      "source": [
        "e,f,g,h = train_test_split(a,b) #here the values willbe consistently modified\n",
        "print(e)\n",
        "print(f)\n",
        "print(g)\n",
        "print(h)"
      ]
    },
    {
      "cell_type": "code",
      "execution_count": null,
      "id": "d959b2e2-eb47-49e1-96c8-b4df2ee9cd36",
      "metadata": {
        "colab": {
          "base_uri": "https://localhost:8080/"
        },
        "id": "d959b2e2-eb47-49e1-96c8-b4df2ee9cd36",
        "outputId": "d69e8358-e9ab-4513-cc5c-5ab32337f301"
      },
      "outputs": [
        {
          "output_type": "stream",
          "name": "stdout",
          "text": [
            "[[4 5]\n",
            " [0 1]\n",
            " [6 7]]\n",
            "[[2 3]\n",
            " [8 9]]\n",
            "[2, 0, 3]\n",
            "[1, 4]\n"
          ]
        }
      ],
      "source": [
        "e,f,g,h = train_test_split(a,b,random_state=42) #as random_state is used the values will be same\n",
        "print(e)\n",
        "print(f)\n",
        "print(g)\n",
        "print(h)"
      ]
    },
    {
      "cell_type": "code",
      "execution_count": null,
      "id": "7146606a-a6af-4ce4-93a6-6add8c269d81",
      "metadata": {
        "colab": {
          "base_uri": "https://localhost:8080/"
        },
        "id": "7146606a-a6af-4ce4-93a6-6add8c269d81",
        "outputId": "cd096a66-fcd4-4f24-d227-57a4e70e3b4d"
      },
      "outputs": [
        {
          "output_type": "execute_result",
          "data": {
            "text/plain": [
              "Index(['Place', 'Area', 'Status', 'Rooms', 'Bathrooms', 'Facing', 'P_Type',\n",
              "       'Price'],\n",
              "      dtype='object')"
            ]
          },
          "metadata": {},
          "execution_count": 42
        }
      ],
      "source": [
        "#now based on above concept we will divide our data into dependent and\n",
        "#independent variables\n",
        "df.columns"
      ]
    },
    {
      "cell_type": "code",
      "execution_count": null,
      "id": "13914753-eb1b-4f2c-bc6a-2351055b3fc1",
      "metadata": {
        "id": "13914753-eb1b-4f2c-bc6a-2351055b3fc1"
      },
      "outputs": [],
      "source": [
        "x = new_df.drop('Price',axis=1)\n",
        "y = new_df['Price']\n",
        "#y = mx+c"
      ]
    },
    {
      "cell_type": "code",
      "execution_count": null,
      "id": "7df735bf-1986-416d-9b45-8827dad6ca63",
      "metadata": {
        "id": "7df735bf-1986-416d-9b45-8827dad6ca63"
      },
      "outputs": [],
      "source": [
        "#we will split the data into train data and test data\n",
        "#best split 70-30/75-25\n",
        "x_train,x_test,y_train,y_test = train_test_split(x,y,\n",
        "                                                 test_size=0.25,random_state=42)"
      ]
    },
    {
      "cell_type": "code",
      "execution_count": null,
      "id": "c606099d-2caa-48f6-ab62-c2ec8a09aaf4",
      "metadata": {
        "colab": {
          "base_uri": "https://localhost:8080/"
        },
        "id": "c606099d-2caa-48f6-ab62-c2ec8a09aaf4",
        "outputId": "58ce94a2-70b9-415a-e3da-32a181307586"
      },
      "outputs": [
        {
          "output_type": "execute_result",
          "data": {
            "text/plain": [
              "692"
            ]
          },
          "metadata": {},
          "execution_count": 45
        }
      ],
      "source": [
        "#once we have divided the data you can check the samples\n",
        "len(x);len(x_train)\n",
        "#x_train\n",
        "#y_train"
      ]
    },
    {
      "cell_type": "code",
      "execution_count": null,
      "id": "f1fc4939-f239-4b24-b950-ee9bbd80d13e",
      "metadata": {
        "colab": {
          "base_uri": "https://localhost:8080/",
          "height": 74
        },
        "id": "f1fc4939-f239-4b24-b950-ee9bbd80d13e",
        "outputId": "6f22f19e-58bd-4ca5-b228-1e82680e8b04"
      },
      "outputs": [
        {
          "output_type": "execute_result",
          "data": {
            "text/plain": [
              "LinearRegression()"
            ],
            "text/html": [
              "<style>#sk-container-id-1 {color: black;background-color: white;}#sk-container-id-1 pre{padding: 0;}#sk-container-id-1 div.sk-toggleable {background-color: white;}#sk-container-id-1 label.sk-toggleable__label {cursor: pointer;display: block;width: 100%;margin-bottom: 0;padding: 0.3em;box-sizing: border-box;text-align: center;}#sk-container-id-1 label.sk-toggleable__label-arrow:before {content: \"▸\";float: left;margin-right: 0.25em;color: #696969;}#sk-container-id-1 label.sk-toggleable__label-arrow:hover:before {color: black;}#sk-container-id-1 div.sk-estimator:hover label.sk-toggleable__label-arrow:before {color: black;}#sk-container-id-1 div.sk-toggleable__content {max-height: 0;max-width: 0;overflow: hidden;text-align: left;background-color: #f0f8ff;}#sk-container-id-1 div.sk-toggleable__content pre {margin: 0.2em;color: black;border-radius: 0.25em;background-color: #f0f8ff;}#sk-container-id-1 input.sk-toggleable__control:checked~div.sk-toggleable__content {max-height: 200px;max-width: 100%;overflow: auto;}#sk-container-id-1 input.sk-toggleable__control:checked~label.sk-toggleable__label-arrow:before {content: \"▾\";}#sk-container-id-1 div.sk-estimator input.sk-toggleable__control:checked~label.sk-toggleable__label {background-color: #d4ebff;}#sk-container-id-1 div.sk-label input.sk-toggleable__control:checked~label.sk-toggleable__label {background-color: #d4ebff;}#sk-container-id-1 input.sk-hidden--visually {border: 0;clip: rect(1px 1px 1px 1px);clip: rect(1px, 1px, 1px, 1px);height: 1px;margin: -1px;overflow: hidden;padding: 0;position: absolute;width: 1px;}#sk-container-id-1 div.sk-estimator {font-family: monospace;background-color: #f0f8ff;border: 1px dotted black;border-radius: 0.25em;box-sizing: border-box;margin-bottom: 0.5em;}#sk-container-id-1 div.sk-estimator:hover {background-color: #d4ebff;}#sk-container-id-1 div.sk-parallel-item::after {content: \"\";width: 100%;border-bottom: 1px solid gray;flex-grow: 1;}#sk-container-id-1 div.sk-label:hover label.sk-toggleable__label {background-color: #d4ebff;}#sk-container-id-1 div.sk-serial::before {content: \"\";position: absolute;border-left: 1px solid gray;box-sizing: border-box;top: 0;bottom: 0;left: 50%;z-index: 0;}#sk-container-id-1 div.sk-serial {display: flex;flex-direction: column;align-items: center;background-color: white;padding-right: 0.2em;padding-left: 0.2em;position: relative;}#sk-container-id-1 div.sk-item {position: relative;z-index: 1;}#sk-container-id-1 div.sk-parallel {display: flex;align-items: stretch;justify-content: center;background-color: white;position: relative;}#sk-container-id-1 div.sk-item::before, #sk-container-id-1 div.sk-parallel-item::before {content: \"\";position: absolute;border-left: 1px solid gray;box-sizing: border-box;top: 0;bottom: 0;left: 50%;z-index: -1;}#sk-container-id-1 div.sk-parallel-item {display: flex;flex-direction: column;z-index: 1;position: relative;background-color: white;}#sk-container-id-1 div.sk-parallel-item:first-child::after {align-self: flex-end;width: 50%;}#sk-container-id-1 div.sk-parallel-item:last-child::after {align-self: flex-start;width: 50%;}#sk-container-id-1 div.sk-parallel-item:only-child::after {width: 0;}#sk-container-id-1 div.sk-dashed-wrapped {border: 1px dashed gray;margin: 0 0.4em 0.5em 0.4em;box-sizing: border-box;padding-bottom: 0.4em;background-color: white;}#sk-container-id-1 div.sk-label label {font-family: monospace;font-weight: bold;display: inline-block;line-height: 1.2em;}#sk-container-id-1 div.sk-label-container {text-align: center;}#sk-container-id-1 div.sk-container {/* jupyter's `normalize.less` sets `[hidden] { display: none; }` but bootstrap.min.css set `[hidden] { display: none !important; }` so we also need the `!important` here to be able to override the default hidden behavior on the sphinx rendered scikit-learn.org. See: https://github.com/scikit-learn/scikit-learn/issues/21755 */display: inline-block !important;position: relative;}#sk-container-id-1 div.sk-text-repr-fallback {display: none;}</style><div id=\"sk-container-id-1\" class=\"sk-top-container\"><div class=\"sk-text-repr-fallback\"><pre>LinearRegression()</pre><b>In a Jupyter environment, please rerun this cell to show the HTML representation or trust the notebook. <br />On GitHub, the HTML representation is unable to render, please try loading this page with nbviewer.org.</b></div><div class=\"sk-container\" hidden><div class=\"sk-item\"><div class=\"sk-estimator sk-toggleable\"><input class=\"sk-toggleable__control sk-hidden--visually\" id=\"sk-estimator-id-1\" type=\"checkbox\" checked><label for=\"sk-estimator-id-1\" class=\"sk-toggleable__label sk-toggleable__label-arrow\">LinearRegression</label><div class=\"sk-toggleable__content\"><pre>LinearRegression()</pre></div></div></div></div></div>"
            ]
          },
          "metadata": {},
          "execution_count": 46
        }
      ],
      "source": [
        "#building the model\n",
        "linear_model = LinearRegression()\n",
        "linear_model"
      ]
    },
    {
      "cell_type": "code",
      "execution_count": null,
      "id": "6a6a4c44-7773-41e0-8970-ed10d1b54203",
      "metadata": {
        "colab": {
          "base_uri": "https://localhost:8080/",
          "height": 74
        },
        "id": "6a6a4c44-7773-41e0-8970-ed10d1b54203",
        "outputId": "cd4ae47e-f3ee-481c-a684-81c372883dd6"
      },
      "outputs": [
        {
          "output_type": "execute_result",
          "data": {
            "text/plain": [
              "LinearRegression()"
            ],
            "text/html": [
              "<style>#sk-container-id-2 {color: black;background-color: white;}#sk-container-id-2 pre{padding: 0;}#sk-container-id-2 div.sk-toggleable {background-color: white;}#sk-container-id-2 label.sk-toggleable__label {cursor: pointer;display: block;width: 100%;margin-bottom: 0;padding: 0.3em;box-sizing: border-box;text-align: center;}#sk-container-id-2 label.sk-toggleable__label-arrow:before {content: \"▸\";float: left;margin-right: 0.25em;color: #696969;}#sk-container-id-2 label.sk-toggleable__label-arrow:hover:before {color: black;}#sk-container-id-2 div.sk-estimator:hover label.sk-toggleable__label-arrow:before {color: black;}#sk-container-id-2 div.sk-toggleable__content {max-height: 0;max-width: 0;overflow: hidden;text-align: left;background-color: #f0f8ff;}#sk-container-id-2 div.sk-toggleable__content pre {margin: 0.2em;color: black;border-radius: 0.25em;background-color: #f0f8ff;}#sk-container-id-2 input.sk-toggleable__control:checked~div.sk-toggleable__content {max-height: 200px;max-width: 100%;overflow: auto;}#sk-container-id-2 input.sk-toggleable__control:checked~label.sk-toggleable__label-arrow:before {content: \"▾\";}#sk-container-id-2 div.sk-estimator input.sk-toggleable__control:checked~label.sk-toggleable__label {background-color: #d4ebff;}#sk-container-id-2 div.sk-label input.sk-toggleable__control:checked~label.sk-toggleable__label {background-color: #d4ebff;}#sk-container-id-2 input.sk-hidden--visually {border: 0;clip: rect(1px 1px 1px 1px);clip: rect(1px, 1px, 1px, 1px);height: 1px;margin: -1px;overflow: hidden;padding: 0;position: absolute;width: 1px;}#sk-container-id-2 div.sk-estimator {font-family: monospace;background-color: #f0f8ff;border: 1px dotted black;border-radius: 0.25em;box-sizing: border-box;margin-bottom: 0.5em;}#sk-container-id-2 div.sk-estimator:hover {background-color: #d4ebff;}#sk-container-id-2 div.sk-parallel-item::after {content: \"\";width: 100%;border-bottom: 1px solid gray;flex-grow: 1;}#sk-container-id-2 div.sk-label:hover label.sk-toggleable__label {background-color: #d4ebff;}#sk-container-id-2 div.sk-serial::before {content: \"\";position: absolute;border-left: 1px solid gray;box-sizing: border-box;top: 0;bottom: 0;left: 50%;z-index: 0;}#sk-container-id-2 div.sk-serial {display: flex;flex-direction: column;align-items: center;background-color: white;padding-right: 0.2em;padding-left: 0.2em;position: relative;}#sk-container-id-2 div.sk-item {position: relative;z-index: 1;}#sk-container-id-2 div.sk-parallel {display: flex;align-items: stretch;justify-content: center;background-color: white;position: relative;}#sk-container-id-2 div.sk-item::before, #sk-container-id-2 div.sk-parallel-item::before {content: \"\";position: absolute;border-left: 1px solid gray;box-sizing: border-box;top: 0;bottom: 0;left: 50%;z-index: -1;}#sk-container-id-2 div.sk-parallel-item {display: flex;flex-direction: column;z-index: 1;position: relative;background-color: white;}#sk-container-id-2 div.sk-parallel-item:first-child::after {align-self: flex-end;width: 50%;}#sk-container-id-2 div.sk-parallel-item:last-child::after {align-self: flex-start;width: 50%;}#sk-container-id-2 div.sk-parallel-item:only-child::after {width: 0;}#sk-container-id-2 div.sk-dashed-wrapped {border: 1px dashed gray;margin: 0 0.4em 0.5em 0.4em;box-sizing: border-box;padding-bottom: 0.4em;background-color: white;}#sk-container-id-2 div.sk-label label {font-family: monospace;font-weight: bold;display: inline-block;line-height: 1.2em;}#sk-container-id-2 div.sk-label-container {text-align: center;}#sk-container-id-2 div.sk-container {/* jupyter's `normalize.less` sets `[hidden] { display: none; }` but bootstrap.min.css set `[hidden] { display: none !important; }` so we also need the `!important` here to be able to override the default hidden behavior on the sphinx rendered scikit-learn.org. See: https://github.com/scikit-learn/scikit-learn/issues/21755 */display: inline-block !important;position: relative;}#sk-container-id-2 div.sk-text-repr-fallback {display: none;}</style><div id=\"sk-container-id-2\" class=\"sk-top-container\"><div class=\"sk-text-repr-fallback\"><pre>LinearRegression()</pre><b>In a Jupyter environment, please rerun this cell to show the HTML representation or trust the notebook. <br />On GitHub, the HTML representation is unable to render, please try loading this page with nbviewer.org.</b></div><div class=\"sk-container\" hidden><div class=\"sk-item\"><div class=\"sk-estimator sk-toggleable\"><input class=\"sk-toggleable__control sk-hidden--visually\" id=\"sk-estimator-id-2\" type=\"checkbox\" checked><label for=\"sk-estimator-id-2\" class=\"sk-toggleable__label sk-toggleable__label-arrow\">LinearRegression</label><div class=\"sk-toggleable__content\"><pre>LinearRegression()</pre></div></div></div></div></div>"
            ]
          },
          "metadata": {},
          "execution_count": 47
        }
      ],
      "source": [
        "linear_model.fit(x_train,y_train) #fitting the data"
      ]
    },
    {
      "cell_type": "code",
      "execution_count": null,
      "id": "dd097f41-f582-4418-949a-3ac1c263d888",
      "metadata": {
        "colab": {
          "base_uri": "https://localhost:8080/"
        },
        "id": "dd097f41-f582-4418-949a-3ac1c263d888",
        "outputId": "67aa25ec-7e2b-4374-8425-600baa022444"
      },
      "outputs": [
        {
          "output_type": "stream",
          "name": "stdout",
          "text": [
            "['__abstractmethods__', '__annotations__', '__class__', '__delattr__', '__dict__', '__dir__', '__doc__', '__eq__', '__format__', '__ge__', '__getattribute__', '__getstate__', '__gt__', '__hash__', '__init__', '__init_subclass__', '__le__', '__lt__', '__module__', '__ne__', '__new__', '__reduce__', '__reduce_ex__', '__repr__', '__setattr__', '__setstate__', '__sizeof__', '__str__', '__subclasshook__', '__weakref__', '_abc_impl', '_check_feature_names', '_check_n_features', '_decision_function', '_estimator_type', '_get_param_names', '_get_tags', '_more_tags', '_parameter_constraints', '_repr_html_', '_repr_html_inner', '_repr_mimebundle_', '_set_intercept', '_validate_data', '_validate_params', 'coef_', 'copy_X', 'feature_names_in_', 'fit', 'fit_intercept', 'get_params', 'intercept_', 'n_features_in_', 'n_jobs', 'positive', 'predict', 'rank_', 'score', 'set_params', 'singular_']\n"
          ]
        }
      ],
      "source": [
        "print(dir(linear_model))"
      ]
    },
    {
      "cell_type": "code",
      "execution_count": null,
      "id": "f310aaac-4175-4242-a115-738c79aa16a3",
      "metadata": {
        "colab": {
          "base_uri": "https://localhost:8080/"
        },
        "id": "f310aaac-4175-4242-a115-738c79aa16a3",
        "outputId": "29373154-93b9-48e1-a08c-8623eb833e9d"
      },
      "outputs": [
        {
          "output_type": "execute_result",
          "data": {
            "text/plain": [
              "array([-6.23642074e-02,  1.77329106e-02,  5.54219119e+00,  2.06140709e+01,\n",
              "       -9.18067338e+00, -1.79465621e-01,  2.10261137e-01])"
            ]
          },
          "metadata": {},
          "execution_count": 49
        }
      ],
      "source": [
        "linear_model.coef_"
      ]
    },
    {
      "cell_type": "code",
      "execution_count": null,
      "id": "db934769-40fb-434f-aeb9-e8773dee2a1f",
      "metadata": {
        "colab": {
          "base_uri": "https://localhost:8080/"
        },
        "id": "db934769-40fb-434f-aeb9-e8773dee2a1f",
        "outputId": "04552194-9368-434f-f700-e66e7d0201ce"
      },
      "outputs": [
        {
          "output_type": "execute_result",
          "data": {
            "text/plain": [
              "-0.024948682137782896"
            ]
          },
          "metadata": {},
          "execution_count": 50
        }
      ],
      "source": [
        "linear_model.intercept_ #observe the intercept it should be never negative"
      ]
    },
    {
      "cell_type": "code",
      "execution_count": null,
      "id": "c06707f0-6113-4759-9059-7ccef0f95a91",
      "metadata": {
        "id": "c06707f0-6113-4759-9059-7ccef0f95a91"
      },
      "outputs": [],
      "source": [
        "#now we will start checking the metrics (performance of the model)\n",
        "from sklearn.metrics import mean_squared_error,r2_score"
      ]
    },
    {
      "cell_type": "code",
      "execution_count": null,
      "id": "b8aeecb8-1bb8-46cd-9e40-2af871e557a1",
      "metadata": {
        "id": "b8aeecb8-1bb8-46cd-9e40-2af871e557a1"
      },
      "outputs": [],
      "source": [
        "#check for the predictions and evaluate the metrics\n",
        "predictions = linear_model.predict(x_test)\n",
        "#predictions"
      ]
    },
    {
      "cell_type": "code",
      "execution_count": null,
      "id": "3bd49d99-291a-43e4-b427-494347d35085",
      "metadata": {
        "colab": {
          "base_uri": "https://localhost:8080/"
        },
        "id": "3bd49d99-291a-43e4-b427-494347d35085",
        "outputId": "39e3e325-aeaf-4efd-c6d7-c229909d63ed"
      },
      "outputs": [
        {
          "output_type": "stream",
          "name": "stdout",
          "text": [
            "Mean Squared Error 277.6632947399053\n",
            "R-Squared value 0.5566646100500728\n"
          ]
        }
      ],
      "source": [
        "print(\"Mean Squared Error\",mean_squared_error(y_test,predictions))\n",
        "print(\"R-Squared value\",r2_score(y_test,predictions))"
      ]
    },
    {
      "cell_type": "code",
      "execution_count": null,
      "id": "d85a5b6e-c4da-4113-b253-96afa4d070ad",
      "metadata": {
        "colab": {
          "base_uri": "https://localhost:8080/"
        },
        "id": "d85a5b6e-c4da-4113-b253-96afa4d070ad",
        "outputId": "b9b82d2e-336c-4494-9454-7b7ca85337d5"
      },
      "outputs": [
        {
          "output_type": "execute_result",
          "data": {
            "text/plain": [
              "Index(['Place', 'Area', 'Status', 'Rooms', 'Bathrooms', 'Facing', 'P_Type'], dtype='object')"
            ]
          },
          "metadata": {},
          "execution_count": 54
        }
      ],
      "source": [
        "#Now we will check for the predictions giving some test samples\n",
        "x_test.shape\n",
        "x_test.columns"
      ]
    },
    {
      "cell_type": "code",
      "execution_count": null,
      "id": "1a1a9e86-c637-4eac-abaa-21d89a8f4dd3",
      "metadata": {
        "colab": {
          "base_uri": "https://localhost:8080/",
          "height": 269
        },
        "id": "1a1a9e86-c637-4eac-abaa-21d89a8f4dd3",
        "outputId": "1269b615-75fb-4698-d0c1-0f4f3981ee6e"
      },
      "outputs": [
        {
          "output_type": "execute_result",
          "data": {
            "text/plain": [
              "    Features  Coefficients\n",
              "0      Place     -0.062364\n",
              "1       Area      0.017733\n",
              "2     Status      5.542191\n",
              "3      Rooms     20.614071\n",
              "4  Bathrooms     -9.180673\n",
              "5     Facing     -0.179466\n",
              "6     P_Type      0.210261"
            ],
            "text/html": [
              "\n",
              "  <div id=\"df-e5754a81-09dd-4e7e-ae99-01178982a95b\" class=\"colab-df-container\">\n",
              "    <div>\n",
              "<style scoped>\n",
              "    .dataframe tbody tr th:only-of-type {\n",
              "        vertical-align: middle;\n",
              "    }\n",
              "\n",
              "    .dataframe tbody tr th {\n",
              "        vertical-align: top;\n",
              "    }\n",
              "\n",
              "    .dataframe thead th {\n",
              "        text-align: right;\n",
              "    }\n",
              "</style>\n",
              "<table border=\"1\" class=\"dataframe\">\n",
              "  <thead>\n",
              "    <tr style=\"text-align: right;\">\n",
              "      <th></th>\n",
              "      <th>Features</th>\n",
              "      <th>Coefficients</th>\n",
              "    </tr>\n",
              "  </thead>\n",
              "  <tbody>\n",
              "    <tr>\n",
              "      <th>0</th>\n",
              "      <td>Place</td>\n",
              "      <td>-0.062364</td>\n",
              "    </tr>\n",
              "    <tr>\n",
              "      <th>1</th>\n",
              "      <td>Area</td>\n",
              "      <td>0.017733</td>\n",
              "    </tr>\n",
              "    <tr>\n",
              "      <th>2</th>\n",
              "      <td>Status</td>\n",
              "      <td>5.542191</td>\n",
              "    </tr>\n",
              "    <tr>\n",
              "      <th>3</th>\n",
              "      <td>Rooms</td>\n",
              "      <td>20.614071</td>\n",
              "    </tr>\n",
              "    <tr>\n",
              "      <th>4</th>\n",
              "      <td>Bathrooms</td>\n",
              "      <td>-9.180673</td>\n",
              "    </tr>\n",
              "    <tr>\n",
              "      <th>5</th>\n",
              "      <td>Facing</td>\n",
              "      <td>-0.179466</td>\n",
              "    </tr>\n",
              "    <tr>\n",
              "      <th>6</th>\n",
              "      <td>P_Type</td>\n",
              "      <td>0.210261</td>\n",
              "    </tr>\n",
              "  </tbody>\n",
              "</table>\n",
              "</div>\n",
              "    <div class=\"colab-df-buttons\">\n",
              "\n",
              "  <div class=\"colab-df-container\">\n",
              "    <button class=\"colab-df-convert\" onclick=\"convertToInteractive('df-e5754a81-09dd-4e7e-ae99-01178982a95b')\"\n",
              "            title=\"Convert this dataframe to an interactive table.\"\n",
              "            style=\"display:none;\">\n",
              "\n",
              "  <svg xmlns=\"http://www.w3.org/2000/svg\" height=\"24px\" viewBox=\"0 -960 960 960\">\n",
              "    <path d=\"M120-120v-720h720v720H120Zm60-500h600v-160H180v160Zm220 220h160v-160H400v160Zm0 220h160v-160H400v160ZM180-400h160v-160H180v160Zm440 0h160v-160H620v160ZM180-180h160v-160H180v160Zm440 0h160v-160H620v160Z\"/>\n",
              "  </svg>\n",
              "    </button>\n",
              "\n",
              "  <style>\n",
              "    .colab-df-container {\n",
              "      display:flex;\n",
              "      gap: 12px;\n",
              "    }\n",
              "\n",
              "    .colab-df-convert {\n",
              "      background-color: #E8F0FE;\n",
              "      border: none;\n",
              "      border-radius: 50%;\n",
              "      cursor: pointer;\n",
              "      display: none;\n",
              "      fill: #1967D2;\n",
              "      height: 32px;\n",
              "      padding: 0 0 0 0;\n",
              "      width: 32px;\n",
              "    }\n",
              "\n",
              "    .colab-df-convert:hover {\n",
              "      background-color: #E2EBFA;\n",
              "      box-shadow: 0px 1px 2px rgba(60, 64, 67, 0.3), 0px 1px 3px 1px rgba(60, 64, 67, 0.15);\n",
              "      fill: #174EA6;\n",
              "    }\n",
              "\n",
              "    .colab-df-buttons div {\n",
              "      margin-bottom: 4px;\n",
              "    }\n",
              "\n",
              "    [theme=dark] .colab-df-convert {\n",
              "      background-color: #3B4455;\n",
              "      fill: #D2E3FC;\n",
              "    }\n",
              "\n",
              "    [theme=dark] .colab-df-convert:hover {\n",
              "      background-color: #434B5C;\n",
              "      box-shadow: 0px 1px 3px 1px rgba(0, 0, 0, 0.15);\n",
              "      filter: drop-shadow(0px 1px 2px rgba(0, 0, 0, 0.3));\n",
              "      fill: #FFFFFF;\n",
              "    }\n",
              "  </style>\n",
              "\n",
              "    <script>\n",
              "      const buttonEl =\n",
              "        document.querySelector('#df-e5754a81-09dd-4e7e-ae99-01178982a95b button.colab-df-convert');\n",
              "      buttonEl.style.display =\n",
              "        google.colab.kernel.accessAllowed ? 'block' : 'none';\n",
              "\n",
              "      async function convertToInteractive(key) {\n",
              "        const element = document.querySelector('#df-e5754a81-09dd-4e7e-ae99-01178982a95b');\n",
              "        const dataTable =\n",
              "          await google.colab.kernel.invokeFunction('convertToInteractive',\n",
              "                                                    [key], {});\n",
              "        if (!dataTable) return;\n",
              "\n",
              "        const docLinkHtml = 'Like what you see? Visit the ' +\n",
              "          '<a target=\"_blank\" href=https://colab.research.google.com/notebooks/data_table.ipynb>data table notebook</a>'\n",
              "          + ' to learn more about interactive tables.';\n",
              "        element.innerHTML = '';\n",
              "        dataTable['output_type'] = 'display_data';\n",
              "        await google.colab.output.renderOutput(dataTable, element);\n",
              "        const docLink = document.createElement('div');\n",
              "        docLink.innerHTML = docLinkHtml;\n",
              "        element.appendChild(docLink);\n",
              "      }\n",
              "    </script>\n",
              "  </div>\n",
              "\n",
              "\n",
              "<div id=\"df-823f9979-cb2f-41bb-99ad-28326e955f50\">\n",
              "  <button class=\"colab-df-quickchart\" onclick=\"quickchart('df-823f9979-cb2f-41bb-99ad-28326e955f50')\"\n",
              "            title=\"Suggest charts\"\n",
              "            style=\"display:none;\">\n",
              "\n",
              "<svg xmlns=\"http://www.w3.org/2000/svg\" height=\"24px\"viewBox=\"0 0 24 24\"\n",
              "     width=\"24px\">\n",
              "    <g>\n",
              "        <path d=\"M19 3H5c-1.1 0-2 .9-2 2v14c0 1.1.9 2 2 2h14c1.1 0 2-.9 2-2V5c0-1.1-.9-2-2-2zM9 17H7v-7h2v7zm4 0h-2V7h2v10zm4 0h-2v-4h2v4z\"/>\n",
              "    </g>\n",
              "</svg>\n",
              "  </button>\n",
              "\n",
              "<style>\n",
              "  .colab-df-quickchart {\n",
              "      --bg-color: #E8F0FE;\n",
              "      --fill-color: #1967D2;\n",
              "      --hover-bg-color: #E2EBFA;\n",
              "      --hover-fill-color: #174EA6;\n",
              "      --disabled-fill-color: #AAA;\n",
              "      --disabled-bg-color: #DDD;\n",
              "  }\n",
              "\n",
              "  [theme=dark] .colab-df-quickchart {\n",
              "      --bg-color: #3B4455;\n",
              "      --fill-color: #D2E3FC;\n",
              "      --hover-bg-color: #434B5C;\n",
              "      --hover-fill-color: #FFFFFF;\n",
              "      --disabled-bg-color: #3B4455;\n",
              "      --disabled-fill-color: #666;\n",
              "  }\n",
              "\n",
              "  .colab-df-quickchart {\n",
              "    background-color: var(--bg-color);\n",
              "    border: none;\n",
              "    border-radius: 50%;\n",
              "    cursor: pointer;\n",
              "    display: none;\n",
              "    fill: var(--fill-color);\n",
              "    height: 32px;\n",
              "    padding: 0;\n",
              "    width: 32px;\n",
              "  }\n",
              "\n",
              "  .colab-df-quickchart:hover {\n",
              "    background-color: var(--hover-bg-color);\n",
              "    box-shadow: 0 1px 2px rgba(60, 64, 67, 0.3), 0 1px 3px 1px rgba(60, 64, 67, 0.15);\n",
              "    fill: var(--button-hover-fill-color);\n",
              "  }\n",
              "\n",
              "  .colab-df-quickchart-complete:disabled,\n",
              "  .colab-df-quickchart-complete:disabled:hover {\n",
              "    background-color: var(--disabled-bg-color);\n",
              "    fill: var(--disabled-fill-color);\n",
              "    box-shadow: none;\n",
              "  }\n",
              "\n",
              "  .colab-df-spinner {\n",
              "    border: 2px solid var(--fill-color);\n",
              "    border-color: transparent;\n",
              "    border-bottom-color: var(--fill-color);\n",
              "    animation:\n",
              "      spin 1s steps(1) infinite;\n",
              "  }\n",
              "\n",
              "  @keyframes spin {\n",
              "    0% {\n",
              "      border-color: transparent;\n",
              "      border-bottom-color: var(--fill-color);\n",
              "      border-left-color: var(--fill-color);\n",
              "    }\n",
              "    20% {\n",
              "      border-color: transparent;\n",
              "      border-left-color: var(--fill-color);\n",
              "      border-top-color: var(--fill-color);\n",
              "    }\n",
              "    30% {\n",
              "      border-color: transparent;\n",
              "      border-left-color: var(--fill-color);\n",
              "      border-top-color: var(--fill-color);\n",
              "      border-right-color: var(--fill-color);\n",
              "    }\n",
              "    40% {\n",
              "      border-color: transparent;\n",
              "      border-right-color: var(--fill-color);\n",
              "      border-top-color: var(--fill-color);\n",
              "    }\n",
              "    60% {\n",
              "      border-color: transparent;\n",
              "      border-right-color: var(--fill-color);\n",
              "    }\n",
              "    80% {\n",
              "      border-color: transparent;\n",
              "      border-right-color: var(--fill-color);\n",
              "      border-bottom-color: var(--fill-color);\n",
              "    }\n",
              "    90% {\n",
              "      border-color: transparent;\n",
              "      border-bottom-color: var(--fill-color);\n",
              "    }\n",
              "  }\n",
              "</style>\n",
              "\n",
              "  <script>\n",
              "    async function quickchart(key) {\n",
              "      const quickchartButtonEl =\n",
              "        document.querySelector('#' + key + ' button');\n",
              "      quickchartButtonEl.disabled = true;  // To prevent multiple clicks.\n",
              "      quickchartButtonEl.classList.add('colab-df-spinner');\n",
              "      try {\n",
              "        const charts = await google.colab.kernel.invokeFunction(\n",
              "            'suggestCharts', [key], {});\n",
              "      } catch (error) {\n",
              "        console.error('Error during call to suggestCharts:', error);\n",
              "      }\n",
              "      quickchartButtonEl.classList.remove('colab-df-spinner');\n",
              "      quickchartButtonEl.classList.add('colab-df-quickchart-complete');\n",
              "    }\n",
              "    (() => {\n",
              "      let quickchartButtonEl =\n",
              "        document.querySelector('#df-823f9979-cb2f-41bb-99ad-28326e955f50 button');\n",
              "      quickchartButtonEl.style.display =\n",
              "        google.colab.kernel.accessAllowed ? 'block' : 'none';\n",
              "    })();\n",
              "  </script>\n",
              "</div>\n",
              "\n",
              "  <div id=\"id_bc67b505-b828-4692-a64c-308b6bc5f9e6\">\n",
              "    <style>\n",
              "      .colab-df-generate {\n",
              "        background-color: #E8F0FE;\n",
              "        border: none;\n",
              "        border-radius: 50%;\n",
              "        cursor: pointer;\n",
              "        display: none;\n",
              "        fill: #1967D2;\n",
              "        height: 32px;\n",
              "        padding: 0 0 0 0;\n",
              "        width: 32px;\n",
              "      }\n",
              "\n",
              "      .colab-df-generate:hover {\n",
              "        background-color: #E2EBFA;\n",
              "        box-shadow: 0px 1px 2px rgba(60, 64, 67, 0.3), 0px 1px 3px 1px rgba(60, 64, 67, 0.15);\n",
              "        fill: #174EA6;\n",
              "      }\n",
              "\n",
              "      [theme=dark] .colab-df-generate {\n",
              "        background-color: #3B4455;\n",
              "        fill: #D2E3FC;\n",
              "      }\n",
              "\n",
              "      [theme=dark] .colab-df-generate:hover {\n",
              "        background-color: #434B5C;\n",
              "        box-shadow: 0px 1px 3px 1px rgba(0, 0, 0, 0.15);\n",
              "        filter: drop-shadow(0px 1px 2px rgba(0, 0, 0, 0.3));\n",
              "        fill: #FFFFFF;\n",
              "      }\n",
              "    </style>\n",
              "    <button class=\"colab-df-generate\" onclick=\"generateWithVariable('lin_m')\"\n",
              "            title=\"Generate code using this dataframe.\"\n",
              "            style=\"display:none;\">\n",
              "\n",
              "  <svg xmlns=\"http://www.w3.org/2000/svg\" height=\"24px\"viewBox=\"0 0 24 24\"\n",
              "       width=\"24px\">\n",
              "    <path d=\"M7,19H8.4L18.45,9,17,7.55,7,17.6ZM5,21V16.75L18.45,3.32a2,2,0,0,1,2.83,0l1.4,1.43a1.91,1.91,0,0,1,.58,1.4,1.91,1.91,0,0,1-.58,1.4L9.25,21ZM18.45,9,17,7.55Zm-12,3A5.31,5.31,0,0,0,4.9,8.1,5.31,5.31,0,0,0,1,6.5,5.31,5.31,0,0,0,4.9,4.9,5.31,5.31,0,0,0,6.5,1,5.31,5.31,0,0,0,8.1,4.9,5.31,5.31,0,0,0,12,6.5,5.46,5.46,0,0,0,6.5,12Z\"/>\n",
              "  </svg>\n",
              "    </button>\n",
              "    <script>\n",
              "      (() => {\n",
              "      const buttonEl =\n",
              "        document.querySelector('#id_bc67b505-b828-4692-a64c-308b6bc5f9e6 button.colab-df-generate');\n",
              "      buttonEl.style.display =\n",
              "        google.colab.kernel.accessAllowed ? 'block' : 'none';\n",
              "\n",
              "      buttonEl.onclick = () => {\n",
              "        google.colab.notebook.generateWithVariable('lin_m');\n",
              "      }\n",
              "      })();\n",
              "    </script>\n",
              "  </div>\n",
              "\n",
              "    </div>\n",
              "  </div>\n"
            ],
            "application/vnd.google.colaboratory.intrinsic+json": {
              "type": "dataframe",
              "variable_name": "lin_m",
              "summary": "{\n  \"name\": \"lin_m\",\n  \"rows\": 7,\n  \"fields\": [\n    {\n      \"column\": \"Features\",\n      \"properties\": {\n        \"dtype\": \"string\",\n        \"num_unique_values\": 7,\n        \"samples\": [\n          \"Place\",\n          \"Area\",\n          \"Facing\"\n        ],\n        \"semantic_type\": \"\",\n        \"description\": \"\"\n      }\n    },\n    {\n      \"column\": \"Coefficients\",\n      \"properties\": {\n        \"dtype\": \"number\",\n        \"std\": 9.118854409378558,\n        \"min\": -9.180673383090394,\n        \"max\": 20.61407086669819,\n        \"num_unique_values\": 7,\n        \"samples\": [\n          -0.06236420737936808,\n          0.017732910551227932,\n          -0.1794656209921251\n        ],\n        \"semantic_type\": \"\",\n        \"description\": \"\"\n      }\n    }\n  ]\n}"
            }
          },
          "metadata": {},
          "execution_count": 55
        }
      ],
      "source": [
        "#we can also check the coefficients before going for predictions\n",
        "lin_m = pd.DataFrame({'Features':x.columns,\n",
        "                      'Coefficients':linear_model.coef_})\n",
        "lin_m"
      ]
    },
    {
      "cell_type": "code",
      "execution_count": null,
      "id": "cdb41caa-18e4-41e7-8646-f98219c57b19",
      "metadata": {
        "colab": {
          "base_uri": "https://localhost:8080/"
        },
        "id": "cdb41caa-18e4-41e7-8646-f98219c57b19",
        "outputId": "71a471f1-8c99-4165-ac4b-0b2fa93a2954"
      },
      "outputs": [
        {
          "output_type": "stream",
          "name": "stdout",
          "text": [
            "     Place  Area  Status  Rooms  Bathrooms  Facing  P_Type\n",
            "399     44   960       1      2          2       1       0\n",
            "974     23  1852       1      3          3       1       0\n",
            "33      17  1266       1      2          2       0       0\n",
            "946     28  1332       0      0          0       1       2\n",
            "367     17  1485       1      3          3       1       1\n",
            "399    37.00\n",
            "974    69.50\n",
            "33     44.13\n",
            "946     8.88\n",
            "367    46.00\n",
            "       ...  \n",
            "501    35.40\n",
            "792    29.16\n",
            "839    27.84\n",
            "506    58.92\n",
            "63     76.50\n",
            "Name: Price, Length: 231, dtype: float64\n"
          ]
        }
      ],
      "source": [
        "#x.info();\n",
        "print(x_test.head())\n",
        "print(y_test)"
      ]
    },
    {
      "cell_type": "code",
      "execution_count": null,
      "id": "8fbda2fa-6627-4433-a10a-77eb6a4a39ac",
      "metadata": {
        "id": "8fbda2fa-6627-4433-a10a-77eb6a4a39ac"
      },
      "outputs": [],
      "source": [
        "#take the inputs from the user to check the predicted price\n",
        "Rooms = int(input(\"Enter the number of Rooms\"))\n",
        "Bathrooms = int(input(\"Enter the number of Bathrooms\"))\n",
        "Status = int(input(\"Enter the Status\"))\n",
        "Area = int(input(\"Area:\"))\n",
        "Place = int(input(\"Enter the location code\"))\n",
        "Facing = int(input(\"Enter the desired Facing\"))\n",
        "P_Type = int(input(\"Enter the Property_Type code\"))"
      ]
    },
    {
      "cell_type": "code",
      "execution_count": null,
      "id": "9c5202d1-f770-4735-980e-3c6222abdc9c",
      "metadata": {
        "id": "9c5202d1-f770-4735-980e-3c6222abdc9c"
      },
      "outputs": [],
      "source": [
        "#now based on input data we will check the predicted price\n",
        "price = linear_model.predict(np.array([[Place,Area,Status,Rooms,Bathrooms,Facing,P_Type]]))[0]\n",
        "price"
      ]
    },
    {
      "cell_type": "code",
      "execution_count": null,
      "id": "15ddfaaa-268d-4438-987b-36af5ae7bd96",
      "metadata": {
        "id": "15ddfaaa-268d-4438-987b-36af5ae7bd96"
      },
      "outputs": [],
      "source": [
        "#we will create a pickle file for our finally trained model\n",
        "#pickle,joblib\n",
        "import pickle"
      ]
    },
    {
      "cell_type": "code",
      "execution_count": null,
      "id": "68c5c734-b50d-491b-98e2-44f9e7984064",
      "metadata": {
        "id": "68c5c734-b50d-491b-98e2-44f9e7984064"
      },
      "outputs": [],
      "source": [
        "#first let's create a pickle file for our model\n",
        "with open(\"House_Price.pkl\",'wb') as f:\n",
        "    pickle.dump(linear_model,f)"
      ]
    },
    {
      "cell_type": "code",
      "execution_count": null,
      "id": "a4b31359-daf5-4263-9ea2-ee83e74846bd",
      "metadata": {
        "id": "a4b31359-daf5-4263-9ea2-ee83e74846bd"
      },
      "outputs": [],
      "source": [
        "#we will use our created pickle file for predictions\n",
        "pred_model = pickle.load(open(\"House_Price.pkl\",\"rb\"))"
      ]
    },
    {
      "cell_type": "code",
      "execution_count": null,
      "id": "7532311b-f060-4aff-af37-68cc6e33c511",
      "metadata": {
        "id": "7532311b-f060-4aff-af37-68cc6e33c511"
      },
      "outputs": [],
      "source": [
        "#we can use pred_model instance\n",
        "price = pred_model.predict(np.array([[Place,Area,Status,Rooms,Bathrooms,Facing,P_Type]]))[0]\n",
        "price"
      ]
    },
    {
      "cell_type": "code",
      "execution_count": null,
      "id": "b7a04143-1ad8-45f1-834d-b48a8a5e3617",
      "metadata": {
        "id": "b7a04143-1ad8-45f1-834d-b48a8a5e3617"
      },
      "outputs": [],
      "source": [
        "#No-Free Lunch Theorem --> We cannot say only one model will be best so we apply\n",
        "#multiple models\n",
        "#Once our trained model is created as a Pickle file -->we will present to user\n",
        "#Using Python webservices (Flask,Django) -->Web servers (AWS,Pythonanywhere)\n",
        "#We can use streamlit (without frontend)"
      ]
    },
    {
      "cell_type": "code",
      "execution_count": null,
      "id": "15807930-3695-4c5e-b99f-3eb01befb536",
      "metadata": {
        "id": "15807930-3695-4c5e-b99f-3eb01befb536"
      },
      "outputs": [],
      "source": [
        "!pip install streamlit"
      ]
    },
    {
      "cell_type": "code",
      "execution_count": null,
      "id": "f2c1d106-de92-4b3b-a100-3bb260bee33f",
      "metadata": {
        "id": "f2c1d106-de92-4b3b-a100-3bb260bee33f"
      },
      "outputs": [],
      "source": [
        "from sklearn.preprocessing import PolynomialFeatures\n",
        "poly_model = PolynomialFeatures(degree=2)"
      ]
    },
    {
      "cell_type": "code",
      "execution_count": null,
      "id": "08d6b330",
      "metadata": {
        "id": "08d6b330"
      },
      "outputs": [],
      "source": [
        "#Divide the data into train and test data\n",
        "from sklearn.model_selection import train_test_split\n",
        "x_train,x_test,y_train,y_test = train_test_split(x,y,\n",
        "                                                test_size=0.3,\n",
        "                                                random_state=3)"
      ]
    },
    {
      "cell_type": "code",
      "execution_count": null,
      "id": "f6daa622",
      "metadata": {
        "id": "f6daa622"
      },
      "outputs": [],
      "source": [
        "model = LinearRegression()\n",
        "#fit the data to the model\n",
        "model.fit(x_train,y_train)\n",
        "model.feature_names_in_ #input features\n",
        "model.n_features_in_"
      ]
    },
    {
      "cell_type": "code",
      "execution_count": null,
      "id": "15f0328f",
      "metadata": {
        "id": "15f0328f"
      },
      "outputs": [],
      "source": [
        "#let's transform the train_data\n",
        "x_train = poly_model.fit_transform(x_train)\n",
        "x_test = poly_model.transform(x_test)"
      ]
    },
    {
      "cell_type": "code",
      "execution_count": null,
      "id": "27f4835f",
      "metadata": {
        "id": "27f4835f"
      },
      "outputs": [],
      "source": [
        "model = LinearRegression()\n",
        "#fit the data to the model\n",
        "model.fit(x_train,y_train)"
      ]
    },
    {
      "cell_type": "code",
      "execution_count": null,
      "id": "973a75af",
      "metadata": {
        "id": "973a75af"
      },
      "outputs": [],
      "source": [
        "poly_model.n_output_features_"
      ]
    },
    {
      "cell_type": "code",
      "execution_count": null,
      "id": "5bb7601f",
      "metadata": {
        "id": "5bb7601f"
      },
      "outputs": [],
      "source": [
        "poly_model.get_feature_names_out(x.columns)"
      ]
    },
    {
      "cell_type": "code",
      "execution_count": null,
      "id": "06de08f2",
      "metadata": {
        "id": "06de08f2"
      },
      "outputs": [],
      "source": [
        "import pandas as pd\n",
        "poly_coeffs = pd.DataFrame({'Features':poly_model.get_feature_names_out(x.columns),\n",
        "                           'Coefficients':model.coef_})\n",
        "poly_coeffs"
      ]
    },
    {
      "cell_type": "code",
      "execution_count": null,
      "id": "73369071",
      "metadata": {
        "id": "73369071"
      },
      "outputs": [],
      "source": [
        "#check for predictions and get the metrics\n",
        "poly_pred = model.predict(x_test)"
      ]
    },
    {
      "cell_type": "code",
      "execution_count": null,
      "id": "235793af",
      "metadata": {
        "id": "235793af"
      },
      "outputs": [],
      "source": [
        "print(\"MSE is\",mean_squared_error(y_test,poly_pred))\n",
        "print(\"R-Squared value is\",r2_score(y_test,poly_pred))"
      ]
    },
    {
      "cell_type": "code",
      "execution_count": null,
      "id": "0f00283b",
      "metadata": {
        "id": "0f00283b"
      },
      "outputs": [],
      "source": [
        "from sklearn.model_selection import cross_val_score\n",
        "degrees = [1,2,3,4,5,6,7,8,9,10]\n",
        "for i in degrees:\n",
        "    polynomial_features = PolynomialFeatures(degree=i)\n",
        "    x_poly = polynomial_features.fit_transform(x_train)\n",
        "    model = LinearRegression()\n",
        "    # Use cross-validation to assess performance\n",
        "    scores = cross_val_score(model, x_poly, y_train,\n",
        "                             scoring='neg_mean_squared_error',\n",
        "                             cv=5)#5-fold validation\n",
        "    print(f\"Degree {i}: Mean Squared Error: {-np.mean(scores)}\")"
      ]
    }
  ],
  "metadata": {
    "kernelspec": {
      "display_name": "Python 3 (ipykernel)",
      "language": "python",
      "name": "python3"
    },
    "language_info": {
      "codemirror_mode": {
        "name": "ipython",
        "version": 3
      },
      "file_extension": ".py",
      "mimetype": "text/x-python",
      "name": "python",
      "nbconvert_exporter": "python",
      "pygments_lexer": "ipython3",
      "version": "3.10.7"
    },
    "colab": {
      "provenance": [],
      "include_colab_link": true
    }
  },
  "nbformat": 4,
  "nbformat_minor": 5
}