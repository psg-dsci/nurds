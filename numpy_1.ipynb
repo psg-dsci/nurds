{
  "nbformat": 4,
  "nbformat_minor": 0,
  "metadata": {
    "colab": {
      "provenance": [],
      "authorship_tag": "ABX9TyNVIa86Bz+qB2hlsZkdRosh",
      "include_colab_link": true
    },
    "kernelspec": {
      "name": "python3",
      "display_name": "Python 3"
    },
    "language_info": {
      "name": "python"
    }
  },
  "cells": [
    {
      "cell_type": "markdown",
      "metadata": {
        "id": "view-in-github",
        "colab_type": "text"
      },
      "source": [
        "<a href=\"https://colab.research.google.com/github/psg-dsci/nurds/blob/main/numpy_1.ipynb\" target=\"_parent\"><img src=\"https://colab.research.google.com/assets/colab-badge.svg\" alt=\"Open In Colab\"/></a>"
      ]
    },
    {
      "cell_type": "code",
      "execution_count": null,
      "metadata": {
        "id": "N9CiVbNIIJf8"
      },
      "outputs": [],
      "source": [
        "import numpy as np\n"
      ]
    },
    {
      "cell_type": "code",
      "source": [
        "my_list = [1, 2, 3, 4, 5]\n",
        "my_array = np.array(my_list)\n"
      ],
      "metadata": {
        "id": "6glEbfIbIhGW"
      },
      "execution_count": null,
      "outputs": []
    },
    {
      "cell_type": "code",
      "source": [
        "my_range_array = np.arange(1, 10, 2)\n"
      ],
      "metadata": {
        "id": "RZQsNnXcXlsH"
      },
      "execution_count": null,
      "outputs": []
    },
    {
      "cell_type": "code",
      "source": [
        "lin_space_array = np.linspace(0, 10, 5)  # 5 equally spaced points from 0 to 10\n",
        "print(lin_space_array)\n"
      ],
      "metadata": {
        "colab": {
          "base_uri": "https://localhost:8080/"
        },
        "id": "aVtVcSHcXn6V",
        "outputId": "072ed94e-8831-430b-8ffe-56d5d2477923"
      },
      "execution_count": null,
      "outputs": [
        {
          "output_type": "stream",
          "name": "stdout",
          "text": [
            "[ 0.   2.5  5.   7.5 10. ]\n"
          ]
        }
      ]
    },
    {
      "cell_type": "code",
      "source": [
        "identity_matrix = np.eye(3)  # 3x3 identity matrix\n",
        "print(identity_matrix)\n"
      ],
      "metadata": {
        "colab": {
          "base_uri": "https://localhost:8080/"
        },
        "id": "LTSAxK-MXqAM",
        "outputId": "ed5b7b5c-167a-413a-f831-a498277fd15e"
      },
      "execution_count": null,
      "outputs": [
        {
          "output_type": "stream",
          "name": "stdout",
          "text": [
            "[[1. 0. 0.]\n",
            " [0. 1. 0.]\n",
            " [0. 0. 1.]]\n"
          ]
        }
      ]
    },
    {
      "cell_type": "code",
      "source": [
        "random_uniform_array = np.random.rand(2, 2)  # 2x2 array of random numbers between 0 and 1\n",
        "print(random_uniform_array)\n"
      ],
      "metadata": {
        "colab": {
          "base_uri": "https://localhost:8080/"
        },
        "id": "v9Vpoa13Xr-s",
        "outputId": "8281682e-89b0-4f3d-8f2a-fd9fb374d0ca"
      },
      "execution_count": null,
      "outputs": [
        {
          "output_type": "stream",
          "name": "stdout",
          "text": [
            "[[0.38067268 0.61772073]\n",
            " [0.59855731 0.5589222 ]]\n"
          ]
        }
      ]
    },
    {
      "cell_type": "code",
      "source": [
        "random_normal_array = np.random.randn(3, 3)  # 3x3 array of random numbers from a normal distribution\n",
        "print(random_normal_array)\n"
      ],
      "metadata": {
        "colab": {
          "base_uri": "https://localhost:8080/"
        },
        "id": "IbPSphr_XvIf",
        "outputId": "645afa46-838b-4c19-92f7-791b655f5da2"
      },
      "execution_count": null,
      "outputs": [
        {
          "output_type": "stream",
          "name": "stdout",
          "text": [
            "[[ 0.30687809  0.08516492 -1.1823436 ]\n",
            " [ 0.90060654  1.6999505  -0.5636604 ]\n",
            " [-0.7877466   1.10537342 -0.41537362]]\n"
          ]
        }
      ]
    },
    {
      "cell_type": "code",
      "source": [
        "arr = np.arange(1, 10)\n",
        "reshaped_array = arr.reshape((3, 3))  # Reshaping arr to a 3x3 array\n",
        "print(reshaped_array)\n"
      ],
      "metadata": {
        "colab": {
          "base_uri": "https://localhost:8080/"
        },
        "id": "FV7HsNeNXxa2",
        "outputId": "98b144e8-b566-4faf-e0af-c74503a048c0"
      },
      "execution_count": null,
      "outputs": [
        {
          "output_type": "stream",
          "name": "stdout",
          "text": [
            "[[1 2 3]\n",
            " [4 5 6]\n",
            " [7 8 9]]\n"
          ]
        }
      ]
    },
    {
      "cell_type": "code",
      "source": [
        "arr = np.array([1, 3, 5, 7, 9])\n",
        "print(np.max(arr))  # Output: 9\n",
        "print(np.min(arr))  # Output: 1\n"
      ],
      "metadata": {
        "colab": {
          "base_uri": "https://localhost:8080/"
        },
        "id": "vZNaNcGzXzcg",
        "outputId": "0ae2061c-ed00-4adb-a311-52d1c6b74144"
      },
      "execution_count": null,
      "outputs": [
        {
          "output_type": "stream",
          "name": "stdout",
          "text": [
            "9\n",
            "1\n"
          ]
        }
      ]
    },
    {
      "cell_type": "code",
      "source": [
        "arr = np.array([1, 3, 5, 7, 9])\n",
        "print(np.argmax(arr))  # Output: 4 (index of the maximum element)\n",
        "print(np.argmin(arr))  # Output: 0 (index of the minimum element)\n"
      ],
      "metadata": {
        "colab": {
          "base_uri": "https://localhost:8080/"
        },
        "id": "rAHNB1UVX3r8",
        "outputId": "ad8780a8-e847-44a7-953b-afcb297a410e"
      },
      "execution_count": null,
      "outputs": [
        {
          "output_type": "stream",
          "name": "stdout",
          "text": [
            "4\n",
            "0\n"
          ]
        }
      ]
    },
    {
      "cell_type": "code",
      "source": [
        "arr = np.array([[1, 2, 3], [4, 5, 6], [7, 8, 9]])\n",
        "slice_array = arr[:2, 1:]\n",
        "print(slice_array)\n"
      ],
      "metadata": {
        "colab": {
          "base_uri": "https://localhost:8080/"
        },
        "id": "emzr6OmGX6je",
        "outputId": "4db22aa2-c801-42fd-df86-37a44cf55cff"
      },
      "execution_count": null,
      "outputs": [
        {
          "output_type": "stream",
          "name": "stdout",
          "text": [
            "[[2 3]\n",
            " [5 6]]\n"
          ]
        }
      ]
    },
    {
      "cell_type": "code",
      "source": [
        "arr = np.array([1, 2, 3])\n",
        "print(np.sqrt(arr))\n",
        "print(np.exp(arr))\n",
        "print(np.sin(arr))\n",
        "print(np.cos(arr))\n",
        "print(np.log(arr))\n"
      ],
      "metadata": {
        "colab": {
          "base_uri": "https://localhost:8080/"
        },
        "id": "FQhRwVfZX_7G",
        "outputId": "61c75933-5797-45e5-d427-f6af7505f96a"
      },
      "execution_count": null,
      "outputs": [
        {
          "output_type": "stream",
          "name": "stdout",
          "text": [
            "[1.         1.41421356 1.73205081]\n",
            "[ 2.71828183  7.3890561  20.08553692]\n",
            "[0.84147098 0.90929743 0.14112001]\n",
            "[ 0.54030231 -0.41614684 -0.9899925 ]\n",
            "[0.         0.69314718 1.09861229]\n"
          ]
        }
      ]
    }
  ]
}