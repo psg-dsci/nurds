{
  "nbformat": 4,
  "nbformat_minor": 0,
  "metadata": {
    "colab": {
      "provenance": [],
      "authorship_tag": "ABX9TyPd1LDKcK9Jx8dGGqYcGw/1",
      "include_colab_link": true
    },
    "kernelspec": {
      "name": "python3",
      "display_name": "Python 3"
    },
    "language_info": {
      "name": "python"
    }
  },
  "cells": [
    {
      "cell_type": "markdown",
      "metadata": {
        "id": "view-in-github",
        "colab_type": "text"
      },
      "source": [
        "<a href=\"https://colab.research.google.com/github/psg-dsci/nurds/blob/main/pandas.ipynb\" target=\"_parent\"><img src=\"https://colab.research.google.com/assets/colab-badge.svg\" alt=\"Open In Colab\"/></a>"
      ]
    },
    {
      "cell_type": "code",
      "execution_count": null,
      "metadata": {
        "id": "F_238OBbZCxI"
      },
      "outputs": [],
      "source": [
        "import pandas as pd\n",
        "import numpy as np"
      ]
    },
    {
      "cell_type": "code",
      "source": [
        "# First way - default indices\n",
        "series1 = pd.Series([1, 2, 3, 4, 5])\n",
        "\n",
        "# Second way - custom indices\n",
        "series2 = pd.Series([1, 2, 3, 4, 5], index=['a', 'b', 'c', 'd', 'e'])\n",
        "\n",
        "# Third way - from dictionary\n",
        "data = {'a': 1, 'b': 2, 'c': 3, 'd': 4, 'e': 5}\n",
        "series3 = pd.Series(data)\n",
        "\n",
        "# Fourth way - using a list with default indices\n",
        "series4 = pd.Series([10, 20, 30, 40, 50])\n",
        "\n",
        "print(series1)\n",
        "print(series2)\n",
        "print(series3)\n",
        "print(series4)\n"
      ],
      "metadata": {
        "colab": {
          "base_uri": "https://localhost:8080/"
        },
        "id": "MwVJH6z8ZJQF",
        "outputId": "ec98a83d-26a2-4c20-a37a-737427c7142f"
      },
      "execution_count": null,
      "outputs": [
        {
          "output_type": "stream",
          "name": "stdout",
          "text": [
            "0    1\n",
            "1    2\n",
            "2    3\n",
            "3    4\n",
            "4    5\n",
            "dtype: int64\n",
            "a    1\n",
            "b    2\n",
            "c    3\n",
            "d    4\n",
            "e    5\n",
            "dtype: int64\n",
            "a    1\n",
            "b    2\n",
            "c    3\n",
            "d    4\n",
            "e    5\n",
            "dtype: int64\n",
            "0    10\n",
            "1    20\n",
            "2    30\n",
            "3    40\n",
            "4    50\n",
            "dtype: int64\n"
          ]
        }
      ]
    },
    {
      "cell_type": "code",
      "source": [
        "data = np.random.randn(5, 4)\n",
        "df = pd.DataFrame(data, index=['A', 'B', 'C', 'D', 'E'], columns=['W', 'X', 'Y', 'Z'])\n",
        "print(df)"
      ],
      "metadata": {
        "colab": {
          "base_uri": "https://localhost:8080/"
        },
        "id": "WsoP9OF9ZP4c",
        "outputId": "748ce33a-d515-4eb4-b165-9b8b6f754757"
      },
      "execution_count": null,
      "outputs": [
        {
          "output_type": "stream",
          "name": "stdout",
          "text": [
            "          W         X         Y         Z\n",
            "A -1.666933 -0.486213  0.715462  1.548926\n",
            "B -0.001888 -0.217308  0.035424  0.018969\n",
            "C  0.482270  0.363567 -0.686211  0.150149\n",
            "D  0.310280 -1.778497 -0.054540 -1.324711\n",
            "E -0.252969 -0.467639  2.396828 -1.981178\n"
          ]
        }
      ]
    },
    {
      "cell_type": "code",
      "source": [
        "print(df['W'])  # or df.W\n",
        "print(df[['W', 'Z']])\n"
      ],
      "metadata": {
        "colab": {
          "base_uri": "https://localhost:8080/"
        },
        "id": "dncObYljZRYC",
        "outputId": "1be97307-112c-4407-fda0-302c30abfad3"
      },
      "execution_count": null,
      "outputs": [
        {
          "output_type": "stream",
          "name": "stdout",
          "text": [
            "A   -1.666933\n",
            "B   -0.001888\n",
            "C    0.482270\n",
            "D    0.310280\n",
            "E   -0.252969\n",
            "Name: W, dtype: float64\n",
            "          W         Z\n",
            "A -1.666933  1.548926\n",
            "B -0.001888  0.018969\n",
            "C  0.482270  0.150149\n",
            "D  0.310280 -1.324711\n",
            "E -0.252969 -1.981178\n"
          ]
        }
      ]
    },
    {
      "cell_type": "code",
      "source": [
        "df['New'] = np.random.randn(5)\n",
        "print(df)\n"
      ],
      "metadata": {
        "colab": {
          "base_uri": "https://localhost:8080/"
        },
        "id": "3iqq3xYMZX0H",
        "outputId": "a6f2f37f-24a1-4a42-c222-ac82636158c6"
      },
      "execution_count": null,
      "outputs": [
        {
          "output_type": "stream",
          "name": "stdout",
          "text": [
            "          W         X         Y         Z       New\n",
            "A -1.666933 -0.486213  0.715462  1.548926 -0.341464\n",
            "B -0.001888 -0.217308  0.035424  0.018969  0.179963\n",
            "C  0.482270  0.363567 -0.686211  0.150149 -0.029747\n",
            "D  0.310280 -1.778497 -0.054540 -1.324711 -1.190185\n",
            "E -0.252969 -0.467639  2.396828 -1.981178 -1.384579\n"
          ]
        }
      ]
    },
    {
      "cell_type": "code",
      "source": [
        "# Dropping rows\n",
        "df.drop('A', axis=0, inplace=True)\n",
        "\n",
        "# Dropping columns\n",
        "df.drop('New', axis=1, inplace=True)\n",
        "\n",
        "print(df)\n"
      ],
      "metadata": {
        "colab": {
          "base_uri": "https://localhost:8080/"
        },
        "id": "r_6_rhEsZdfY",
        "outputId": "b52ad6a3-6e69-4431-ef5d-dc4d6a16ff05"
      },
      "execution_count": null,
      "outputs": [
        {
          "output_type": "stream",
          "name": "stdout",
          "text": [
            "          W         X         Y         Z\n",
            "B -0.001888 -0.217308  0.035424  0.018969\n",
            "C  0.482270  0.363567 -0.686211  0.150149\n",
            "D  0.310280 -1.778497 -0.054540 -1.324711\n",
            "E -0.252969 -0.467639  2.396828 -1.981178\n"
          ]
        }
      ]
    },
    {
      "cell_type": "code",
      "source": [
        "print(df.loc[['B', 'C'], ['W', 'Y']])\n",
        "print(df.iloc[[1, 2], [0, 2]])\n"
      ],
      "metadata": {
        "colab": {
          "base_uri": "https://localhost:8080/"
        },
        "id": "xsTmZIWhZhRr",
        "outputId": "9301e16d-19d7-47b6-a51e-7c2ab18ce4e1"
      },
      "execution_count": null,
      "outputs": [
        {
          "output_type": "stream",
          "name": "stdout",
          "text": [
            "          W         Y\n",
            "B -0.001888  0.035424\n",
            "C  0.482270 -0.686211\n",
            "         W         Y\n",
            "C  0.48227 -0.686211\n",
            "D  0.31028 -0.054540\n"
          ]
        }
      ]
    },
    {
      "cell_type": "code",
      "source": [
        "print(df.reset_index())\n",
        "print(df.set_index('X'))\n"
      ],
      "metadata": {
        "colab": {
          "base_uri": "https://localhost:8080/"
        },
        "id": "c-fK8q05Zhqm",
        "outputId": "0ab97ab6-3834-4ff8-e74a-a87c4f8191f8"
      },
      "execution_count": null,
      "outputs": [
        {
          "output_type": "stream",
          "name": "stdout",
          "text": [
            "  index         W         X         Y         Z\n",
            "0     B -0.001888 -0.217308  0.035424  0.018969\n",
            "1     C  0.482270  0.363567 -0.686211  0.150149\n",
            "2     D  0.310280 -1.778497 -0.054540 -1.324711\n",
            "3     E -0.252969 -0.467639  2.396828 -1.981178\n",
            "                  W         Y         Z\n",
            "X                                      \n",
            "-0.217308 -0.001888  0.035424  0.018969\n",
            " 0.363567  0.482270 -0.686211  0.150149\n",
            "-1.778497  0.310280 -0.054540 -1.324711\n",
            "-0.467639 -0.252969  2.396828 -1.981178\n"
          ]
        }
      ]
    },
    {
      "cell_type": "code",
      "source": [
        "# Creating a DataFrame with hierarchical indices\n",
        "df = pd.DataFrame(np.random.randn(6, 4), index=pd.MultiIndex.from_tuples([('G1', 1), ('G1', 2), ('G2', 1), ('G2', 2), ('G3', 1), ('G3', 2)]), columns=['A', 'B', 'C', 'D'])\n",
        "\n",
        "print(df)\n"
      ],
      "metadata": {
        "colab": {
          "base_uri": "https://localhost:8080/"
        },
        "id": "EOycHdJ0Zn9Z",
        "outputId": "3bc50e4b-ca9f-4cc1-f7e4-3479e92d9dbf"
      },
      "execution_count": null,
      "outputs": [
        {
          "output_type": "stream",
          "name": "stdout",
          "text": [
            "             A         B         C         D\n",
            "G1 1  0.861947  1.011935 -0.137301 -0.265021\n",
            "   2 -0.300259  0.158694 -0.352546  0.492953\n",
            "G2 1  0.564322  0.509015 -2.202127  0.348509\n",
            "   2  1.077482 -1.084256  0.958016 -0.028033\n",
            "G3 1 -0.367900  0.868599  1.164602  0.167400\n",
            "   2  0.423387  1.284925 -1.314393 -1.739271\n"
          ]
        }
      ]
    },
    {
      "cell_type": "code",
      "source": [
        "# Dropping rows with null values\n",
        "print(df.dropna())\n",
        "\n",
        "# Filling null values with mean\n",
        "print(df.fillna(df.mean()))\n"
      ],
      "metadata": {
        "colab": {
          "base_uri": "https://localhost:8080/"
        },
        "id": "jE922hmdZshg",
        "outputId": "a73262cd-c496-4fa8-a593-ec115b7159d8"
      },
      "execution_count": null,
      "outputs": [
        {
          "output_type": "stream",
          "name": "stdout",
          "text": [
            "             A         B         C         D\n",
            "G1 1  0.861947  1.011935 -0.137301 -0.265021\n",
            "   2 -0.300259  0.158694 -0.352546  0.492953\n",
            "G2 1  0.564322  0.509015 -2.202127  0.348509\n",
            "   2  1.077482 -1.084256  0.958016 -0.028033\n",
            "G3 1 -0.367900  0.868599  1.164602  0.167400\n",
            "   2  0.423387  1.284925 -1.314393 -1.739271\n",
            "             A         B         C         D\n",
            "G1 1  0.861947  1.011935 -0.137301 -0.265021\n",
            "   2 -0.300259  0.158694 -0.352546  0.492953\n",
            "G2 1  0.564322  0.509015 -2.202127  0.348509\n",
            "   2  1.077482 -1.084256  0.958016 -0.028033\n",
            "G3 1 -0.367900  0.868599  1.164602  0.167400\n",
            "   2  0.423387  1.284925 -1.314393 -1.739271\n"
          ]
        }
      ]
    },
    {
      "cell_type": "code",
      "source": [
        "# Grouping by 'Company' column and taking mean\n",
        "print(df.groupby('Company').mean())\n",
        "\n",
        "# Concatenating two DataFrames\n",
        "df1 = pd.DataFrame({'A': ['A1', 'A2', 'A3'], 'B': ['B1', 'B2', 'B3']})\n",
        "df2 = pd.DataFrame({'A': ['A4', 'A5', 'A6'], 'B': ['B4', 'B5', 'B6']})\n",
        "print(pd.concat([df1, df2]))\n"
      ],
      "metadata": {
        "colab": {
          "base_uri": "https://localhost:8080/",
          "height": 373
        },
        "id": "HiJwPDBzZtMP",
        "outputId": "7b7d5ca8-69d2-400a-914b-2beba23a6693"
      },
      "execution_count": null,
      "outputs": [
        {
          "output_type": "error",
          "ename": "KeyError",
          "evalue": "'Company'",
          "traceback": [
            "\u001b[0;31m---------------------------------------------------------------------------\u001b[0m",
            "\u001b[0;31mKeyError\u001b[0m                                  Traceback (most recent call last)",
            "\u001b[0;32m<ipython-input-11-0a59c04eb4eb>\u001b[0m in \u001b[0;36m<cell line: 2>\u001b[0;34m()\u001b[0m\n\u001b[1;32m      1\u001b[0m \u001b[0;31m# Grouping by 'Company' column and taking mean\u001b[0m\u001b[0;34m\u001b[0m\u001b[0;34m\u001b[0m\u001b[0m\n\u001b[0;32m----> 2\u001b[0;31m \u001b[0mprint\u001b[0m\u001b[0;34m(\u001b[0m\u001b[0mdf\u001b[0m\u001b[0;34m.\u001b[0m\u001b[0mgroupby\u001b[0m\u001b[0;34m(\u001b[0m\u001b[0;34m'Company'\u001b[0m\u001b[0;34m)\u001b[0m\u001b[0;34m.\u001b[0m\u001b[0mmean\u001b[0m\u001b[0;34m(\u001b[0m\u001b[0;34m)\u001b[0m\u001b[0;34m)\u001b[0m\u001b[0;34m\u001b[0m\u001b[0;34m\u001b[0m\u001b[0m\n\u001b[0m\u001b[1;32m      3\u001b[0m \u001b[0;34m\u001b[0m\u001b[0m\n\u001b[1;32m      4\u001b[0m \u001b[0;31m# Concatenating two DataFrames\u001b[0m\u001b[0;34m\u001b[0m\u001b[0;34m\u001b[0m\u001b[0m\n\u001b[1;32m      5\u001b[0m \u001b[0mdf1\u001b[0m \u001b[0;34m=\u001b[0m \u001b[0mpd\u001b[0m\u001b[0;34m.\u001b[0m\u001b[0mDataFrame\u001b[0m\u001b[0;34m(\u001b[0m\u001b[0;34m{\u001b[0m\u001b[0;34m'A'\u001b[0m\u001b[0;34m:\u001b[0m \u001b[0;34m[\u001b[0m\u001b[0;34m'A1'\u001b[0m\u001b[0;34m,\u001b[0m \u001b[0;34m'A2'\u001b[0m\u001b[0;34m,\u001b[0m \u001b[0;34m'A3'\u001b[0m\u001b[0;34m]\u001b[0m\u001b[0;34m,\u001b[0m \u001b[0;34m'B'\u001b[0m\u001b[0;34m:\u001b[0m \u001b[0;34m[\u001b[0m\u001b[0;34m'B1'\u001b[0m\u001b[0;34m,\u001b[0m \u001b[0;34m'B2'\u001b[0m\u001b[0;34m,\u001b[0m \u001b[0;34m'B3'\u001b[0m\u001b[0;34m]\u001b[0m\u001b[0;34m}\u001b[0m\u001b[0;34m)\u001b[0m\u001b[0;34m\u001b[0m\u001b[0;34m\u001b[0m\u001b[0m\n",
            "\u001b[0;32m/usr/local/lib/python3.10/dist-packages/pandas/core/frame.py\u001b[0m in \u001b[0;36mgroupby\u001b[0;34m(self, by, axis, level, as_index, sort, group_keys, squeeze, observed, dropna)\u001b[0m\n\u001b[1;32m   8400\u001b[0m         \u001b[0maxis\u001b[0m \u001b[0;34m=\u001b[0m \u001b[0mself\u001b[0m\u001b[0;34m.\u001b[0m\u001b[0m_get_axis_number\u001b[0m\u001b[0;34m(\u001b[0m\u001b[0maxis\u001b[0m\u001b[0;34m)\u001b[0m\u001b[0;34m\u001b[0m\u001b[0;34m\u001b[0m\u001b[0m\n\u001b[1;32m   8401\u001b[0m \u001b[0;34m\u001b[0m\u001b[0m\n\u001b[0;32m-> 8402\u001b[0;31m         return DataFrameGroupBy(\n\u001b[0m\u001b[1;32m   8403\u001b[0m             \u001b[0mobj\u001b[0m\u001b[0;34m=\u001b[0m\u001b[0mself\u001b[0m\u001b[0;34m,\u001b[0m\u001b[0;34m\u001b[0m\u001b[0;34m\u001b[0m\u001b[0m\n\u001b[1;32m   8404\u001b[0m             \u001b[0mkeys\u001b[0m\u001b[0;34m=\u001b[0m\u001b[0mby\u001b[0m\u001b[0;34m,\u001b[0m\u001b[0;34m\u001b[0m\u001b[0;34m\u001b[0m\u001b[0m\n",
            "\u001b[0;32m/usr/local/lib/python3.10/dist-packages/pandas/core/groupby/groupby.py\u001b[0m in \u001b[0;36m__init__\u001b[0;34m(self, obj, keys, axis, level, grouper, exclusions, selection, as_index, sort, group_keys, squeeze, observed, mutated, dropna)\u001b[0m\n\u001b[1;32m    963\u001b[0m             \u001b[0;32mfrom\u001b[0m \u001b[0mpandas\u001b[0m\u001b[0;34m.\u001b[0m\u001b[0mcore\u001b[0m\u001b[0;34m.\u001b[0m\u001b[0mgroupby\u001b[0m\u001b[0;34m.\u001b[0m\u001b[0mgrouper\u001b[0m \u001b[0;32mimport\u001b[0m \u001b[0mget_grouper\u001b[0m\u001b[0;34m\u001b[0m\u001b[0;34m\u001b[0m\u001b[0m\n\u001b[1;32m    964\u001b[0m \u001b[0;34m\u001b[0m\u001b[0m\n\u001b[0;32m--> 965\u001b[0;31m             grouper, exclusions, obj = get_grouper(\n\u001b[0m\u001b[1;32m    966\u001b[0m                 \u001b[0mobj\u001b[0m\u001b[0;34m,\u001b[0m\u001b[0;34m\u001b[0m\u001b[0;34m\u001b[0m\u001b[0m\n\u001b[1;32m    967\u001b[0m                 \u001b[0mkeys\u001b[0m\u001b[0;34m,\u001b[0m\u001b[0;34m\u001b[0m\u001b[0;34m\u001b[0m\u001b[0m\n",
            "\u001b[0;32m/usr/local/lib/python3.10/dist-packages/pandas/core/groupby/grouper.py\u001b[0m in \u001b[0;36mget_grouper\u001b[0;34m(obj, key, axis, level, sort, observed, mutated, validate, dropna)\u001b[0m\n\u001b[1;32m    886\u001b[0m                 \u001b[0min_axis\u001b[0m\u001b[0;34m,\u001b[0m \u001b[0mlevel\u001b[0m\u001b[0;34m,\u001b[0m \u001b[0mgpr\u001b[0m \u001b[0;34m=\u001b[0m \u001b[0;32mFalse\u001b[0m\u001b[0;34m,\u001b[0m \u001b[0mgpr\u001b[0m\u001b[0;34m,\u001b[0m \u001b[0;32mNone\u001b[0m\u001b[0;34m\u001b[0m\u001b[0;34m\u001b[0m\u001b[0m\n\u001b[1;32m    887\u001b[0m             \u001b[0;32melse\u001b[0m\u001b[0;34m:\u001b[0m\u001b[0;34m\u001b[0m\u001b[0;34m\u001b[0m\u001b[0m\n\u001b[0;32m--> 888\u001b[0;31m                 \u001b[0;32mraise\u001b[0m \u001b[0mKeyError\u001b[0m\u001b[0;34m(\u001b[0m\u001b[0mgpr\u001b[0m\u001b[0;34m)\u001b[0m\u001b[0;34m\u001b[0m\u001b[0;34m\u001b[0m\u001b[0m\n\u001b[0m\u001b[1;32m    889\u001b[0m         \u001b[0;32melif\u001b[0m \u001b[0misinstance\u001b[0m\u001b[0;34m(\u001b[0m\u001b[0mgpr\u001b[0m\u001b[0;34m,\u001b[0m \u001b[0mGrouper\u001b[0m\u001b[0;34m)\u001b[0m \u001b[0;32mand\u001b[0m \u001b[0mgpr\u001b[0m\u001b[0;34m.\u001b[0m\u001b[0mkey\u001b[0m \u001b[0;32mis\u001b[0m \u001b[0;32mnot\u001b[0m \u001b[0;32mNone\u001b[0m\u001b[0;34m:\u001b[0m\u001b[0;34m\u001b[0m\u001b[0;34m\u001b[0m\u001b[0m\n\u001b[1;32m    890\u001b[0m             \u001b[0;31m# Add key to exclusions\u001b[0m\u001b[0;34m\u001b[0m\u001b[0;34m\u001b[0m\u001b[0m\n",
            "\u001b[0;31mKeyError\u001b[0m: 'Company'"
          ]
        }
      ]
    },
    {
      "cell_type": "code",
      "source": [
        "# Finding unique values in a column\n",
        "print(df['Column'].unique())\n",
        "\n",
        "# Finding number of unique values in a column\n",
        "print(df['Column'].nunique())\n",
        "\n",
        "# Applying a function to DataFrame values\n",
        "print(df.apply(np.sqrt))\n",
        "\n",
        "# Sorting DataFrame by a column\n",
        "print(df.sort_values('Column'))\n",
        "\n",
        "# Checking for null values\n",
        "print(df.isnull())\n",
        "\n",
        "# Creating a pivot table\n",
        "print(pd.pivot_table(df, values='Values', index='Index', columns='Columns'))\n",
        "\n",
        "# Sampling from DataFrame\n",
        "print(df.sample(5))\n"
      ],
      "metadata": {
        "id": "HD9IdUdJZvlA"
      },
      "execution_count": null,
      "outputs": []
    }
  ]
}